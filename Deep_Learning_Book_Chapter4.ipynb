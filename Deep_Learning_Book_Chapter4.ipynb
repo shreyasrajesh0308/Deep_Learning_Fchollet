{
  "nbformat": 4,
  "nbformat_minor": 0,
  "metadata": {
    "colab": {
      "name": "Deep_Learning_Book_Chapter4.ipynb",
      "provenance": [],
      "authorship_tag": "ABX9TyNu47lAROt0t1nnOBz8o6As",
      "include_colab_link": true
    },
    "kernelspec": {
      "name": "python3",
      "display_name": "Python 3"
    },
    "language_info": {
      "name": "python"
    }
  },
  "cells": [
    {
      "cell_type": "markdown",
      "metadata": {
        "id": "view-in-github",
        "colab_type": "text"
      },
      "source": [
        "<a href=\"https://colab.research.google.com/github/shreyasrajesh0308/Deep_Learning/blob/master/Deep_Learning_Book_Chapter4.ipynb\" target=\"_parent\"><img src=\"https://colab.research.google.com/assets/colab-badge.svg\" alt=\"Open In Colab\"/></a>"
      ]
    },
    {
      "cell_type": "markdown",
      "metadata": {
        "id": "I8TkbpUaygvO"
      },
      "source": [
        " # Getting Started with Neural Nets, Classification and Regression"
      ]
    },
    {
      "cell_type": "code",
      "metadata": {
        "id": "yXaoFlZJytmJ"
      },
      "source": [
        ""
      ],
      "execution_count": null,
      "outputs": []
    }
  ]
}