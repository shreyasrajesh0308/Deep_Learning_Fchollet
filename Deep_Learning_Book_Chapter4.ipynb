{
  "nbformat": 4,
  "nbformat_minor": 0,
  "metadata": {
    "colab": {
      "name": "Deep_Learning_Book_Chapter4.ipynb",
      "provenance": [],
      "authorship_tag": "ABX9TyP67P5fP+NxyeioqqwuMz2n",
      "include_colab_link": true
    },
    "kernelspec": {
      "name": "python3",
      "display_name": "Python 3"
    },
    "language_info": {
      "name": "python"
    }
  },
  "cells": [
    {
      "cell_type": "markdown",
      "metadata": {
        "id": "view-in-github",
        "colab_type": "text"
      },
      "source": [
        "<a href=\"https://colab.research.google.com/github/shreyasrajesh0308/Deep_Learning/blob/master/Deep_Learning_Book_Chapter4.ipynb\" target=\"_parent\"><img src=\"https://colab.research.google.com/assets/colab-badge.svg\" alt=\"Open In Colab\"/></a>"
      ]
    },
    {
      "cell_type": "markdown",
      "metadata": {
        "id": "I8TkbpUaygvO"
      },
      "source": [
        " # Getting Started with Neural Nets, Classification and Regression"
      ]
    },
    {
      "cell_type": "markdown",
      "metadata": {
        "id": "yXaoFlZJytmJ"
      },
      "source": [
        "## Binary Classification "
      ]
    },
    {
      "cell_type": "markdown",
      "metadata": {
        "id": "j9ZNR8UJzRt0"
      },
      "source": [
        "### IMDB Data Classification"
      ]
    },
    {
      "cell_type": "markdown",
      "metadata": {
        "id": "kAC1zVWS068t"
      },
      "source": [
        "Restricting number of words in review to 10000"
      ]
    },
    {
      "cell_type": "code",
      "metadata": {
        "id": "5uj62Z0Yzg9B"
      },
      "source": [
        "from tensorflow.keras.datasets import imdb\n",
        "(train_data, train_labels), (test_data, test_labels) = imdb.load_data(\n",
        "            num_words=10000)"
      ],
      "execution_count": 1,
      "outputs": []
    },
    {
      "cell_type": "markdown",
      "metadata": {
        "id": "6Hve3TCpFzF0"
      },
      "source": [
        ""
      ]
    },
    {
      "cell_type": "markdown",
      "metadata": {
        "id": "H8tm-nC-1JAq"
      },
      "source": [
        "Encoding input data with multi hot encoding to feed into the neural network"
      ]
    },
    {
      "cell_type": "code",
      "metadata": {
        "id": "iTVUYzm7DG2L"
      },
      "source": [
        "import numpy as np \n",
        "\n",
        "def vectorize_sequences(sequences, dimensions=10000):\n",
        "\n",
        "  results = np.zeros((len(sequences), dimensions))\n",
        "\n",
        "  for i, sequence in enumerate(sequences):\n",
        "\n",
        "    for j in sequence:\n",
        "\n",
        "      results[i, j] = 1\n",
        "    \n",
        "  return results\n",
        "\n",
        "x_train = vectorize_sequences(train_data)\n",
        "x_test = vectorize_sequences(test_data)"
      ],
      "execution_count": 2,
      "outputs": []
    },
    {
      "cell_type": "code",
      "metadata": {
        "id": "tlFGFW_KE0q7"
      },
      "source": [
        "y_train = np.asarray(train_labels).astype(\"float32\")\n",
        "y_test = np.asarray(test_labels).astype(\"float32\")"
      ],
      "execution_count": 3,
      "outputs": []
    },
    {
      "cell_type": "markdown",
      "metadata": {
        "id": "3VAA6eRbF6Oy"
      },
      "source": [
        "### Building the Model \n",
        "\n",
        "For the case of vector input to scalar output clasification a stack of Dense layers does the job "
      ]
    },
    {
      "cell_type": "code",
      "metadata": {
        "id": "ichkjCnfG6HT"
      },
      "source": [
        "from tensorflow import keras\n",
        "from tensorflow.keras import layers\n",
        "\n",
        "model = keras.Sequential([\n",
        "  layers.Dense(16, activation = \"relu\"),\n",
        "  layers.Dense(16, activation = \"relu\"),\n",
        "  layers.Dense(1, activation = \"sigmoid\")\n",
        "  ])"
      ],
      "execution_count": 39,
      "outputs": []
    },
    {
      "cell_type": "code",
      "metadata": {
        "id": "LdgSbYkUJiFX"
      },
      "source": [
        "model.compile(optimizer=\"rmsprop\",\n",
        "              loss=\"binary_crossentropy\",\n",
        "              metrics=[\"accuracy\"])"
      ],
      "execution_count": 40,
      "outputs": []
    },
    {
      "cell_type": "markdown",
      "metadata": {
        "id": "Uqh76hNdJ00y"
      },
      "source": [
        "Create a Validation set"
      ]
    },
    {
      "cell_type": "code",
      "metadata": {
        "id": "Zsd93oJwJ8W9"
      },
      "source": [
        "x_val = x_train[:10000]\n",
        "partial_x_train = x_train[10000:]\n",
        "y_val = y_train[:10000]\n",
        "partial_y_train = y_train[10000:]"
      ],
      "execution_count": 7,
      "outputs": []
    },
    {
      "cell_type": "code",
      "metadata": {
        "colab": {
          "base_uri": "https://localhost:8080/"
        },
        "id": "S0s6sfxhK3WM",
        "outputId": "e15649cc-d4cd-4bfc-97e5-e59ab1745ace"
      },
      "source": [
        "y_val.shape"
      ],
      "execution_count": 42,
      "outputs": [
        {
          "output_type": "execute_result",
          "data": {
            "text/plain": [
              "(10000,)"
            ]
          },
          "metadata": {},
          "execution_count": 42
        }
      ]
    },
    {
      "cell_type": "code",
      "metadata": {
        "colab": {
          "base_uri": "https://localhost:8080/"
        },
        "id": "IyDxDgq2J-ho",
        "outputId": "cfb6d81c-73dd-45a6-b4cb-aa865702ceb1"
      },
      "source": [
        "history = model.fit(partial_x_train, partial_y_train, epochs=20, batch_size=512, validation_data=(x_val, y_val))"
      ],
      "execution_count": 43,
      "outputs": [
        {
          "output_type": "stream",
          "name": "stdout",
          "text": [
            "Epoch 1/20\n",
            "30/30 [==============================] - 2s 48ms/step - loss: 0.5192 - accuracy: 0.7920 - val_loss: 0.3956 - val_accuracy: 0.8631\n",
            "Epoch 2/20\n",
            "30/30 [==============================] - 1s 36ms/step - loss: 0.3121 - accuracy: 0.9015 - val_loss: 0.3051 - val_accuracy: 0.8888\n",
            "Epoch 3/20\n",
            "30/30 [==============================] - 1s 35ms/step - loss: 0.2278 - accuracy: 0.9258 - val_loss: 0.2786 - val_accuracy: 0.8909\n",
            "Epoch 4/20\n",
            "30/30 [==============================] - 1s 35ms/step - loss: 0.1778 - accuracy: 0.9424 - val_loss: 0.2770 - val_accuracy: 0.8888\n",
            "Epoch 5/20\n",
            "30/30 [==============================] - 1s 36ms/step - loss: 0.1469 - accuracy: 0.9517 - val_loss: 0.3028 - val_accuracy: 0.8821\n",
            "Epoch 6/20\n",
            "30/30 [==============================] - 1s 36ms/step - loss: 0.1189 - accuracy: 0.9625 - val_loss: 0.2931 - val_accuracy: 0.8861\n",
            "Epoch 7/20\n",
            "30/30 [==============================] - 1s 35ms/step - loss: 0.0980 - accuracy: 0.9706 - val_loss: 0.3094 - val_accuracy: 0.8859\n",
            "Epoch 8/20\n",
            "30/30 [==============================] - 1s 35ms/step - loss: 0.0809 - accuracy: 0.9775 - val_loss: 0.3283 - val_accuracy: 0.8830\n",
            "Epoch 9/20\n",
            "30/30 [==============================] - 1s 35ms/step - loss: 0.0703 - accuracy: 0.9802 - val_loss: 0.3506 - val_accuracy: 0.8827\n",
            "Epoch 10/20\n",
            "30/30 [==============================] - 1s 35ms/step - loss: 0.0543 - accuracy: 0.9864 - val_loss: 0.3831 - val_accuracy: 0.8805\n",
            "Epoch 11/20\n",
            "30/30 [==============================] - 1s 35ms/step - loss: 0.0439 - accuracy: 0.9907 - val_loss: 0.4203 - val_accuracy: 0.8759\n",
            "Epoch 12/20\n",
            "30/30 [==============================] - 1s 35ms/step - loss: 0.0374 - accuracy: 0.9917 - val_loss: 0.4302 - val_accuracy: 0.8789\n",
            "Epoch 13/20\n",
            "30/30 [==============================] - 1s 35ms/step - loss: 0.0280 - accuracy: 0.9945 - val_loss: 0.4874 - val_accuracy: 0.8653\n",
            "Epoch 14/20\n",
            "30/30 [==============================] - 1s 35ms/step - loss: 0.0204 - accuracy: 0.9975 - val_loss: 0.5386 - val_accuracy: 0.8684\n",
            "Epoch 15/20\n",
            "30/30 [==============================] - 1s 36ms/step - loss: 0.0169 - accuracy: 0.9977 - val_loss: 0.5272 - val_accuracy: 0.8731\n",
            "Epoch 16/20\n",
            "30/30 [==============================] - 1s 35ms/step - loss: 0.0126 - accuracy: 0.9990 - val_loss: 0.5662 - val_accuracy: 0.8656\n",
            "Epoch 17/20\n",
            "30/30 [==============================] - 1s 35ms/step - loss: 0.0121 - accuracy: 0.9984 - val_loss: 0.5877 - val_accuracy: 0.8698\n",
            "Epoch 18/20\n",
            "30/30 [==============================] - 1s 35ms/step - loss: 0.0122 - accuracy: 0.9974 - val_loss: 0.6294 - val_accuracy: 0.8697\n",
            "Epoch 19/20\n",
            "30/30 [==============================] - 1s 34ms/step - loss: 0.0045 - accuracy: 0.9999 - val_loss: 0.6458 - val_accuracy: 0.8664\n",
            "Epoch 20/20\n",
            "30/30 [==============================] - 1s 35ms/step - loss: 0.0059 - accuracy: 0.9993 - val_loss: 0.6796 - val_accuracy: 0.8654\n"
          ]
        }
      ]
    },
    {
      "cell_type": "code",
      "metadata": {
        "colab": {
          "base_uri": "https://localhost:8080/"
        },
        "id": "yB2wbDgEKPeI",
        "outputId": "56b822c9-4df4-4708-900b-5468eb477a71"
      },
      "source": [
        "history_dict = history.history\n",
        "history_dict.keys()"
      ],
      "execution_count": 44,
      "outputs": [
        {
          "output_type": "execute_result",
          "data": {
            "text/plain": [
              "dict_keys(['loss', 'accuracy', 'val_loss', 'val_accuracy'])"
            ]
          },
          "metadata": {},
          "execution_count": 44
        }
      ]
    },
    {
      "cell_type": "code",
      "metadata": {
        "colab": {
          "base_uri": "https://localhost:8080/",
          "height": 295
        },
        "id": "jiI99uTkLllr",
        "outputId": "a71aac7f-33f6-4d9a-a353-392182b831a5"
      },
      "source": [
        "import matplotlib.pyplot as plt\n",
        "history_dict = history.history\n",
        "loss_values = history_dict[\"loss\"]\n",
        "val_loss_values = history_dict[\"val_loss\"]\n",
        "epochs = range(1, len(loss_values) + 1)\n",
        "plt.plot(epochs, loss_values, \"bo\", label=\"Training loss\") \n",
        "plt.plot(epochs, val_loss_values, \"b\", label=\"Validation loss\") \n",
        "plt.title(\"Training and validation loss\")\n",
        "plt.xlabel(\"Epochs\")\n",
        "plt.ylabel(\"Loss\")\n",
        "plt.legend()\n",
        "plt.show()"
      ],
      "execution_count": 45,
      "outputs": [
        {
          "output_type": "display_data",
          "data": {
            "image/png": "[encoded data removed]",
            "text/plain": [
              "<Figure size 432x288 with 1 Axes>"
            ]
          },
          "metadata": {
            "needs_background": "light"
          }
        }
      ]
    },
    {
      "cell_type": "code",
      "metadata": {
        "colab": {
          "base_uri": "https://localhost:8080/",
          "height": 295
        },
        "id": "13UPmBEsL20h",
        "outputId": "dedbc4af-63d9-409e-bb50-e23a34179cf7"
      },
      "source": [
        "plt.clf()\n",
        "acc = history_dict[\"accuracy\"]\n",
        "val_acc = history_dict[\"val_accuracy\"]\n",
        "plt.plot(epochs, acc, \"bo\", label=\"Training acc\")\n",
        "plt.plot(epochs, val_acc, \"b\", label=\"Validation acc\")\n",
        "plt.title(\"Training and validation accuracy\")\n",
        "plt.xlabel(\"Epochs\")\n",
        "plt.ylabel(\"Accuracy\")\n",
        "plt.legend()\n",
        "plt.show()"
      ],
      "execution_count": 46,
      "outputs": [
        {
          "output_type": "display_data",
          "data": {
            "image/png": "[encoded data removed]",
            "text/plain": [
              "<Figure size 432x288 with 1 Axes>"
            ]
          },
          "metadata": {
            "needs_background": "light"
          }
        }
      ]
    },
    {
      "cell_type": "markdown",
      "metadata": {
        "id": "N0Va-orpMGbb"
      },
      "source": [
        "We see a clear case of the validation error increasing while the training error goes on decreasing, this is a classic sign of **overfitting**"
      ]
    },
    {
      "cell_type": "markdown",
      "metadata": {
        "id": "RyzpcKPSPrAL"
      },
      "source": [
        "We see that the model learnt well until the 4th epoch, hence training until the 4th epoch we have"
      ]
    },
    {
      "cell_type": "code",
      "metadata": {
        "colab": {
          "base_uri": "https://localhost:8080/"
        },
        "id": "Lba5HYxrP5_U",
        "outputId": "9be30bdc-cb81-4cae-f375-1ccd2111b4ed"
      },
      "source": [
        "model = keras.Sequential([\n",
        "        layers.Dense(16, activation=\"relu\"),\n",
        "        layers.Dense(16, activation=\"relu\"),\n",
        "        layers.Dense(1, activation=\"sigmoid\")\n",
        "        ])\n",
        "\n",
        "model.compile(optimizer=\"rmsprop\", loss=\"binary_crossentropy\", metrics=[\"accuracy\"])\n",
        "model.fit(x_train, y_train, epochs=4, batch_size=512)\n"
      ],
      "execution_count": 48,
      "outputs": [
        {
          "output_type": "stream",
          "name": "stdout",
          "text": [
            "Epoch 1/4\n",
            "49/49 [==============================] - 2s 29ms/step - loss: 0.4697 - accuracy: 0.8198\n",
            "Epoch 2/4\n",
            "49/49 [==============================] - 1s 28ms/step - loss: 0.2677 - accuracy: 0.9079\n",
            "Epoch 3/4\n",
            "49/49 [==============================] - 1s 28ms/step - loss: 0.2055 - accuracy: 0.9286\n",
            "Epoch 4/4\n",
            "49/49 [==============================] - 1s 29ms/step - loss: 0.1727 - accuracy: 0.9391\n"
          ]
        },
        {
          "output_type": "execute_result",
          "data": {
            "text/plain": [
              "<keras.callbacks.History at 0x7fa65a325910>"
            ]
          },
          "metadata": {},
          "execution_count": 48
        }
      ]
    },
    {
      "cell_type": "code",
      "metadata": {
        "colab": {
          "base_uri": "https://localhost:8080/"
        },
        "id": "44Himt0VQhN1",
        "outputId": "09ab80f2-0b41-4cec-e7ab-ece1b500958d"
      },
      "source": [
        "results = model.evaluate(x_test, y_test)"
      ],
      "execution_count": 49,
      "outputs": [
        {
          "output_type": "stream",
          "name": "stdout",
          "text": [
            "782/782 [==============================] - 2s 2ms/step - loss: 0.2886 - accuracy: 0.8855\n"
          ]
        }
      ]
    },
    {
      "cell_type": "markdown",
      "metadata": {
        "id": "xPMH47wRQseO"
      },
      "source": [
        "### Further Experiments"
      ]
    },
    {
      "cell_type": "markdown",
      "metadata": {
        "id": "plNWA0GkQwRb"
      },
      "source": [
        "### Model Architecture with one hidden layer"
      ]
    },
    {
      "cell_type": "code",
      "metadata": {
        "colab": {
          "base_uri": "https://localhost:8080/"
        },
        "id": "sNEnGgXkRBqd",
        "outputId": "a88ebe1c-9625-4eb0-abe7-6b626104f4f8"
      },
      "source": [
        "model = keras.Sequential([\n",
        "                          layers.Dense(16, activation=\"relu\"),\n",
        "                          layers.Dense(1, activation=\"sigmoid\")\n",
        "                          ])\n",
        "model.compile(optimizer=\"rmsprop\", loss=\"binary_crossentropy\", metrics=[\"accuracy\"])\n",
        "history = model.fit(partial_x_train, partial_y_train, epochs=20, batch_size=512, validation_data=(x_val, y_val))"
      ],
      "execution_count": 51,
      "outputs": [
        {
          "output_type": "stream",
          "name": "stdout",
          "text": [
            "Epoch 1/20\n",
            "30/30 [==============================] - 2s 48ms/step - loss: 0.5104 - accuracy: 0.8005 - val_loss: 0.4162 - val_accuracy: 0.8450\n",
            "Epoch 2/20\n",
            "30/30 [==============================] - 1s 36ms/step - loss: 0.3319 - accuracy: 0.8980 - val_loss: 0.3333 - val_accuracy: 0.8795\n",
            "Epoch 3/20\n",
            "30/30 [==============================] - 1s 37ms/step - loss: 0.2575 - accuracy: 0.9239 - val_loss: 0.2942 - val_accuracy: 0.8903\n",
            "Epoch 4/20\n",
            "30/30 [==============================] - 1s 36ms/step - loss: 0.2117 - accuracy: 0.9363 - val_loss: 0.2809 - val_accuracy: 0.8908\n",
            "Epoch 5/20\n",
            "30/30 [==============================] - 1s 36ms/step - loss: 0.1797 - accuracy: 0.9452 - val_loss: 0.2754 - val_accuracy: 0.8889\n",
            "Epoch 6/20\n",
            "30/30 [==============================] - 1s 36ms/step - loss: 0.1548 - accuracy: 0.9536 - val_loss: 0.2795 - val_accuracy: 0.8875\n",
            "Epoch 7/20\n",
            "30/30 [==============================] - 1s 36ms/step - loss: 0.1366 - accuracy: 0.9617 - val_loss: 0.2770 - val_accuracy: 0.8893\n",
            "Epoch 8/20\n",
            "30/30 [==============================] - 1s 36ms/step - loss: 0.1193 - accuracy: 0.9673 - val_loss: 0.2839 - val_accuracy: 0.8871\n",
            "Epoch 9/20\n",
            "30/30 [==============================] - 1s 37ms/step - loss: 0.1055 - accuracy: 0.9711 - val_loss: 0.2916 - val_accuracy: 0.8866\n",
            "Epoch 10/20\n",
            "30/30 [==============================] - 1s 36ms/step - loss: 0.0936 - accuracy: 0.9764 - val_loss: 0.3064 - val_accuracy: 0.8820\n",
            "Epoch 11/20\n",
            "30/30 [==============================] - 1s 36ms/step - loss: 0.0834 - accuracy: 0.9780 - val_loss: 0.3165 - val_accuracy: 0.8807\n",
            "Epoch 12/20\n",
            "30/30 [==============================] - 1s 36ms/step - loss: 0.0733 - accuracy: 0.9826 - val_loss: 0.3281 - val_accuracy: 0.8825\n",
            "Epoch 13/20\n",
            "30/30 [==============================] - 1s 37ms/step - loss: 0.0656 - accuracy: 0.9857 - val_loss: 0.3403 - val_accuracy: 0.8828\n",
            "Epoch 14/20\n",
            "30/30 [==============================] - 1s 37ms/step - loss: 0.0581 - accuracy: 0.9874 - val_loss: 0.3533 - val_accuracy: 0.8806\n",
            "Epoch 15/20\n",
            "30/30 [==============================] - 1s 36ms/step - loss: 0.0526 - accuracy: 0.9884 - val_loss: 0.3680 - val_accuracy: 0.8791\n",
            "Epoch 16/20\n",
            "30/30 [==============================] - 1s 36ms/step - loss: 0.0463 - accuracy: 0.9906 - val_loss: 0.3890 - val_accuracy: 0.8734\n",
            "Epoch 17/20\n",
            "30/30 [==============================] - 1s 36ms/step - loss: 0.0407 - accuracy: 0.9927 - val_loss: 0.4060 - val_accuracy: 0.8769\n",
            "Epoch 18/20\n",
            "30/30 [==============================] - 1s 38ms/step - loss: 0.0353 - accuracy: 0.9942 - val_loss: 0.4193 - val_accuracy: 0.8749\n",
            "Epoch 19/20\n",
            "30/30 [==============================] - 1s 36ms/step - loss: 0.0315 - accuracy: 0.9951 - val_loss: 0.4372 - val_accuracy: 0.8736\n",
            "Epoch 20/20\n",
            "30/30 [==============================] - 1s 36ms/step - loss: 0.0276 - accuracy: 0.9964 - val_loss: 0.4572 - val_accuracy: 0.8732\n"
          ]
        }
      ]
    },
    {
      "cell_type": "markdown",
      "metadata": {
        "id": "hMkVkWjJRcrJ"
      },
      "source": [
        "Validation error starts shooting up at the 5th epoch"
      ]
    },
    {
      "cell_type": "code",
      "metadata": {
        "id": "AN00XbpiSYWu"
      },
      "source": [
        "from tensorflow import keras\n",
        "from tensorflow.keras import layers"
      ],
      "execution_count": 4,
      "outputs": []
    },
    {
      "cell_type": "code",
      "metadata": {
        "colab": {
          "base_uri": "https://localhost:8080/"
        },
        "id": "cM0pdfGQRyYj",
        "outputId": "8a5eb193-c394-402a-cfaf-05087b0a5d97"
      },
      "source": [
        "model = keras.Sequential([\n",
        "                          layers.Dense(16, activation=\"relu\"),\n",
        "                          layers.Dense(1, activation=\"sigmoid\")\n",
        "                          ])\n",
        "model.compile(optimizer=\"rmsprop\", loss=\"binary_crossentropy\", metrics=[\"accuracy\"])\n",
        "history = model.fit(x_train, y_train, epochs=5, batch_size=512)"
      ],
      "execution_count": 5,
      "outputs": [
        {
          "output_type": "stream",
          "name": "stdout",
          "text": [
            "Epoch 1/5\n",
            "49/49 [==============================] - 2s 30ms/step - loss: 0.4379 - accuracy: 0.8354\n",
            "Epoch 2/5\n",
            "49/49 [==============================] - 2s 31ms/step - loss: 0.2755 - accuracy: 0.9068\n",
            "Epoch 3/5\n",
            "49/49 [==============================] - 1s 29ms/step - loss: 0.2189 - accuracy: 0.9258\n",
            "Epoch 4/5\n",
            "49/49 [==============================] - 1s 29ms/step - loss: 0.1864 - accuracy: 0.9350\n",
            "Epoch 5/5\n",
            "49/49 [==============================] - 1s 29ms/step - loss: 0.1641 - accuracy: 0.9438\n"
          ]
        }
      ]
    },
    {
      "cell_type": "code",
      "metadata": {
        "colab": {
          "base_uri": "https://localhost:8080/"
        },
        "id": "e0KTwhVeR5wS",
        "outputId": "fc48437d-0623-40e9-a0c2-ab2ce7e22824"
      },
      "source": [
        "results = model.evaluate(x_test, y_test)"
      ],
      "execution_count": 6,
      "outputs": [
        {
          "output_type": "stream",
          "name": "stdout",
          "text": [
            "782/782 [==============================] - 2s 2ms/step - loss: 0.2868 - accuracy: 0.8852\n"
          ]
        }
      ]
    },
    {
      "cell_type": "markdown",
      "metadata": {
        "id": "oA60xYfHSmMe"
      },
      "source": [
        "#### Model Architecture with 3 Hidden Layers"
      ]
    },
    {
      "cell_type": "code",
      "metadata": {
        "colab": {
          "base_uri": "https://localhost:8080/"
        },
        "id": "_6wRba-RSwWC",
        "outputId": "96068b07-014b-4c69-a5d3-07aeba18e88e"
      },
      "source": [
        "model = keras.Sequential([\n",
        "                          layers.Dense(16, activation=\"relu\"),\n",
        "                          layers.Dense(16, activation=\"relu\"),\n",
        "                          layers.Dense(16, activation=\"relu\"),\n",
        "                          layers.Dense(1, activation=\"sigmoid\")\n",
        "                          ])\n",
        "\n",
        "model.compile(optimizer=\"rmsprop\", loss=\"binary_crossentropy\", metrics=[\"accuracy\"])\n",
        "history = model.fit(partial_x_train, partial_y_train, epochs=20, batch_size=512, validation_data=(x_val, y_val))"
      ],
      "execution_count": 8,
      "outputs": [
        {
          "output_type": "stream",
          "name": "stdout",
          "text": [
            "Epoch 1/20\n",
            "30/30 [==============================] - 2s 47ms/step - loss: 0.5358 - accuracy: 0.7789 - val_loss: 0.4378 - val_accuracy: 0.8219\n",
            "Epoch 2/20\n",
            "30/30 [==============================] - 1s 36ms/step - loss: 0.3106 - accuracy: 0.8993 - val_loss: 0.3076 - val_accuracy: 0.8829\n",
            "Epoch 3/20\n",
            "30/30 [==============================] - 1s 36ms/step - loss: 0.2212 - accuracy: 0.9258 - val_loss: 0.2786 - val_accuracy: 0.8919\n",
            "Epoch 4/20\n",
            "30/30 [==============================] - 1s 36ms/step - loss: 0.1676 - accuracy: 0.9437 - val_loss: 0.2976 - val_accuracy: 0.8826\n",
            "Epoch 5/20\n",
            "30/30 [==============================] - 1s 37ms/step - loss: 0.1376 - accuracy: 0.9543 - val_loss: 0.2878 - val_accuracy: 0.8877\n",
            "Epoch 6/20\n",
            "30/30 [==============================] - 1s 36ms/step - loss: 0.1095 - accuracy: 0.9645 - val_loss: 0.3030 - val_accuracy: 0.8869\n",
            "Epoch 7/20\n",
            "30/30 [==============================] - 1s 37ms/step - loss: 0.0853 - accuracy: 0.9745 - val_loss: 0.3367 - val_accuracy: 0.8837\n",
            "Epoch 8/20\n",
            "30/30 [==============================] - 1s 36ms/step - loss: 0.0736 - accuracy: 0.9766 - val_loss: 0.3545 - val_accuracy: 0.8808\n",
            "Epoch 9/20\n",
            "30/30 [==============================] - 1s 40ms/step - loss: 0.0576 - accuracy: 0.9835 - val_loss: 0.3848 - val_accuracy: 0.8784\n",
            "Epoch 10/20\n",
            "30/30 [==============================] - 1s 40ms/step - loss: 0.0443 - accuracy: 0.9885 - val_loss: 0.4165 - val_accuracy: 0.8768\n",
            "Epoch 11/20\n",
            "30/30 [==============================] - 1s 38ms/step - loss: 0.0363 - accuracy: 0.9904 - val_loss: 0.4494 - val_accuracy: 0.8764\n",
            "Epoch 12/20\n",
            "30/30 [==============================] - 1s 37ms/step - loss: 0.0282 - accuracy: 0.9928 - val_loss: 0.4993 - val_accuracy: 0.8731\n",
            "Epoch 13/20\n",
            "30/30 [==============================] - 1s 37ms/step - loss: 0.0255 - accuracy: 0.9929 - val_loss: 0.5411 - val_accuracy: 0.8745\n",
            "Epoch 14/20\n",
            "30/30 [==============================] - 1s 37ms/step - loss: 0.0103 - accuracy: 0.9989 - val_loss: 0.6058 - val_accuracy: 0.8703\n",
            "Epoch 15/20\n",
            "30/30 [==============================] - 1s 38ms/step - loss: 0.0188 - accuracy: 0.9939 - val_loss: 0.6209 - val_accuracy: 0.8697\n",
            "Epoch 16/20\n",
            "30/30 [==============================] - 1s 37ms/step - loss: 0.0046 - accuracy: 0.9997 - val_loss: 0.6556 - val_accuracy: 0.8702\n",
            "Epoch 17/20\n",
            "30/30 [==============================] - 1s 37ms/step - loss: 0.0146 - accuracy: 0.9958 - val_loss: 0.6897 - val_accuracy: 0.8678\n",
            "Epoch 18/20\n",
            "30/30 [==============================] - 1s 37ms/step - loss: 0.0025 - accuracy: 0.9999 - val_loss: 0.7304 - val_accuracy: 0.8654\n",
            "Epoch 19/20\n",
            "30/30 [==============================] - 1s 37ms/step - loss: 0.0104 - accuracy: 0.9965 - val_loss: 0.7678 - val_accuracy: 0.8668\n",
            "Epoch 20/20\n",
            "30/30 [==============================] - 1s 37ms/step - loss: 0.0014 - accuracy: 0.9999 - val_loss: 0.7940 - val_accuracy: 0.8661\n"
          ]
        }
      ]
    },
    {
      "cell_type": "markdown",
      "metadata": {
        "id": "L1IJVfXqS7tS"
      },
      "source": [
        "Validation error starts shooting up at the 5th epoch"
      ]
    },
    {
      "cell_type": "code",
      "metadata": {
        "colab": {
          "base_uri": "https://localhost:8080/"
        },
        "id": "q5OdfCKBTHzf",
        "outputId": "0927d2c4-d2e1-4b59-c345-d9bb143f4e87"
      },
      "source": [
        "model = keras.Sequential([\n",
        "                          layers.Dense(16, activation=\"relu\"),\n",
        "                          layers.Dense(16, activation=\"relu\"),\n",
        "                          layers.Dense(16, activation=\"relu\"),\n",
        "                          layers.Dense(1, activation=\"sigmoid\")\n",
        "                          ])\n",
        "\n",
        "model.compile(optimizer=\"rmsprop\", loss=\"binary_crossentropy\", metrics=[\"accuracy\"])\n",
        "history = model.fit(x_train, y_train, epochs=5, batch_size=512)"
      ],
      "execution_count": 9,
      "outputs": [
        {
          "output_type": "stream",
          "name": "stdout",
          "text": [
            "Epoch 1/5\n",
            "49/49 [==============================] - 2s 30ms/step - loss: 0.4660 - accuracy: 0.8150\n",
            "Epoch 2/5\n",
            "49/49 [==============================] - 2s 32ms/step - loss: 0.2577 - accuracy: 0.9100\n",
            "Epoch 3/5\n",
            "49/49 [==============================] - 1s 29ms/step - loss: 0.1948 - accuracy: 0.9296\n",
            "Epoch 4/5\n",
            "49/49 [==============================] - 1s 30ms/step - loss: 0.1637 - accuracy: 0.9415\n",
            "Epoch 5/5\n",
            "49/49 [==============================] - 1s 29ms/step - loss: 0.1420 - accuracy: 0.9492\n"
          ]
        }
      ]
    },
    {
      "cell_type": "code",
      "metadata": {
        "colab": {
          "base_uri": "https://localhost:8080/"
        },
        "id": "C_RF5PvLTNhB",
        "outputId": "ad7914fb-e325-4584-a73e-43f21b8b04cf"
      },
      "source": [
        "results = model.evaluate(x_test, y_test)"
      ],
      "execution_count": 10,
      "outputs": [
        {
          "output_type": "stream",
          "name": "stdout",
          "text": [
            "782/782 [==============================] - 2s 2ms/step - loss: 0.3247 - accuracy: 0.8785\n"
          ]
        }
      ]
    },
    {
      "cell_type": "markdown",
      "metadata": {
        "id": "-gnoSxJRTQTi"
      },
      "source": [
        "## MultiClass Classification"
      ]
    },
    {
      "cell_type": "markdown",
      "metadata": {
        "id": "i4RbK0YATemu"
      },
      "source": [
        "Case of multiple output classes but only one correct class for each input i.e **single-label multiclass classification**."
      ]
    },
    {
      "cell_type": "code",
      "metadata": {
        "colab": {
          "base_uri": "https://localhost:8080/"
        },
        "id": "RrM2xruCT0Qz",
        "outputId": "1f55ed8d-2b7d-4df9-8e55-6b470b13f4c9"
      },
      "source": [
        "from tensorflow.keras.datasets import reuters\n",
        "(train_data, train_labels), (test_data, test_labels) = reuters.load_data(\n",
        "            num_words=10000)"
      ],
      "execution_count": 11,
      "outputs": [
        {
          "output_type": "stream",
          "name": "stdout",
          "text": [
            "Downloading data from https://storage.googleapis.com/tensorflow/tf-keras-datasets/reuters.npz\n",
            "2113536/2110848 [==============================] - 0s 0us/step\n",
            "2121728/2110848 [==============================] - 0s 0us/step\n"
          ]
        }
      ]
    },
    {
      "cell_type": "code",
      "metadata": {
        "colab": {
          "base_uri": "https://localhost:8080/"
        },
        "id": "h5eojAWgUEk-",
        "outputId": "6da9c5a1-4dc4-4432-b662-35095ef98304"
      },
      "source": [
        "len(train_data), len(test_data)"
      ],
      "execution_count": 12,
      "outputs": [
        {
          "output_type": "execute_result",
          "data": {
            "text/plain": [
              "(8982, 2246)"
            ]
          },
          "metadata": {},
          "execution_count": 12
        }
      ]
    },
    {
      "cell_type": "markdown",
      "metadata": {
        "id": "iWNrTHs2UNzd"
      },
      "source": [
        "Again the data is of the same format as the Imdb dataset, hence we use "
      ]
    }
  ]
}