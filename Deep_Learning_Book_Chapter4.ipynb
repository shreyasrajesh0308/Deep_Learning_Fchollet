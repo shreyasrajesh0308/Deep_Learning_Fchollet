{
  "nbformat": 4,
  "nbformat_minor": 0,
  "metadata": {
    "colab": {
      "name": "Deep_Learning_Book_Chapter4.ipynb",
      "provenance": [],
      "authorship_tag": "ABX9TyOLNVuKaJLIfYtKRXkkW4vP",
      "include_colab_link": true
    },
    "kernelspec": {
      "name": "python3",
      "display_name": "Python 3"
    },
    "language_info": {
      "name": "python"
    }
  },
  "cells": [
    {
      "cell_type": "markdown",
      "metadata": {
        "id": "view-in-github",
        "colab_type": "text"
      },
      "source": [
        "<a href=\"https://colab.research.google.com/github/shreyasrajesh0308/Deep_Learning/blob/master/Deep_Learning_Book_Chapter4.ipynb\" target=\"_parent\"><img src=\"https://colab.research.google.com/assets/colab-badge.svg\" alt=\"Open In Colab\"/></a>"
      ]
    },
    {
      "cell_type": "markdown",
      "metadata": {
        "id": "I8TkbpUaygvO"
      },
      "source": [
        " # Getting Started with Neural Nets, Classification and Regression"
      ]
    },
    {
      "cell_type": "markdown",
      "metadata": {
        "id": "yXaoFlZJytmJ"
      },
      "source": [
        "## Binary Classification "
      ]
    },
    {
      "cell_type": "markdown",
      "metadata": {
        "id": "j9ZNR8UJzRt0"
      },
      "source": [
        "### IMDB Data Classification"
      ]
    },
    {
      "cell_type": "markdown",
      "metadata": {
        "id": "kAC1zVWS068t"
      },
      "source": [
        "Restricting number of words in review to 10000"
      ]
    },
    {
      "cell_type": "code",
      "metadata": {
        "colab": {
          "base_uri": "https://localhost:8080/"
        },
        "id": "5uj62Z0Yzg9B",
        "outputId": "8b74bada-5a00-4fde-bbd1-79e136c61fc7"
      },
      "source": [
        "from tensorflow.keras.datasets import imdb\n",
        "(train_data, train_labels), (test_data, test_labels) = imdb.load_data(\n",
        "            num_words=10000)"
      ],
      "execution_count": 1,
      "outputs": [
        {
          "output_type": "stream",
          "name": "stdout",
          "text": [
            "Downloading data from https://storage.googleapis.com/tensorflow/tf-keras-datasets/imdb.npz\n",
            "17465344/17464789 [==============================] - 0s 0us/step\n",
            "17473536/17464789 [==============================] - 0s 0us/step\n"
          ]
        }
      ]
    },
    {
      "cell_type": "code",
      "metadata": {
        "id": "H8tm-nC-1JAq"
      },
      "source": [
        ""
      ],
      "execution_count": null,
      "outputs": []
    }
  ]
}