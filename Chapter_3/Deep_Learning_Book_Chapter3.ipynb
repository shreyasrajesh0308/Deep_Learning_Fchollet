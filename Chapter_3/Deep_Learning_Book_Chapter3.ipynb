{
  "nbformat": 4,
  "nbformat_minor": 0,
  "metadata": {
    "colab": {
      "name": "Deep_Learning_Book_Chapter3.ipynb",
      "provenance": [],
      "collapsed_sections": [],
      "authorship_tag": "ABX9TyPjHi1VA8AlevxB+HSW53Aj",
      "include_colab_link": true
    },
    "kernelspec": {
      "name": "python3",
      "display_name": "Python 3"
    },
    "language_info": {
      "name": "python"
    },
    "accelerator": "GPU"
  },
  "cells": [
    {
      "cell_type": "markdown",
      "metadata": {
        "id": "view-in-github",
        "colab_type": "text"
      },
      "source": [
        "<a href=\"https://colab.research.google.com/github/shreyasrajesh0308/Deep_Learning/blob/master/Deep_Learning_Book_Chapter3.ipynb\" target=\"_parent\"><img src=\"https://colab.research.google.com/assets/colab-badge.svg\" alt=\"Open In Colab\"/></a>"
      ]
    },
    {
      "cell_type": "markdown",
      "metadata": {
        "id": "LJn9krxTtn58"
      },
      "source": [
        "# Chapter 3 - Introduction to Keras and Tensorflow"
      ]
    },
    {
      "cell_type": "code",
      "metadata": {
        "id": "AMwm90DXtxo3"
      },
      "source": [
        "  import tensorflow as tf"
      ],
      "execution_count": null,
      "outputs": []
    },
    {
      "cell_type": "markdown",
      "metadata": {
        "id": "h-HVf-gYu8Uy"
      },
      "source": [
        "## Constant Tensors and Variables"
      ]
    },
    {
      "cell_type": "markdown",
      "metadata": {
        "id": "wz_7I2nPvSIh"
      },
      "source": [
        "Define a tensor with shape 2,1 and filled with ones throught "
      ]
    },
    {
      "cell_type": "code",
      "metadata": {
        "id": "uqlv1b6DukPh"
      },
      "source": [
        "x = tf.ones(shape=(2, 1))"
      ],
      "execution_count": null,
      "outputs": []
    },
    {
      "cell_type": "code",
      "metadata": {
        "colab": {
          "base_uri": "https://localhost:8080/"
        },
        "id": "IsNdEC--uuo-",
        "outputId": "49798f25-422a-4c41-aa47-2257e0a40193"
      },
      "source": [
        "print(x)"
      ],
      "execution_count": null,
      "outputs": [
        {
          "output_type": "stream",
          "name": "stdout",
          "text": [
            "tf.Tensor(\n",
            "[[1.]\n",
            " [1.]], shape=(2, 1), dtype=float32)\n"
          ]
        }
      ]
    },
    {
      "cell_type": "markdown",
      "metadata": {
        "id": "9y89MSl_vsaF"
      },
      "source": [
        "Define a tensor with shape 2,1 filled with zeros"
      ]
    },
    {
      "cell_type": "code",
      "metadata": {
        "id": "Cn31c_WNuzu2"
      },
      "source": [
        "x = tf.zeros(shape=(2,1))"
      ],
      "execution_count": null,
      "outputs": []
    },
    {
      "cell_type": "code",
      "metadata": {
        "colab": {
          "base_uri": "https://localhost:8080/"
        },
        "id": "x5CJnk62u4uU",
        "outputId": "d1b0a7fc-c016-40c5-d19b-34e983fdc205"
      },
      "source": [
        "print(x)"
      ],
      "execution_count": null,
      "outputs": [
        {
          "output_type": "stream",
          "name": "stdout",
          "text": [
            "tf.Tensor(\n",
            "[[0.]\n",
            " [0.]], shape=(2, 1), dtype=float32)\n"
          ]
        }
      ]
    },
    {
      "cell_type": "markdown",
      "metadata": {
        "id": "Bq7_PyEjv3re"
      },
      "source": [
        "Define a tensor of shape 3,1 where elements are picked from a random distribution with mean 0 and standard deviation 1"
      ]
    },
    {
      "cell_type": "code",
      "metadata": {
        "id": "sL9IoMO2vEEK"
      },
      "source": [
        "x = tf.random.normal(shape=(3,1), mean = 0., stddev=1.)"
      ],
      "execution_count": null,
      "outputs": []
    },
    {
      "cell_type": "code",
      "metadata": {
        "colab": {
          "base_uri": "https://localhost:8080/"
        },
        "id": "yKcnUQ7vvO8X",
        "outputId": "3305c63f-3e53-4f81-b55c-a0ded0cc7f67"
      },
      "source": [
        "\n",
        "print(x)"
      ],
      "execution_count": null,
      "outputs": [
        {
          "output_type": "stream",
          "name": "stdout",
          "text": [
            "tf.Tensor(\n",
            "[[ 1.7605513]\n",
            " [-1.3619081]\n",
            " [-1.0713067]], shape=(3, 1), dtype=float32)\n"
          ]
        }
      ]
    },
    {
      "cell_type": "markdown",
      "metadata": {
        "id": "zoUhqwgdtz_M"
      },
      "source": [
        "Define a tensor of shape 3,1 where elements are picked from a uniform distribution with minval 0 and maxval 1"
      ]
    },
    {
      "cell_type": "code",
      "metadata": {
        "id": "HmUCFSCOwLW5"
      },
      "source": [
        "x = tf.random.uniform(shape=(3,1), minval = 0, maxval =1)"
      ],
      "execution_count": null,
      "outputs": []
    },
    {
      "cell_type": "code",
      "metadata": {
        "colab": {
          "base_uri": "https://localhost:8080/"
        },
        "id": "L3jk5F-ZwQiQ",
        "outputId": "c2aa25bd-13dc-4cd8-87bf-7f0293993b1e"
      },
      "source": [
        "x"
      ],
      "execution_count": null,
      "outputs": [
        {
          "output_type": "execute_result",
          "data": {
            "text/plain": [
              "<tf.Tensor: shape=(3, 1), dtype=float32, numpy=\n",
              "array([[0.5336827 ],\n",
              "       [0.09293365],\n",
              "       [0.20617974]], dtype=float32)>"
            ]
          },
          "metadata": {},
          "execution_count": 9
        }
      ]
    },
    {
      "cell_type": "markdown",
      "metadata": {
        "id": "dhynMj5SwW2f"
      },
      "source": [
        "But one caveat with tensors is that their values are not assignable that is particular values cannot be changed for example "
      ]
    },
    {
      "cell_type": "code",
      "metadata": {
        "colab": {
          "base_uri": "https://localhost:8080/",
          "height": 171
        },
        "id": "8nd9BD1pwwZu",
        "outputId": "aedd23f7-37ee-4671-d064-2afb7cdf3298"
      },
      "source": [
        "x[0][0] = 10"
      ],
      "execution_count": null,
      "outputs": [
        {
          "output_type": "error",
          "ename": "TypeError",
          "evalue": "ignored",
          "traceback": [
            "\u001b[0;31m---------------------------------------------------------------------------\u001b[0m",
            "\u001b[0;31mTypeError\u001b[0m                                 Traceback (most recent call last)",
            "\u001b[0;32m<ipython-input-10-61241e8e1160>\u001b[0m in \u001b[0;36m<module>\u001b[0;34m()\u001b[0m\n\u001b[0;32m----> 1\u001b[0;31m \u001b[0mx\u001b[0m\u001b[0;34m[\u001b[0m\u001b[0;36m0\u001b[0m\u001b[0;34m]\u001b[0m\u001b[0;34m[\u001b[0m\u001b[0;36m0\u001b[0m\u001b[0;34m]\u001b[0m \u001b[0;34m=\u001b[0m \u001b[0;36m10\u001b[0m\u001b[0;34m\u001b[0m\u001b[0;34m\u001b[0m\u001b[0m\n\u001b[0m",
            "\u001b[0;31mTypeError\u001b[0m: 'tensorflow.python.framework.ops.EagerTensor' object does not support item assignment"
          ]
        }
      ]
    },
    {
      "cell_type": "markdown",
      "metadata": {
        "id": "YNvM7zipwx3E"
      },
      "source": [
        " But since weights in our network are stored as tensors, how can these update if they cannot be assigned to a value, to do this we have the variable class, which makes these tensors a variable"
      ]
    },
    {
      "cell_type": "code",
      "metadata": {
        "id": "iBUgWzEHxHXi"
      },
      "source": [
        "v = tf.Variable(initial_value=tf.random.normal(shape=(3,1)))"
      ],
      "execution_count": null,
      "outputs": []
    },
    {
      "cell_type": "code",
      "metadata": {
        "colab": {
          "base_uri": "https://localhost:8080/"
        },
        "id": "HE0o2K3zxZ2x",
        "outputId": "4b0c0117-22df-4d37-a559-ff50d4162a93"
      },
      "source": [
        "v"
      ],
      "execution_count": null,
      "outputs": [
        {
          "output_type": "execute_result",
          "data": {
            "text/plain": [
              "<tf.Variable 'Variable:0' shape=(3, 1) dtype=float32, numpy=\n",
              "array([[ 0.11010826],\n",
              "       [ 0.08311051],\n",
              "       [-0.1721246 ]], dtype=float32)>"
            ]
          },
          "metadata": {},
          "execution_count": 13
        }
      ]
    },
    {
      "cell_type": "code",
      "metadata": {
        "colab": {
          "base_uri": "https://localhost:8080/"
        },
        "id": "29iigtQkxbuz",
        "outputId": "598109dd-34c3-4f76-be79-d39a6187ee61"
      },
      "source": [
        "v.assign(tf.ones(shape=(3,1)))"
      ],
      "execution_count": null,
      "outputs": [
        {
          "output_type": "execute_result",
          "data": {
            "text/plain": [
              "<tf.Variable 'UnreadVariable' shape=(3, 1) dtype=float32, numpy=\n",
              "array([[1.],\n",
              "       [1.],\n",
              "       [1.]], dtype=float32)>"
            ]
          },
          "metadata": {},
          "execution_count": 14
        }
      ]
    },
    {
      "cell_type": "code",
      "metadata": {
        "colab": {
          "base_uri": "https://localhost:8080/"
        },
        "id": "HKmUkzbYxh02",
        "outputId": "79d943df-76f6-4f7a-d90c-f96a7e06d19c"
      },
      "source": [
        "print(v)"
      ],
      "execution_count": null,
      "outputs": [
        {
          "output_type": "stream",
          "name": "stdout",
          "text": [
            "<tf.Variable 'Variable:0' shape=(3, 1) dtype=float32, numpy=\n",
            "array([[1.],\n",
            "       [1.],\n",
            "       [1.]], dtype=float32)>\n"
          ]
        }
      ]
    },
    {
      "cell_type": "code",
      "metadata": {
        "colab": {
          "base_uri": "https://localhost:8080/"
        },
        "id": "qLM10dpBxj9i",
        "outputId": "9c1f511a-4f55-4326-8ba5-19ea87a2203e"
      },
      "source": [
        "v[0, 0].assign(100)"
      ],
      "execution_count": null,
      "outputs": [
        {
          "output_type": "execute_result",
          "data": {
            "text/plain": [
              "<tf.Variable 'UnreadVariable' shape=(3, 1) dtype=float32, numpy=\n",
              "array([[100.],\n",
              "       [  1.],\n",
              "       [  1.]], dtype=float32)>"
            ]
          },
          "metadata": {},
          "execution_count": 16
        }
      ]
    },
    {
      "cell_type": "code",
      "metadata": {
        "colab": {
          "base_uri": "https://localhost:8080/"
        },
        "id": "Sgyi9yY_xnvA",
        "outputId": "bf47b052-7d77-477d-c383-74f9b10d65ed"
      },
      "source": [
        "v.assign_add(tf.ones(shape=(3,1)))\n",
        "print(v)"
      ],
      "execution_count": null,
      "outputs": [
        {
          "output_type": "stream",
          "name": "stdout",
          "text": [
            "<tf.Variable 'Variable:0' shape=(3, 1) dtype=float32, numpy=\n",
            "array([[101.],\n",
            "       [  2.],\n",
            "       [  2.]], dtype=float32)>\n"
          ]
        }
      ]
    },
    {
      "cell_type": "markdown",
      "metadata": {
        "id": "iULi0jP9xtiY"
      },
      "source": [
        "Performing some math operations in tensorflow"
      ]
    },
    {
      "cell_type": "code",
      "metadata": {
        "id": "rRc5PzaRx86-"
      },
      "source": [
        "a = tf.ones(shape=(2,2))\n",
        "b = tf.sqrt(a)\n",
        "c = tf.sqrt(a)\n",
        "d = b+c\n",
        "e = tf.matmul(a, b)\n",
        "e*=d"
      ],
      "execution_count": null,
      "outputs": []
    },
    {
      "cell_type": "code",
      "metadata": {
        "colab": {
          "base_uri": "https://localhost:8080/"
        },
        "id": "2VoPQCmEyCom",
        "outputId": "3bd107b1-521c-43ba-da3a-e5522eb18648"
      },
      "source": [
        "e"
      ],
      "execution_count": null,
      "outputs": [
        {
          "output_type": "execute_result",
          "data": {
            "text/plain": [
              "<tf.Tensor: shape=(2, 2), dtype=float32, numpy=\n",
              "array([[4., 4.],\n",
              "       [4., 4.]], dtype=float32)>"
            ]
          },
          "metadata": {},
          "execution_count": 19
        }
      ]
    },
    {
      "cell_type": "markdown",
      "metadata": {
        "id": "LV-7o04iyR15"
      },
      "source": [
        "Now, we look at the GradientTape API, that is computing the gradient of any differntiable expression"
      ]
    },
    {
      "cell_type": "code",
      "metadata": {
        "id": "RbgiI9gnykI3"
      },
      "source": [
        "input_var = tf.Variable(initial_value=3.)\n",
        "\n",
        "with tf.GradientTape() as tape: \n",
        "\n",
        "  result = tf.square(input_var)\n",
        "\n",
        "gradient = tape.gradient(result, input_var)"
      ],
      "execution_count": null,
      "outputs": []
    },
    {
      "cell_type": "code",
      "metadata": {
        "colab": {
          "base_uri": "https://localhost:8080/"
        },
        "id": "p2oDhHXxOShg",
        "outputId": "0905ac59-ce81-4765-972f-6fc83c5f42ee"
      },
      "source": [
        "print(gradient)"
      ],
      "execution_count": null,
      "outputs": [
        {
          "output_type": "stream",
          "name": "stdout",
          "text": [
            "tf.Tensor(6.0, shape=(), dtype=float32)\n"
          ]
        }
      ]
    },
    {
      "cell_type": "markdown",
      "metadata": {
        "id": "Bi4VWpQ1OUdf"
      },
      "source": [
        "Here what if the tensor is not a variable but is instead some type of constant, by default all trainable variables are tracked but in order to track a normal tensor we would have to explicitly tell tensorflow to watch the variable."
      ]
    },
    {
      "cell_type": "code",
      "metadata": {
        "id": "LiWYG8ZvPRTS"
      },
      "source": [
        "input_const = tf.constant(3.)\n",
        "\n",
        "with tf.GradientTape() as tape:\n",
        "\n",
        "  tape.watch(input_const)\n",
        "  result = tf.square(input_const)\n",
        "\n",
        "gradient = tape.gradient(result, input_const)"
      ],
      "execution_count": null,
      "outputs": []
    },
    {
      "cell_type": "code",
      "metadata": {
        "colab": {
          "base_uri": "https://localhost:8080/"
        },
        "id": "LeN1J8qSPfaQ",
        "outputId": "e119a25f-953f-418a-df2d-2231d5d848ba"
      },
      "source": [
        "print(gradient)"
      ],
      "execution_count": null,
      "outputs": [
        {
          "output_type": "stream",
          "name": "stdout",
          "text": [
            "tf.Tensor(6.0, shape=(), dtype=float32)\n"
          ]
        }
      ]
    },
    {
      "cell_type": "markdown",
      "metadata": {
        "id": "CHw-ZwtOPgQt"
      },
      "source": [
        "Calculating second order gradients using GradientTape"
      ]
    },
    {
      "cell_type": "code",
      "metadata": {
        "id": "bawMwr80P3Tz"
      },
      "source": [
        "time = tf.Variable(0.)\n",
        "\n",
        "with tf.GradientTape() as outer_tape:\n",
        "\n",
        "  with tf.GradientTape() as inner_tape:\n",
        "\n",
        "    position = 4.9*time**2\n",
        "  \n",
        "  speed = inner_tape.gradient(position, time)\n",
        "  acc = outer_tape.gradient(speed, time)"
      ],
      "execution_count": null,
      "outputs": []
    },
    {
      "cell_type": "code",
      "metadata": {
        "colab": {
          "base_uri": "https://localhost:8080/"
        },
        "id": "BJDECn6SQQ2D",
        "outputId": "b94820b9-e6b4-4f45-97dd-ecdd598bb483"
      },
      "source": [
        "print(acc)  \n",
        "print(speed)"
      ],
      "execution_count": null,
      "outputs": [
        {
          "output_type": "stream",
          "name": "stdout",
          "text": [
            "tf.Tensor(9.8, shape=(), dtype=float32)\n",
            "tf.Tensor(0.0, shape=(), dtype=float32)\n"
          ]
        }
      ]
    },
    {
      "cell_type": "markdown",
      "metadata": {
        "id": "R-j6i7sQQV53"
      },
      "source": [
        "## Implementing a Linear Classifier in Pure Tensorflow"
      ]
    },
    {
      "cell_type": "markdown",
      "metadata": {
        "id": "pyAruUfRQ_3-"
      },
      "source": [
        "The first step is to come up with data to work on     "
      ]
    },
    {
      "cell_type": "markdown",
      "metadata": {
        "id": "ywG-lpaKRg55"
      },
      "source": [
        "Generating two classes of random points in a 2d plane"
      ]
    },
    {
      "cell_type": "code",
      "metadata": {
        "id": "WgH_iLTCSiey"
      },
      "source": [
        "import numpy as np "
      ],
      "execution_count": null,
      "outputs": []
    },
    {
      "cell_type": "code",
      "metadata": {
        "id": "5POIAFaBSC-R"
      },
      "source": [
        "num_samples_per_class = 1000\n",
        "\n",
        "negative_samples = np.random.multivariate_normal(mean=[0,3],  cov=[[1, 0.5],[0.5, 1]], size=num_samples_per_class)\n",
        "\n",
        "positive_samples = np.random.multivariate_normal(mean=[3,0],  cov=[[1, 0.5],[0.5, 1]], size=num_samples_per_class)\n"
      ],
      "execution_count": null,
      "outputs": []
    },
    {
      "cell_type": "markdown",
      "metadata": {
        "id": "a2YIJG3FSeom"
      },
      "source": [
        "Stack the input arguments together"
      ]
    },
    {
      "cell_type": "code",
      "metadata": {
        "colab": {
          "base_uri": "https://localhost:8080/"
        },
        "id": "jNyaEvv1S2d2",
        "outputId": "2b1447e3-e72e-4408-d44e-dcab4a590c59"
      },
      "source": [
        "inputs = np.vstack((negative_samples, positive_samples)).astype(np.float32)\n",
        "print(inputs[0])"
      ],
      "execution_count": null,
      "outputs": [
        {
          "output_type": "stream",
          "name": "stdout",
          "text": [
            "[-0.72749585  1.9650797 ]\n"
          ]
        }
      ]
    },
    {
      "cell_type": "markdown",
      "metadata": {
        "id": "NvaMDEG7S4ER"
      },
      "source": [
        "Create the Target array i.e the predictions"
      ]
    },
    {
      "cell_type": "code",
      "metadata": {
        "id": "KK6KdDsYS-Ub"
      },
      "source": [
        "targets = np.vstack((np.zeros((num_samples_per_class, 1), dtype=\"float32\"), np.ones((num_samples_per_class, 1), dtype=\"float32\")))"
      ],
      "execution_count": null,
      "outputs": []
    },
    {
      "cell_type": "markdown",
      "metadata": {
        "id": "w-T-hTsNTCH-"
      },
      "source": [
        "Plotting the data we have"
      ]
    },
    {
      "cell_type": "code",
      "metadata": {
        "colab": {
          "base_uri": "https://localhost:8080/",
          "height": 265
        },
        "id": "sB7Jlix9TIAj",
        "outputId": "07b32b42-76a0-4cf3-80cc-e3b647030ffd"
      },
      "source": [
        "import matplotlib.pyplot as plt\n",
        "plt.scatter(inputs[:, 0], inputs[:, 1], c=targets[:, 0]) \n",
        "plt.show()"
      ],
      "execution_count": null,
      "outputs": [
        {
          "output_type": "display_data",
          "data": {
            "image/png": "[encoded data removed]",
            "text/plain": [
              "<Figure size 432x288 with 1 Axes>"
            ]
          },
          "metadata": {
            "needs_background": "light"
          }
        }
      ]
    },
    {
      "cell_type": "markdown",
      "metadata": {
        "id": "FGcRhO7BTM_f"
      },
      "source": [
        "The linear transformation will be an Affine Transformation given by prediction = Wx + b.\n",
        "\n",
        "Creating the variables for the linear classifier"
      ]
    },
    {
      "cell_type": "code",
      "metadata": {
        "id": "78EqFGZrTr4g"
      },
      "source": [
        "input_dim = 2\n",
        "output_dim = 1\n",
        "\n",
        "W = tf.Variable(initial_value=tf.random.uniform(shape=(input_dim, output_dim)))\n",
        "b = tf.Variable(initial_value=tf.zeros(shape = (output_dim, )))"
      ],
      "execution_count": null,
      "outputs": []
    },
    {
      "cell_type": "markdown",
      "metadata": {
        "id": "tGIRdsknUSxt"
      },
      "source": [
        "Define a Forward Pass"
      ]
    },
    {
      "cell_type": "code",
      "metadata": {
        "id": "Mh3qV8J1UiI_"
      },
      "source": [
        "def model(inputs):\n",
        "  return tf.matmul(inputs, W) + b"
      ],
      "execution_count": null,
      "outputs": []
    },
    {
      "cell_type": "markdown",
      "metadata": {
        "id": "kKIAoiwWUrct"
      },
      "source": [
        "Define the Loss Function. We calculate the per sample loss then reduce that to the mean of the entire sample. "
      ]
    },
    {
      "cell_type": "code",
      "metadata": {
        "id": "fKBKZ861U3-c"
      },
      "source": [
        "def square_loss(targets, predictions):\n",
        "\n",
        "  per_sample_loss = tf.square(targets - predictions)\n",
        "  return tf.reduce_mean(per_sample_loss)"
      ],
      "execution_count": null,
      "outputs": []
    },
    {
      "cell_type": "markdown",
      "metadata": {
        "id": "M582BtNDVUBw"
      },
      "source": [
        "Write the Training loop "
      ]
    },
    {
      "cell_type": "code",
      "metadata": {
        "id": "sJRNVXSMV7vD"
      },
      "source": [
        "learning_rate = 0.1\n",
        "\n",
        "def training_step(inputs, targets):\n",
        "\n",
        "  with tf.GradientTape() as tape:\n",
        "\n",
        "    predictions = model(inputs)\n",
        "    loss = square_loss(targets, predictions)\n",
        "\n",
        "  grad_loss_wrt_W , grad_loss_wrt_b = tape.gradient(loss, [W, b])\n",
        "  W.assign_sub(grad_loss_wrt_W*learning_rate)\n",
        "  b.assign_sub(grad_loss_wrt_b*learning_rate)\n",
        "\n",
        "  return loss"
      ],
      "execution_count": null,
      "outputs": []
    },
    {
      "cell_type": "code",
      "metadata": {
        "colab": {
          "base_uri": "https://localhost:8080/"
        },
        "id": "nt4FgHU1XLz2",
        "outputId": "20f32136-8491-41c1-b336-047e5597d3b3"
      },
      "source": [
        "for step in range(40):\n",
        "\n",
        "  loss = training_step(inputs, targets)\n",
        "  print(f\"Loss at step {step} is {loss:.4f}\")"
      ],
      "execution_count": null,
      "outputs": [
        {
          "output_type": "stream",
          "name": "stdout",
          "text": [
            "Loss at step 0 is 0.1041\n",
            "Loss at step 1 is 0.0818\n",
            "Loss at step 2 is 0.0745\n",
            "Loss at step 3 is 0.0699\n",
            "Loss at step 4 is 0.0662\n",
            "Loss at step 5 is 0.0628\n",
            "Loss at step 6 is 0.0596\n",
            "Loss at step 7 is 0.0568\n",
            "Loss at step 8 is 0.0542\n",
            "Loss at step 9 is 0.0518\n",
            "Loss at step 10 is 0.0496\n",
            "Loss at step 11 is 0.0476\n",
            "Loss at step 12 is 0.0457\n",
            "Loss at step 13 is 0.0440\n",
            "Loss at step 14 is 0.0425\n",
            "Loss at step 15 is 0.0411\n",
            "Loss at step 16 is 0.0398\n",
            "Loss at step 17 is 0.0386\n",
            "Loss at step 18 is 0.0375\n",
            "Loss at step 19 is 0.0365\n",
            "Loss at step 20 is 0.0356\n",
            "Loss at step 21 is 0.0347\n",
            "Loss at step 22 is 0.0340\n",
            "Loss at step 23 is 0.0332\n",
            "Loss at step 24 is 0.0326\n",
            "Loss at step 25 is 0.0320\n",
            "Loss at step 26 is 0.0315\n",
            "Loss at step 27 is 0.0310\n",
            "Loss at step 28 is 0.0305\n",
            "Loss at step 29 is 0.0301\n",
            "Loss at step 30 is 0.0297\n",
            "Loss at step 31 is 0.0293\n",
            "Loss at step 32 is 0.0290\n",
            "Loss at step 33 is 0.0287\n",
            "Loss at step 34 is 0.0285\n",
            "Loss at step 35 is 0.0282\n",
            "Loss at step 36 is 0.0280\n",
            "Loss at step 37 is 0.0278\n",
            "Loss at step 38 is 0.0276\n",
            "Loss at step 39 is 0.0274\n"
          ]
        }
      ]
    },
    {
      "cell_type": "markdown",
      "metadata": {
        "id": "24v01odtXa6_"
      },
      "source": [
        "Plot Model Predictions"
      ]
    },
    {
      "cell_type": "code",
      "metadata": {
        "colab": {
          "base_uri": "https://localhost:8080/",
          "height": 265
        },
        "id": "zmrYviLJZkE3",
        "outputId": "92f06695-d08f-43e6-e47f-72930c40c550"
      },
      "source": [
        "predictions = model(inputs)\n",
        "plt.scatter(inputs[:, 0], inputs[:, 1], c=predictions[:, 0] > 0.5)\n",
        "plt.show()"
      ],
      "execution_count": null,
      "outputs": [
        {
          "output_type": "display_data",
          "data": {
            "image/png": "[encoded data removed]",
            "text/plain": [
              "<Figure size 432x288 with 1 Axes>"
            ]
          },
          "metadata": {
            "needs_background": "light"
          }
        }
      ]
    },
    {
      "cell_type": "markdown",
      "metadata": {
        "id": "DBdE9oHrZoCi"
      },
      "source": [
        "Essentially we are learning just a line, since we have one affine transformation, Where the weight vector is a row vector. Hence the line that diffrentiates the two points is given as"
      ]
    },
    {
      "cell_type": "code",
      "metadata": {
        "colab": {
          "base_uri": "https://localhost:8080/",
          "height": 283
        },
        "id": "r5mFsbE0aHok",
        "outputId": "bd3c9f08-cef1-4c05-fc6d-54694afba6df"
      },
      "source": [
        "x = np.linspace(-1, 4, 100)\n",
        "y=-W[0]/ W[1]*x+(0.5-b)/W[1]\n",
        "plt.plot(x, y, \"-r\")\n",
        "plt.scatter(inputs[:, 0], inputs[:, 1], c=predictions[:, 0] > 0.5)\n"
      ],
      "execution_count": null,
      "outputs": [
        {
          "output_type": "execute_result",
          "data": {
            "text/plain": [
              "<matplotlib.collections.PathCollection at 0x7f027dfc8a10>"
            ]
          },
          "metadata": {},
          "execution_count": 61
        },
        {
          "output_type": "display_data",
          "data": {
            "image/png": "[encoded data removed]",
            "text/plain": [
              "<Figure size 432x288 with 1 Axes>"
            ]
          },
          "metadata": {
            "needs_background": "light"
          }
        }
      ]
    },
    {
      "cell_type": "markdown",
      "metadata": {
        "id": "WSr_FUd1aKBp"
      },
      "source": [
        "**This is really what a linear classifier is all about: finding the parameters of a line (or, in\n",
        "higher-dimensional spaces, a hyperplane) neatly separating two classes of data**"
      ]
    },
    {
      "cell_type": "markdown",
      "metadata": {
        "id": "P3JpwH_SaTLH"
      },
      "source": [
        "## Understanding Core Keras API "
      ]
    },
    {
      "cell_type": "markdown",
      "metadata": {
        "id": "iTCUjC14aqKG"
      },
      "source": [
        "### Layers"
      ]
    },
    {
      "cell_type": "markdown",
      "metadata": {
        "id": "elmdhhfvax0Y"
      },
      "source": [
        "The fundamental data structure in a Neural Network is a layer. A layer is a data processing module that takes as input one or more tensors and outputs one or more tensors"
      ]
    },
    {
      "cell_type": "markdown",
      "metadata": {
        "id": "dVb7LQlWbAuE"
      },
      "source": [
        "**Everything in Keras is either a Layer or something that closely interacts with a Layer**"
      ]
    },
    {
      "cell_type": "markdown",
      "metadata": {
        "id": "WZ8K2YXibgtt"
      },
      "source": [
        "A Layer is an object that encapsulates some state (weights) and some computation (a forward pass)."
      ]
    },
    {
      "cell_type": "markdown",
      "metadata": {
        "id": "B2X7I1KZblfM"
      },
      "source": [
        "Sample Dense layer implemented with Layer"
      ]
    },
    {
      "cell_type": "code",
      "metadata": {
        "id": "W-l8R__6bvuR"
      },
      "source": [
        "from tensorflow import keras\n",
        "\n",
        "class SimpleDense(keras.layers.Layer):\n",
        "\n",
        "  def __init__(self, units, activation=None):\n",
        "\n",
        "    super().__init__()\n",
        "    self.units = units\n",
        "    self.activation = activation\n",
        "    self.built = False\n",
        "\n",
        "  def build(self, input_shape):\n",
        "\n",
        "    input_dim = input_shape[-1]\n",
        "    self.W = self.add_weight(shape=(input_dim, self.units), initializer=\"random_normal\")\n",
        "    self.b = self.add_weight(shape=(self.units), initializer = \"zeros\")\n",
        "\n",
        "  def call (self, inputs):\n",
        "\n",
        "    y = tf.matmul(inputs, self.W) + self.b\n",
        "    if self.activation is not None:\n",
        "      y = self.activation(y)\n",
        "    return y\n",
        "\n",
        "  def __call__(self, inputs):\n",
        "\n",
        "    if not self.built:\n",
        "      self.build(inputs.shape)\n",
        "      self.built = True\n",
        "    \n",
        "    return self.call(inputs)\n",
        "\n"
      ],
      "execution_count": null,
      "outputs": []
    },
    {
      "cell_type": "code",
      "metadata": {
        "colab": {
          "base_uri": "https://localhost:8080/"
        },
        "id": "TS22j3s9ebfk",
        "outputId": "de1b97a9-700b-4cb4-8b6d-a5fea40f1afe"
      },
      "source": [
        "my_dense = SimpleDense(units = 32, activation = tf.nn.relu)\n",
        "input_tensor = tf.ones(shape=(2,784))\n",
        "output_tensor = my_dense(input_tensor)\n",
        "print(output_tensor)"
      ],
      "execution_count": null,
      "outputs": [
        {
          "output_type": "stream",
          "name": "stdout",
          "text": [
            "tf.Tensor(\n",
            "[[0.9388966  1.1601729  0.03667435 0.         0.         0.\n",
            "  0.         0.         0.         0.         0.         0.\n",
            "  1.574136   0.6221903  0.         0.13674812 1.0629797  0.5542717\n",
            "  0.         0.         0.         0.         0.         0.\n",
            "  0.         0.         0.         0.8032137  0.21980429 0.\n",
            "  2.0649157  0.        ]\n",
            " [0.9388966  1.1601729  0.03667435 0.         0.         0.\n",
            "  0.         0.         0.         0.         0.         0.\n",
            "  1.574136   0.6221903  0.         0.13674812 1.0629797  0.5542717\n",
            "  0.         0.         0.         0.         0.         0.\n",
            "  0.         0.         0.         0.8032137  0.21980429 0.\n",
            "  2.0649157  0.        ]], shape=(2, 32), dtype=float32)\n"
          ]
        }
      ]
    },
    {
      "cell_type": "markdown",
      "metadata": {
        "id": "OzAryPFPe4N1"
      },
      "source": [
        "The reason we create the call and buil method seperately is to infer the shape of the input to any layer on the fly, hence the build and call modules will be implemented inside __call__ module as shown above"
      ]
    },
    {
      "cell_type": "markdown",
      "metadata": {
        "id": "WrcM2smJhIi_"
      },
      "source": [
        "Writing a simple model in Keras, note that the layers will automatically be compatible with input shape."
      ]
    },
    {
      "cell_type": "code",
      "metadata": {
        "id": "o5WLe9edh4Q-"
      },
      "source": [
        "from tensorflow.keras import models\n",
        "from tensorflow.keras import layers\n",
        "\n",
        "model = models.Sequential([layers.Dense(32, activation=\"relu\"), layers.Dense(32)])"
      ],
      "execution_count": null,
      "outputs": []
    },
    {
      "cell_type": "markdown",
      "metadata": {
        "id": "uejFVreWiMnu"
      },
      "source": [
        "Using our simpledense"
      ]
    },
    {
      "cell_type": "code",
      "metadata": {
        "id": "sBriWzxIibNQ"
      },
      "source": [
        "model = keras.Sequential([\n",
        "    SimpleDense(32, activation=\"relu\"),\n",
        "    SimpleDense(32),\n",
        "    SimpleDense(32, activation=\"relu\"),\n",
        "    SimpleDense(10, activation=\"softmax\")])"
      ],
      "execution_count": null,
      "outputs": []
    },
    {
      "cell_type": "markdown",
      "metadata": {
        "id": "cPJ7A33MjBEv"
      },
      "source": [
        "### Models  "
      ]
    },
    {
      "cell_type": "markdown",
      "metadata": {
        "id": "3lfT00HxjMjm"
      },
      "source": [
        "A Deep Learning model is a graph of layers. In Keras this is the model class. \n",
        "\n",
        "Now so far we have only looked at the Sequential model, but there are other types of architectures we will at later that are not sequential. One thing to note is that these architecure choices essentially determine the hypothesis space whichh is the search space for us to get good representations of our data. Hence, picking a good architecture is more an art than a skill.                                                                                                                                                                                                                                                                                       "
      ]
    },
    {
      "cell_type": "markdown",
      "metadata": {
        "id": "UVbjiHkonCY1"
      },
      "source": [
        "### Compile "
      ]
    },
    {
      "cell_type": "markdown",
      "metadata": {
        "id": "4TEGgGbVnLmE"
      },
      "source": [
        "Once model architecture is defined three other parameters have to be chosen;\n",
        "\n",
        "1. Loss Function - Qty minimized during training\n",
        "2. Optimizer - Determines how the network updates based on the loss. Implements specific variant of SGD\n",
        "3. Metrics - Measure of success you want to monitor during training and validation. These are not used for model training and hence need not be diffrentiable."
      ]
    },
    {
      "cell_type": "markdown",
      "metadata": {
        "id": "uKDkZbhWoDn4"
      },
      "source": [
        "Consider an example"
      ]
    },
    {
      "cell_type": "code",
      "metadata": {
        "id": "w4hba-l_oOn1"
      },
      "source": [
        "model = keras.Sequential([keras.layers.Dense(1)]) # Define a model for linear classification\n",
        "model.compile(optimizer = \"rmsprop\", loss = \"mean_squared_error\", metrics=[keras.metrics.BinaryAccuracy()])\n",
        "        "
      ],
      "execution_count": null,
      "outputs": []
    },
    {
      "cell_type": "markdown",
      "metadata": {
        "id": "M0aroMJqopMM"
      },
      "source": [
        "### Fit"
      ]
    },
    {
      "cell_type": "markdown",
      "metadata": {
        "id": "UxgPUBP2p2S8"
      },
      "source": [
        "The fit method implements the training loop"
      ]
    },
    {
      "cell_type": "code",
      "metadata": {
        "colab": {
          "base_uri": "https://localhost:8080/"
        },
        "id": "zNMUCMxdq2_2",
        "outputId": "204e89f3-b8c4-448d-d72e-84c120645427"
      },
      "source": [
        "history = model.fit(inputs, targets, epochs = 50, batch_size=128)"
      ],
      "execution_count": null,
      "outputs": [
        {
          "output_type": "stream",
          "name": "stdout",
          "text": [
            "Epoch 1/50\n",
            "16/16 [==============================] - 0s 5ms/step - loss: 7.6492 - binary_accuracy: 0.5170\n",
            "Epoch 2/50\n",
            "16/16 [==============================] - 0s 3ms/step - loss: 7.2122 - binary_accuracy: 0.5170\n",
            "Epoch 3/50\n",
            "16/16 [==============================] - 0s 4ms/step - loss: 6.8463 - binary_accuracy: 0.5190\n",
            "Epoch 4/50\n",
            "16/16 [==============================] - 0s 3ms/step - loss: 6.4974 - binary_accuracy: 0.5200\n",
            "Epoch 5/50\n",
            "16/16 [==============================] - 0s 4ms/step - loss: 6.1588 - binary_accuracy: 0.5205\n",
            "Epoch 6/50\n",
            "16/16 [==============================] - 0s 4ms/step - loss: 5.8289 - binary_accuracy: 0.5220\n",
            "Epoch 7/50\n",
            "16/16 [==============================] - 0s 3ms/step - loss: 5.5104 - binary_accuracy: 0.5210\n",
            "Epoch 8/50\n",
            "16/16 [==============================] - 0s 3ms/step - loss: 5.2015 - binary_accuracy: 0.5215\n",
            "Epoch 9/50\n",
            "16/16 [==============================] - 0s 4ms/step - loss: 4.9023 - binary_accuracy: 0.5230\n",
            "Epoch 10/50\n",
            "16/16 [==============================] - 0s 4ms/step - loss: 4.6138 - binary_accuracy: 0.5270\n",
            "Epoch 11/50\n",
            "16/16 [==============================] - 0s 4ms/step - loss: 4.3367 - binary_accuracy: 0.5255\n",
            "Epoch 12/50\n",
            "16/16 [==============================] - 0s 4ms/step - loss: 4.0667 - binary_accuracy: 0.5285\n",
            "Epoch 13/50\n",
            "16/16 [==============================] - 0s 4ms/step - loss: 3.8069 - binary_accuracy: 0.5330\n",
            "Epoch 14/50\n",
            "16/16 [==============================] - 0s 3ms/step - loss: 3.5560 - binary_accuracy: 0.5340\n",
            "Epoch 15/50\n",
            "16/16 [==============================] - 0s 3ms/step - loss: 3.3161 - binary_accuracy: 0.5360\n",
            "Epoch 16/50\n",
            "16/16 [==============================] - 0s 3ms/step - loss: 3.0877 - binary_accuracy: 0.5370\n",
            "Epoch 17/50\n",
            "16/16 [==============================] - 0s 3ms/step - loss: 2.8699 - binary_accuracy: 0.5405\n",
            "Epoch 18/50\n",
            "16/16 [==============================] - 0s 3ms/step - loss: 2.6590 - binary_accuracy: 0.5405\n",
            "Epoch 19/50\n",
            "16/16 [==============================] - 0s 4ms/step - loss: 2.4569 - binary_accuracy: 0.5415\n",
            "Epoch 20/50\n",
            "16/16 [==============================] - 0s 4ms/step - loss: 2.2651 - binary_accuracy: 0.5430\n",
            "Epoch 21/50\n",
            "16/16 [==============================] - 0s 4ms/step - loss: 2.0824 - binary_accuracy: 0.5450\n",
            "Epoch 22/50\n",
            "16/16 [==============================] - 0s 3ms/step - loss: 1.9108 - binary_accuracy: 0.5470\n",
            "Epoch 23/50\n",
            "16/16 [==============================] - 0s 3ms/step - loss: 1.7490 - binary_accuracy: 0.5525\n",
            "Epoch 24/50\n",
            "16/16 [==============================] - 0s 4ms/step - loss: 1.5969 - binary_accuracy: 0.5515\n",
            "Epoch 25/50\n",
            "16/16 [==============================] - 0s 4ms/step - loss: 1.4535 - binary_accuracy: 0.5555\n",
            "Epoch 26/50\n",
            "16/16 [==============================] - 0s 4ms/step - loss: 1.3205 - binary_accuracy: 0.5590\n",
            "Epoch 27/50\n",
            "16/16 [==============================] - 0s 4ms/step - loss: 1.1963 - binary_accuracy: 0.5660\n",
            "Epoch 28/50\n",
            "16/16 [==============================] - 0s 4ms/step - loss: 1.0823 - binary_accuracy: 0.5715\n",
            "Epoch 29/50\n",
            "16/16 [==============================] - 0s 3ms/step - loss: 0.9753 - binary_accuracy: 0.5755\n",
            "Epoch 30/50\n",
            "16/16 [==============================] - 0s 3ms/step - loss: 0.8793 - binary_accuracy: 0.5845\n",
            "Epoch 31/50\n",
            "16/16 [==============================] - 0s 3ms/step - loss: 0.7920 - binary_accuracy: 0.5915\n",
            "Epoch 32/50\n",
            "16/16 [==============================] - 0s 4ms/step - loss: 0.7138 - binary_accuracy: 0.5990\n",
            "Epoch 33/50\n",
            "16/16 [==============================] - 0s 3ms/step - loss: 0.6452 - binary_accuracy: 0.6115\n",
            "Epoch 34/50\n",
            "16/16 [==============================] - 0s 4ms/step - loss: 0.5855 - binary_accuracy: 0.6160\n",
            "Epoch 35/50\n",
            "16/16 [==============================] - 0s 3ms/step - loss: 0.5344 - binary_accuracy: 0.6210\n",
            "Epoch 36/50\n",
            "16/16 [==============================] - 0s 3ms/step - loss: 0.4915 - binary_accuracy: 0.6270\n",
            "Epoch 37/50\n",
            "16/16 [==============================] - 0s 5ms/step - loss: 0.4560 - binary_accuracy: 0.6345\n",
            "Epoch 38/50\n",
            "16/16 [==============================] - 0s 4ms/step - loss: 0.4260 - binary_accuracy: 0.6500\n",
            "Epoch 39/50\n",
            "16/16 [==============================] - 0s 4ms/step - loss: 0.3994 - binary_accuracy: 0.6585\n",
            "Epoch 40/50\n",
            "16/16 [==============================] - 0s 4ms/step - loss: 0.3749 - binary_accuracy: 0.6665\n",
            "Epoch 41/50\n",
            "16/16 [==============================] - 0s 5ms/step - loss: 0.3524 - binary_accuracy: 0.6815\n",
            "Epoch 42/50\n",
            "16/16 [==============================] - 0s 3ms/step - loss: 0.3316 - binary_accuracy: 0.6940\n",
            "Epoch 43/50\n",
            "16/16 [==============================] - 0s 4ms/step - loss: 0.3125 - binary_accuracy: 0.7085\n",
            "Epoch 44/50\n",
            "16/16 [==============================] - 0s 3ms/step - loss: 0.2947 - binary_accuracy: 0.7240\n",
            "Epoch 45/50\n",
            "16/16 [==============================] - 0s 4ms/step - loss: 0.2783 - binary_accuracy: 0.7460\n",
            "Epoch 46/50\n",
            "16/16 [==============================] - 0s 3ms/step - loss: 0.2631 - binary_accuracy: 0.7600\n",
            "Epoch 47/50\n",
            "16/16 [==============================] - 0s 3ms/step - loss: 0.2499 - binary_accuracy: 0.7715\n",
            "Epoch 48/50\n",
            "16/16 [==============================] - 0s 4ms/step - loss: 0.2377 - binary_accuracy: 0.7860\n",
            "Epoch 49/50\n",
            "16/16 [==============================] - 0s 3ms/step - loss: 0.2270 - binary_accuracy: 0.7965\n",
            "Epoch 50/50\n",
            "16/16 [==============================] - 0s 4ms/step - loss: 0.2172 - binary_accuracy: 0.8095\n"
          ]
        }
      ]
    },
    {
      "cell_type": "code",
      "metadata": {
        "colab": {
          "base_uri": "https://localhost:8080/"
        },
        "id": "1q40ayDoq9xA",
        "outputId": "a9eb7814-730f-4257-a637-f5d972f7b6d3"
      },
      "source": [
        "history.history"
      ],
      "execution_count": null,
      "outputs": [
        {
          "output_type": "execute_result",
          "data": {
            "text/plain": [
              "{'binary_accuracy': [0.5170000195503235,\n",
              "  0.5170000195503235,\n",
              "  0.5189999938011169,\n",
              "  0.5199999809265137,\n",
              "  0.5205000042915344,\n",
              "  0.5220000147819519,\n",
              "  0.5210000276565552,\n",
              "  0.5214999914169312,\n",
              "  0.5230000019073486,\n",
              "  0.5270000100135803,\n",
              "  0.5254999995231628,\n",
              "  0.5285000205039978,\n",
              "  0.5329999923706055,\n",
              "  0.5339999794960022,\n",
              "  0.5360000133514404,\n",
              "  0.5370000004768372,\n",
              "  0.5404999852180481,\n",
              "  0.5404999852180481,\n",
              "  0.5414999723434448,\n",
              "  0.5429999828338623,\n",
              "  0.5450000166893005,\n",
              "  0.546999990940094,\n",
              "  0.5525000095367432,\n",
              "  0.5515000224113464,\n",
              "  0.5554999709129333,\n",
              "  0.5590000152587891,\n",
              "  0.5659999847412109,\n",
              "  0.5715000033378601,\n",
              "  0.5755000114440918,\n",
              "  0.5845000147819519,\n",
              "  0.5914999842643738,\n",
              "  0.5989999771118164,\n",
              "  0.6115000247955322,\n",
              "  0.6159999966621399,\n",
              "  0.6209999918937683,\n",
              "  0.6269999742507935,\n",
              "  0.6345000267028809,\n",
              "  0.6499999761581421,\n",
              "  0.6585000157356262,\n",
              "  0.6664999723434448,\n",
              "  0.6815000176429749,\n",
              "  0.6940000057220459,\n",
              "  0.7085000276565552,\n",
              "  0.7239999771118164,\n",
              "  0.7459999918937683,\n",
              "  0.7599999904632568,\n",
              "  0.7714999914169312,\n",
              "  0.7860000133514404,\n",
              "  0.796500027179718,\n",
              "  0.809499979019165],\n",
              " 'loss': [7.649152755737305,\n",
              "  7.212182521820068,\n",
              "  6.846266269683838,\n",
              "  6.497396469116211,\n",
              "  6.158755302429199,\n",
              "  5.828889846801758,\n",
              "  5.510378360748291,\n",
              "  5.201495170593262,\n",
              "  4.9023261070251465,\n",
              "  4.6137590408325195,\n",
              "  4.336712837219238,\n",
              "  4.06669282913208,\n",
              "  3.8068509101867676,\n",
              "  3.556015729904175,\n",
              "  3.3160669803619385,\n",
              "  3.087721824645996,\n",
              "  2.869910717010498,\n",
              "  2.6589670181274414,\n",
              "  2.4569268226623535,\n",
              "  2.265113592147827,\n",
              "  2.0824389457702637,\n",
              "  1.9107860326766968,\n",
              "  1.7489513158798218,\n",
              "  1.5969246625900269,\n",
              "  1.4535307884216309,\n",
              "  1.3205478191375732,\n",
              "  1.196328043937683,\n",
              "  1.0822635889053345,\n",
              "  0.9753354787826538,\n",
              "  0.8793251514434814,\n",
              "  0.7920491099357605,\n",
              "  0.7137511968612671,\n",
              "  0.6452184915542603,\n",
              "  0.5855409502983093,\n",
              "  0.5343831181526184,\n",
              "  0.4915468096733093,\n",
              "  0.4559621214866638,\n",
              "  0.42595115303993225,\n",
              "  0.3994256258010864,\n",
              "  0.37485039234161377,\n",
              "  0.35238805413246155,\n",
              "  0.3315823972225189,\n",
              "  0.31247562170028687,\n",
              "  0.29466167092323303,\n",
              "  0.27826642990112305,\n",
              "  0.2631395161151886,\n",
              "  0.24985049664974213,\n",
              "  0.2377057522535324,\n",
              "  0.22704334557056427,\n",
              "  0.21722862124443054]}"
            ]
          },
          "metadata": {},
          "execution_count": 92
        }
      ]
    },
    {
      "cell_type": "markdown",
      "metadata": {
        "id": "Gjzj4rOvrJZP"
      },
      "source": [
        "### Validation Data"
      ]
    },
    {
      "cell_type": "markdown",
      "metadata": {
        "id": "eapX0hr8r3mI"
      },
      "source": [
        "Now the goal of ML, is to build systems that genaralizet to new data, hence we should also know and understand how the model performs on data it has never seen before. This validation set can be use it to compute a loss and metrics  value."
      ]
    },
    {
      "cell_type": "markdown",
      "metadata": {
        "id": "cRgRIbWEvPPd"
      },
      "source": [
        "Below snippet choses around 30% randomly and splits into training and validation "
      ]
    },
    {
      "cell_type": "code",
      "metadata": {
        "id": "TQdCzFSUvFun"
      },
      "source": [
        "indices_permutation = np.random.permutation(len(inputs))\n",
        "shuffled_inputs = inputs[indices_permutation]\n",
        "shuffled_targets = targets[indices_permutation]\n",
        "num_validation_samples = int(0.3 * len(inputs))\n",
        "val_inputs = shuffled_inputs[:num_validation_samples]\n",
        "val_targets = shuffled_targets[:num_validation_samples]\n",
        "training_inputs = shuffled_inputs[num_validation_samples:]\n",
        "training_targets = shuffled_targets[num_validation_samples:]"
      ],
      "execution_count": null,
      "outputs": []
    },
    {
      "cell_type": "code",
      "metadata": {
        "colab": {
          "base_uri": "https://localhost:8080/"
        },
        "id": "UipPa6K7vOK6",
        "outputId": "a0c6501e-55fc-462a-ea06-0902a272e46f"
      },
      "source": [
        "model.fit(training_inputs, training_targets, epochs = 5, batch_size=128, validation_data = (val_inputs, val_targets))"
      ],
      "execution_count": null,
      "outputs": [
        {
          "output_type": "stream",
          "name": "stdout",
          "text": [
            "Epoch 1/5\n",
            "11/11 [==============================] - 0s 23ms/step - loss: 0.2152 - binary_accuracy: 0.8150 - val_loss: 0.1945 - val_binary_accuracy: 0.8200\n",
            "Epoch 2/5\n",
            "11/11 [==============================] - 0s 7ms/step - loss: 0.2098 - binary_accuracy: 0.8257 - val_loss: 0.1896 - val_binary_accuracy: 0.8233\n",
            "Epoch 3/5\n",
            "11/11 [==============================] - 0s 6ms/step - loss: 0.2046 - binary_accuracy: 0.8343 - val_loss: 0.1849 - val_binary_accuracy: 0.8317\n",
            "Epoch 4/5\n",
            "11/11 [==============================] - 0s 7ms/step - loss: 0.1997 - binary_accuracy: 0.8386 - val_loss: 0.1804 - val_binary_accuracy: 0.8383\n",
            "Epoch 5/5\n",
            "11/11 [==============================] - 0s 8ms/step - loss: 0.1951 - binary_accuracy: 0.8429 - val_loss: 0.1763 - val_binary_accuracy: 0.8400\n"
          ]
        },
        {
          "output_type": "execute_result",
          "data": {
            "text/plain": [
              "<keras.callbacks.History at 0x7f027b5d7790>"
            ]
          },
          "metadata": {},
          "execution_count": 94
        }
      ]
    },
    {
      "cell_type": "code",
      "metadata": {
        "colab": {
          "base_uri": "https://localhost:8080/"
        },
        "id": "ct1ytg0uvt3j",
        "outputId": "d1d04769-9380-4e31-a7df-ae469a113ac8"
      },
      "source": [
        "loss_and_metrics = model.evaluate(val_inputs, val_targets, batch_size=128)"
      ],
      "execution_count": null,
      "outputs": [
        {
          "output_type": "stream",
          "name": "stdout",
          "text": [
            "5/5 [==============================] - 0s 4ms/step - loss: 0.1763 - binary_accuracy: 0.8400\n"
          ]
        }
      ]
    },
    {
      "cell_type": "code",
      "metadata": {
        "colab": {
          "base_uri": "https://localhost:8080/"
        },
        "id": "t4Aw96Xev3JC",
        "outputId": "5fd348bb-89e4-4098-c657-a379b0c4dda1"
      },
      "source": [
        "loss_and_metrics"
      ],
      "execution_count": null,
      "outputs": [
        {
          "output_type": "execute_result",
          "data": {
            "text/plain": [
              "[0.17630933225154877, 0.8399999737739563]"
            ]
          },
          "metadata": {},
          "execution_count": 96
        }
      ]
    },
    {
      "cell_type": "markdown",
      "metadata": {
        "id": "99-Y3pV7v6e8"
      },
      "source": [
        "### Inference"
      ]
    },
    {
      "cell_type": "code",
      "metadata": {
        "id": "GGVhIeDGwPwW"
      },
      "source": [
        "predictions = model.predict(val_inputs, batch_size=128)"
      ],
      "execution_count": null,
      "outputs": []
    },
    {
      "cell_type": "code",
      "metadata": {
        "colab": {
          "base_uri": "https://localhost:8080/"
        },
        "id": "u1ceuFSdwZYU",
        "outputId": "410045c1-d59c-4175-ae15-6f2d53b7dcab"
      },
      "source": [
        "print(predictions[:10])"
      ],
      "execution_count": null,
      "outputs": [
        {
          "output_type": "stream",
          "name": "stdout",
          "text": [
            "[[ 1.0381653 ]\n",
            " [-0.13939185]\n",
            " [ 0.22064856]\n",
            " [-0.43192774]\n",
            " [ 0.26546165]\n",
            " [-0.2919848 ]\n",
            " [ 0.5840608 ]\n",
            " [-0.550303  ]\n",
            " [ 0.9358033 ]\n",
            " [ 0.9221184 ]]\n"
          ]
        }
      ]
    },
    {
      "cell_type": "code",
      "metadata": {
        "id": "1uF48qqdwa2x"
      },
      "source": [
        ""
      ],
      "execution_count": null,
      "outputs": []
    }
  ]
}