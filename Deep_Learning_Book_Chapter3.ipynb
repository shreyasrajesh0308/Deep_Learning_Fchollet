{
  "nbformat": 4,
  "nbformat_minor": 0,
  "metadata": {
    "colab": {
      "name": "Deep_Learning_Book_Chapter3.ipynb",
      "provenance": [],
      "authorship_tag": "ABX9TyOdWArjKRv+VX6Ys+hT7c5l",
      "include_colab_link": true
    },
    "kernelspec": {
      "name": "python3",
      "display_name": "Python 3"
    },
    "language_info": {
      "name": "python"
    },
    "accelerator": "GPU"
  },
  "cells": [
    {
      "cell_type": "markdown",
      "metadata": {
        "id": "view-in-github",
        "colab_type": "text"
      },
      "source": [
        "<a href=\"https://colab.research.google.com/github/shreyasrajesh0308/Deep_Learning/blob/master/Deep_Learning_Book_Chapter3.ipynb\" target=\"_parent\"><img src=\"https://colab.research.google.com/assets/colab-badge.svg\" alt=\"Open In Colab\"/></a>"
      ]
    },
    {
      "cell_type": "markdown",
      "metadata": {
        "id": "LJn9krxTtn58"
      },
      "source": [
        "# Chapter 3 - Introduction to Keras and Tensorflow"
      ]
    },
    {
      "cell_type": "code",
      "metadata": {
        "id": "AMwm90DXtxo3"
      },
      "source": [
        "  import tensorflow as tf"
      ],
      "execution_count": 1,
      "outputs": []
    },
    {
      "cell_type": "markdown",
      "metadata": {
        "id": "h-HVf-gYu8Uy"
      },
      "source": [
        "## Constant Tensors and Variables"
      ]
    },
    {
      "cell_type": "markdown",
      "metadata": {
        "id": "wz_7I2nPvSIh"
      },
      "source": [
        "Define a tensor with shape 2,1 and filled with ones throught "
      ]
    },
    {
      "cell_type": "code",
      "metadata": {
        "id": "uqlv1b6DukPh"
      },
      "source": [
        "x = tf.ones(shape=(2, 1))"
      ],
      "execution_count": 2,
      "outputs": []
    },
    {
      "cell_type": "code",
      "metadata": {
        "colab": {
          "base_uri": "https://localhost:8080/"
        },
        "id": "IsNdEC--uuo-",
        "outputId": "3f9d26ba-e4e0-4811-e685-e8b43ae42d6d"
      },
      "source": [
        "print(x)"
      ],
      "execution_count": 3,
      "outputs": [
        {
          "output_type": "stream",
          "name": "stdout",
          "text": [
            "tf.Tensor(\n",
            "[[1.]\n",
            " [1.]], shape=(2, 1), dtype=float32)\n"
          ]
        }
      ]
    },
    {
      "cell_type": "markdown",
      "metadata": {
        "id": "9y89MSl_vsaF"
      },
      "source": [
        "Define a tensor with shape 2,1 filled with zeros"
      ]
    },
    {
      "cell_type": "code",
      "metadata": {
        "id": "Cn31c_WNuzu2"
      },
      "source": [
        "x = tf.zeros(shape=(2,1))"
      ],
      "execution_count": 4,
      "outputs": []
    },
    {
      "cell_type": "code",
      "metadata": {
        "colab": {
          "base_uri": "https://localhost:8080/"
        },
        "id": "x5CJnk62u4uU",
        "outputId": "23ae1e68-bcf5-45c1-c309-0aa5135cf685"
      },
      "source": [
        "print(x)"
      ],
      "execution_count": 5,
      "outputs": [
        {
          "output_type": "stream",
          "name": "stdout",
          "text": [
            "tf.Tensor(\n",
            "[[0.]\n",
            " [0.]], shape=(2, 1), dtype=float32)\n"
          ]
        }
      ]
    },
    {
      "cell_type": "markdown",
      "metadata": {
        "id": "Bq7_PyEjv3re"
      },
      "source": [
        "Define a tensor of shape 3,1 where elements are picked from a random distribution with mean 0 and standard deviation 1"
      ]
    },
    {
      "cell_type": "code",
      "metadata": {
        "id": "sL9IoMO2vEEK"
      },
      "source": [
        "x = tf.random.normal(shape=(3,1), mean = 0., stddev=1.)"
      ],
      "execution_count": 6,
      "outputs": []
    },
    {
      "cell_type": "code",
      "metadata": {
        "colab": {
          "base_uri": "https://localhost:8080/"
        },
        "id": "yKcnUQ7vvO8X",
        "outputId": "707b96dc-ed61-4b27-85c7-11ec5cbdd766"
      },
      "source": [
        "print(x)"
      ],
      "execution_count": 7,
      "outputs": [
        {
          "output_type": "stream",
          "name": "stdout",
          "text": [
            "tf.Tensor(\n",
            "[[-0.10958096]\n",
            " [-0.43792692]\n",
            " [ 1.5117426 ]], shape=(3, 1), dtype=float32)\n"
          ]
        }
      ]
    },
    {
      "cell_type": "markdown",
      "metadata": {
        "id": "zoUhqwgdtz_M"
      },
      "source": [
        "Define a tensor of shape 3,1 where elements are picked from a uniform distribution with minval 0 and maxval 1"
      ]
    },
    {
      "cell_type": "code",
      "metadata": {
        "id": "HmUCFSCOwLW5"
      },
      "source": [
        "x = tf.random.uniform(shape=(3,1), minval = 0, maxval =1)"
      ],
      "execution_count": 8,
      "outputs": []
    },
    {
      "cell_type": "code",
      "metadata": {
        "colab": {
          "base_uri": "https://localhost:8080/"
        },
        "id": "L3jk5F-ZwQiQ",
        "outputId": "8d3937df-711d-40b1-86e6-bcfe2575bbd1"
      },
      "source": [
        "x"
      ],
      "execution_count": 9,
      "outputs": [
        {
          "output_type": "execute_result",
          "data": {
            "text/plain": [
              "<tf.Tensor: shape=(3, 1), dtype=float32, numpy=\n",
              "array([[0.9360405 ],\n",
              "       [0.23332965],\n",
              "       [0.7320099 ]], dtype=float32)>"
            ]
          },
          "metadata": {},
          "execution_count": 9
        }
      ]
    },
    {
      "cell_type": "markdown",
      "metadata": {
        "id": "dhynMj5SwW2f"
      },
      "source": [
        "But one caveat with tensors is that their values are not assignable that is particular values cannot be changed for example "
      ]
    },
    {
      "cell_type": "code",
      "metadata": {
        "colab": {
          "base_uri": "https://localhost:8080/",
          "height": 171
        },
        "id": "8nd9BD1pwwZu",
        "outputId": "e44ceb97-4ecb-43d3-a55d-1c9767446323"
      },
      "source": [
        "x[0][0] = 10"
      ],
      "execution_count": 10,
      "outputs": [
        {
          "output_type": "error",
          "ename": "TypeError",
          "evalue": "ignored",
          "traceback": [
            "\u001b[0;31m---------------------------------------------------------------------------\u001b[0m",
            "\u001b[0;31mTypeError\u001b[0m                                 Traceback (most recent call last)",
            "\u001b[0;32m<ipython-input-10-61241e8e1160>\u001b[0m in \u001b[0;36m<module>\u001b[0;34m()\u001b[0m\n\u001b[0;32m----> 1\u001b[0;31m \u001b[0mx\u001b[0m\u001b[0;34m[\u001b[0m\u001b[0;36m0\u001b[0m\u001b[0;34m]\u001b[0m\u001b[0;34m[\u001b[0m\u001b[0;36m0\u001b[0m\u001b[0;34m]\u001b[0m \u001b[0;34m=\u001b[0m \u001b[0;36m10\u001b[0m\u001b[0;34m\u001b[0m\u001b[0;34m\u001b[0m\u001b[0m\n\u001b[0m",
            "\u001b[0;31mTypeError\u001b[0m: 'tensorflow.python.framework.ops.EagerTensor' object does not support item assignment"
          ]
        }
      ]
    },
    {
      "cell_type": "markdown",
      "metadata": {
        "id": "YNvM7zipwx3E"
      },
      "source": [
        " But since weights in our network are stored as tensors, how can these update if they cannot be assigned to a value, to do this we have the variable class, which makes these tensors a variable"
      ]
    },
    {
      "cell_type": "code",
      "metadata": {
        "id": "iBUgWzEHxHXi"
      },
      "source": [
        "v = tf.Variable(initial_value=tf.random.normal(shape=(3,1)))"
      ],
      "execution_count": null,
      "outputs": []
    },
    {
      "cell_type": "code",
      "metadata": {
        "id": "HE0o2K3zxZ2x"
      },
      "source": [
        "v"
      ],
      "execution_count": null,
      "outputs": []
    },
    {
      "cell_type": "code",
      "metadata": {
        "id": "29iigtQkxbuz"
      },
      "source": [
        "v.assign(tf.ones(shape=(3,1)))"
      ],
      "execution_count": null,
      "outputs": []
    },
    {
      "cell_type": "code",
      "metadata": {
        "id": "HKmUkzbYxh02"
      },
      "source": [
        "print(v)"
      ],
      "execution_count": null,
      "outputs": []
    },
    {
      "cell_type": "code",
      "metadata": {
        "id": "qLM10dpBxj9i"
      },
      "source": [
        "v[0, 0].assign(100)"
      ],
      "execution_count": null,
      "outputs": []
    },
    {
      "cell_type": "code",
      "metadata": {
        "id": "Sgyi9yY_xnvA"
      },
      "source": [
        "v.assign_add(tf.ones(shape=(3,1)))\n",
        "print(v)"
      ],
      "execution_count": null,
      "outputs": []
    },
    {
      "cell_type": "markdown",
      "metadata": {
        "id": "iULi0jP9xtiY"
      },
      "source": [
        "Performing some math operations in tensorflow"
      ]
    },
    {
      "cell_type": "code",
      "metadata": {
        "id": "rRc5PzaRx86-"
      },
      "source": [
        "a = tf.ones(shape=(2,2))\n",
        "b = tf.sqrt(a)\n",
        "c = tf.sqrt(a)\n",
        "d = b+c\n",
        "e = tf.matmul(a, b)\n",
        "e*=d"
      ],
      "execution_count": null,
      "outputs": []
    },
    {
      "cell_type": "code",
      "metadata": {
        "id": "2VoPQCmEyCom"
      },
      "source": [
        "e"
      ],
      "execution_count": null,
      "outputs": []
    },
    {
      "cell_type": "markdown",
      "metadata": {
        "id": "LV-7o04iyR15"
      },
      "source": [
        "Now, we look at the GradientTape API, that is computing the gradient of any differntiable expression"
      ]
    },
    {
      "cell_type": "code",
      "metadata": {
        "id": "RbgiI9gnykI3"
      },
      "source": [
        ""
      ],
      "execution_count": null,
      "outputs": []
    }
  ]
}