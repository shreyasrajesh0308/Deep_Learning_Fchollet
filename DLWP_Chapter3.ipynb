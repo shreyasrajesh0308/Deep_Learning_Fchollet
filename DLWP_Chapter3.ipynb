{
 "cells": [
  {
   "cell_type": "markdown",
   "id": "64a6e4c3",
   "metadata": {},
   "source": [
    "# Chapter 3 Deep Learning with Python\n",
    "\n",
    "Some code snippets from chapter 3 of Deep Learning with Python. "
   ]
  },
  {
   "cell_type": "code",
   "execution_count": 1,
   "id": "f4505ec3",
   "metadata": {},
   "outputs": [],
   "source": [
    "import tensorflow as tf"
   ]
  },
  {
   "cell_type": "code",
   "execution_count": 2,
   "id": "e009c80a",
   "metadata": {},
   "outputs": [
    {
     "name": "stdout",
     "output_type": "stream",
     "text": [
      "TensorFlow has access to the following devices:\n",
      "[PhysicalDevice(name='/physical_device:CPU:0', device_type='CPU'), PhysicalDevice(name='/physical_device:GPU:0', device_type='GPU')]\n",
      "TensorFlow version: 2.8.0\n"
     ]
    }
   ],
   "source": [
    "# Check for TensorFlow GPU access\n",
    "print(f\"TensorFlow has access to the following devices:\\n{tf.config.list_physical_devices()}\")\n",
    "\n",
    "# See TensorFlow version\n",
    "print(f\"TensorFlow version: {tf.__version__}\")"
   ]
  },
  {
   "cell_type": "code",
   "execution_count": 15,
   "id": "49a00e4c",
   "metadata": {},
   "outputs": [
    {
     "name": "stdout",
     "output_type": "stream",
     "text": [
      "Num GPUs Available:  1\n"
     ]
    }
   ],
   "source": [
    "print(\"Num GPUs Available: \", len(tf.config.list_physical_devices('GPU')))"
   ]
  },
  {
   "cell_type": "markdown",
   "id": "d2e13420",
   "metadata": {},
   "source": [
    "# Benchmarking CPU cs GPU performance on M1 macs\n",
    "\n",
    "Run the Keras MNIST example on both CPU and GPU and compare the time taken for each."
   ]
  },
  {
   "cell_type": "code",
   "execution_count": 4,
   "id": "cd79deda",
   "metadata": {},
   "outputs": [],
   "source": [
    "import numpy as np\n",
    "from tensorflow import keras\n",
    "from tensorflow.keras import layers\n"
   ]
  },
  {
   "cell_type": "code",
   "execution_count": 5,
   "id": "3380e616",
   "metadata": {},
   "outputs": [
    {
     "name": "stdout",
     "output_type": "stream",
     "text": [
      "Downloading data from https://storage.googleapis.com/tensorflow/tf-keras-datasets/mnist.npz\n",
      "11493376/11490434 [==============================] - 2s 0us/step\n",
      "11501568/11490434 [==============================] - 2s 0us/step\n",
      "x_train shape: (60000, 28, 28, 1)\n",
      "60000 train samples\n",
      "10000 test samples\n"
     ]
    }
   ],
   "source": [
    "# Model / data parameters\n",
    "num_classes = 10\n",
    "input_shape = (28, 28, 1)\n",
    "\n",
    "# the data, split between train and test sets\n",
    "(x_train, y_train), (x_test, y_test) = keras.datasets.mnist.load_data()\n",
    "\n",
    "# Scale images to the [0, 1] range\n",
    "x_train = x_train.astype(\"float32\") / 255\n",
    "x_test = x_test.astype(\"float32\") / 255\n",
    "# Make sure images have shape (28, 28, 1)\n",
    "x_train = np.expand_dims(x_train, -1)\n",
    "x_test = np.expand_dims(x_test, -1)\n",
    "print(\"x_train shape:\", x_train.shape)\n",
    "print(x_train.shape[0], \"train samples\")\n",
    "print(x_test.shape[0], \"test samples\")\n",
    "\n",
    "\n",
    "# convert class vectors to binary class matrices\n",
    "y_train = keras.utils.to_categorical(y_train, num_classes)\n",
    "y_test = keras.utils.to_categorical(y_test, num_classes)\n"
   ]
  },
  {
   "cell_type": "code",
   "execution_count": 10,
   "id": "2273ea62",
   "metadata": {},
   "outputs": [
    {
     "name": "stdout",
     "output_type": "stream",
     "text": [
      "Model: \"sequential_1\"\n",
      "_________________________________________________________________\n",
      " Layer (type)                Output Shape              Param #   \n",
      "=================================================================\n",
      " conv2d_2 (Conv2D)           (None, 26, 26, 32)        320       \n",
      "                                                                 \n",
      " max_pooling2d_2 (MaxPooling  (None, 13, 13, 32)       0         \n",
      " 2D)                                                             \n",
      "                                                                 \n",
      " conv2d_3 (Conv2D)           (None, 11, 11, 64)        18496     \n",
      "                                                                 \n",
      " max_pooling2d_3 (MaxPooling  (None, 5, 5, 64)         0         \n",
      " 2D)                                                             \n",
      "                                                                 \n",
      " flatten_1 (Flatten)         (None, 1600)              0         \n",
      "                                                                 \n",
      " dropout_1 (Dropout)         (None, 1600)              0         \n",
      "                                                                 \n",
      " dense_1 (Dense)             (None, 10)                16010     \n",
      "                                                                 \n",
      "=================================================================\n",
      "Total params: 34,826\n",
      "Trainable params: 34,826\n",
      "Non-trainable params: 0\n",
      "_________________________________________________________________\n"
     ]
    }
   ],
   "source": [
    "model = keras.Sequential(\n",
    "    [\n",
    "        keras.Input(shape=input_shape),\n",
    "        layers.Conv2D(32, kernel_size=(3, 3), activation=\"relu\"),\n",
    "        layers.MaxPooling2D(pool_size=(2, 2)),\n",
    "        layers.Conv2D(64, kernel_size=(3, 3), activation=\"relu\"),\n",
    "        layers.MaxPooling2D(pool_size=(2, 2)),\n",
    "        layers.Flatten(),\n",
    "        layers.Dropout(0.5),\n",
    "        layers.Dense(num_classes, activation=\"softmax\"),\n",
    "    ]\n",
    ")\n",
    "\n",
    "model.summary()\n"
   ]
  },
  {
   "cell_type": "code",
   "execution_count": 8,
   "id": "3f653e77",
   "metadata": {},
   "outputs": [],
   "source": [
    "import time "
   ]
  },
  {
   "cell_type": "code",
   "execution_count": 9,
   "id": "a401945d",
   "metadata": {},
   "outputs": [
    {
     "name": "stdout",
     "output_type": "stream",
     "text": [
      "Epoch 1/15\n"
     ]
    },
    {
     "name": "stderr",
     "output_type": "stream",
     "text": [
      "2022-05-02 12:48:17.771780: W tensorflow/core/platform/profile_utils/cpu_utils.cc:128] Failed to get CPU frequency: 0 Hz\n",
      "2022-05-02 12:48:18.011626: I tensorflow/core/grappler/optimizers/custom_graph_optimizer_registry.cc:113] Plugin optimizer for device_type GPU is enabled.\n"
     ]
    },
    {
     "name": "stdout",
     "output_type": "stream",
     "text": [
      "422/422 [==============================] - ETA: 0s - loss: 0.3705 - accuracy: 0.8870"
     ]
    },
    {
     "name": "stderr",
     "output_type": "stream",
     "text": [
      "2022-05-02 12:48:27.017258: I tensorflow/core/grappler/optimizers/custom_graph_optimizer_registry.cc:113] Plugin optimizer for device_type GPU is enabled.\n"
     ]
    },
    {
     "name": "stdout",
     "output_type": "stream",
     "text": [
      "422/422 [==============================] - 10s 16ms/step - loss: 0.3705 - accuracy: 0.8870 - val_loss: 0.0885 - val_accuracy: 0.9760\n",
      "Epoch 2/15\n",
      "422/422 [==============================] - 6s 15ms/step - loss: 0.1117 - accuracy: 0.9660 - val_loss: 0.0566 - val_accuracy: 0.9840\n",
      "Epoch 3/15\n",
      "422/422 [==============================] - 7s 16ms/step - loss: 0.0842 - accuracy: 0.9745 - val_loss: 0.0473 - val_accuracy: 0.9873\n",
      "Epoch 4/15\n",
      "422/422 [==============================] - 6s 15ms/step - loss: 0.0718 - accuracy: 0.9784 - val_loss: 0.0420 - val_accuracy: 0.9888\n",
      "Epoch 5/15\n",
      "422/422 [==============================] - 6s 14ms/step - loss: 0.0634 - accuracy: 0.9805 - val_loss: 0.0377 - val_accuracy: 0.9893\n",
      "Epoch 6/15\n",
      "422/422 [==============================] - 7s 16ms/step - loss: 0.0557 - accuracy: 0.9829 - val_loss: 0.0360 - val_accuracy: 0.9898\n",
      "Epoch 7/15\n",
      "422/422 [==============================] - 6s 15ms/step - loss: 0.0510 - accuracy: 0.9839 - val_loss: 0.0335 - val_accuracy: 0.9903\n",
      "Epoch 8/15\n",
      "422/422 [==============================] - 6s 15ms/step - loss: 0.0491 - accuracy: 0.9847 - val_loss: 0.0305 - val_accuracy: 0.9917\n",
      "Epoch 9/15\n",
      "422/422 [==============================] - 6s 15ms/step - loss: 0.0467 - accuracy: 0.9851 - val_loss: 0.0333 - val_accuracy: 0.9915\n",
      "Epoch 10/15\n",
      "422/422 [==============================] - 6s 15ms/step - loss: 0.0409 - accuracy: 0.9870 - val_loss: 0.0340 - val_accuracy: 0.9895\n",
      "Epoch 11/15\n",
      "422/422 [==============================] - 6s 15ms/step - loss: 0.0418 - accuracy: 0.9863 - val_loss: 0.0310 - val_accuracy: 0.9907\n",
      "Epoch 12/15\n",
      "422/422 [==============================] - 6s 15ms/step - loss: 0.0387 - accuracy: 0.9879 - val_loss: 0.0317 - val_accuracy: 0.9915\n",
      "Epoch 13/15\n",
      "422/422 [==============================] - 6s 15ms/step - loss: 0.0375 - accuracy: 0.9875 - val_loss: 0.0311 - val_accuracy: 0.9920\n",
      "Epoch 14/15\n",
      "422/422 [==============================] - 6s 15ms/step - loss: 0.0354 - accuracy: 0.9883 - val_loss: 0.0312 - val_accuracy: 0.9910\n",
      "Epoch 15/15\n",
      "422/422 [==============================] - 6s 15ms/step - loss: 0.0333 - accuracy: 0.9897 - val_loss: 0.0268 - val_accuracy: 0.9923\n",
      "Time Taken is 97.5620768070221\n"
     ]
    }
   ],
   "source": [
    "batch_size = 128\n",
    "epochs = 15\n",
    "\n",
    "model.compile(loss=\"categorical_crossentropy\", optimizer=\"adam\", metrics=[\"accuracy\"])\n",
    "start_time = time.time()\n",
    "model.fit(x_train, y_train, batch_size=batch_size, epochs=epochs, validation_split=0.1)\n",
    "print(\"Time Taken is {}\".format(time.time() - start_time))"
   ]
  },
  {
   "cell_type": "code",
   "execution_count": 14,
   "id": "ae16a956",
   "metadata": {
    "scrolled": true
   },
   "outputs": [
    {
     "name": "stdout",
     "output_type": "stream",
     "text": [
      "Epoch 1/15\n",
      "  7/422 [..............................] - ETA: 7s - loss: 0.0178 - accuracy: 0.9922"
     ]
    },
    {
     "name": "stderr",
     "output_type": "stream",
     "text": [
      "2022-05-02 14:00:00.292156: I tensorflow/core/grappler/optimizers/custom_graph_optimizer_registry.cc:113] Plugin optimizer for device_type GPU is enabled.\n"
     ]
    },
    {
     "name": "stdout",
     "output_type": "stream",
     "text": [
      "419/422 [============================>.] - ETA: 0s - loss: 0.0209 - accuracy: 0.9929"
     ]
    },
    {
     "name": "stderr",
     "output_type": "stream",
     "text": [
      "2022-05-02 14:00:07.751927: I tensorflow/core/grappler/optimizers/custom_graph_optimizer_registry.cc:113] Plugin optimizer for device_type GPU is enabled.\n"
     ]
    },
    {
     "name": "stdout",
     "output_type": "stream",
     "text": [
      "422/422 [==============================] - 8s 18ms/step - loss: 0.0209 - accuracy: 0.9929 - val_loss: 0.0246 - val_accuracy: 0.9938\n",
      "Epoch 2/15\n",
      "422/422 [==============================] - 8s 19ms/step - loss: 0.0200 - accuracy: 0.9931 - val_loss: 0.0287 - val_accuracy: 0.9927\n",
      "Epoch 3/15\n",
      "422/422 [==============================] - 8s 20ms/step - loss: 0.0198 - accuracy: 0.9929 - val_loss: 0.0278 - val_accuracy: 0.9932\n",
      "Epoch 4/15\n",
      "422/422 [==============================] - 8s 19ms/step - loss: 0.0200 - accuracy: 0.9934 - val_loss: 0.0284 - val_accuracy: 0.9937\n",
      "Epoch 5/15\n",
      "422/422 [==============================] - 8s 19ms/step - loss: 0.0188 - accuracy: 0.9932 - val_loss: 0.0268 - val_accuracy: 0.9933\n",
      "Epoch 6/15\n",
      "422/422 [==============================] - 8s 18ms/step - loss: 0.0195 - accuracy: 0.9931 - val_loss: 0.0269 - val_accuracy: 0.9933\n",
      "Epoch 7/15\n",
      "422/422 [==============================] - 8s 18ms/step - loss: 0.0177 - accuracy: 0.9941 - val_loss: 0.0283 - val_accuracy: 0.9935\n",
      "Epoch 8/15\n",
      "422/422 [==============================] - 8s 18ms/step - loss: 0.0179 - accuracy: 0.9940 - val_loss: 0.0270 - val_accuracy: 0.9935\n",
      "Epoch 9/15\n",
      "422/422 [==============================] - 8s 18ms/step - loss: 0.0173 - accuracy: 0.9939 - val_loss: 0.0283 - val_accuracy: 0.9938\n",
      "Epoch 10/15\n",
      "422/422 [==============================] - 8s 18ms/step - loss: 0.0167 - accuracy: 0.9946 - val_loss: 0.0261 - val_accuracy: 0.9923\n",
      "Epoch 11/15\n",
      "422/422 [==============================] - 9s 20ms/step - loss: 0.0176 - accuracy: 0.9938 - val_loss: 0.0288 - val_accuracy: 0.9932\n",
      "Epoch 12/15\n",
      "422/422 [==============================] - 8s 19ms/step - loss: 0.0165 - accuracy: 0.9941 - val_loss: 0.0266 - val_accuracy: 0.9928\n",
      "Epoch 13/15\n",
      "422/422 [==============================] - 8s 19ms/step - loss: 0.0161 - accuracy: 0.9945 - val_loss: 0.0291 - val_accuracy: 0.9932\n",
      "Epoch 14/15\n",
      "422/422 [==============================] - 8s 19ms/step - loss: 0.0151 - accuracy: 0.9947 - val_loss: 0.0292 - val_accuracy: 0.9933\n",
      "Epoch 15/15\n",
      "422/422 [==============================] - 8s 18ms/step - loss: 0.0166 - accuracy: 0.9942 - val_loss: 0.0306 - val_accuracy: 0.9930\n",
      "Time Taken is 119.56062173843384\n"
     ]
    }
   ],
   "source": [
    "batch_size = 128\n",
    "epochs = 15\n",
    "\n",
    "model.compile(loss=\"categorical_crossentropy\", optimizer=\"adam\", metrics=[\"accuracy\"])\n",
    "start_time = time.time()\n",
    "with tf.device('/cpu:0'):\n",
    "    model.fit(x_train, y_train, batch_size=batch_size, epochs=epochs, validation_split=0.1)\n",
    "print(\"Time Taken is {}\".format(time.time() - start_time))"
   ]
  },
  {
   "cell_type": "markdown",
   "id": "81a4ab9b",
   "metadata": {},
   "source": [
    "## Base Layer class in Keras\n",
    "\n",
    "Everything in Keras is either a Layer class or something that interacts with the layer class.\n",
    "\n",
    "Layer encapsulates some state (weights) and some computation (Forward Pass).\n",
    "\n",
    "Following is a Naive Dense Layer implementation"
   ]
  },
  {
   "cell_type": "code",
   "execution_count": 23,
   "id": "d2e7eb1c",
   "metadata": {},
   "outputs": [],
   "source": [
    "class SimpleDense(keras.layers.Layer):\n",
    "    \n",
    "    def __init__(self, units, activation = None):\n",
    "        \n",
    "        super().__init__() # Run the constructor for the inherited class\n",
    "        self.units = units\n",
    "        self.activation = activation\n",
    "        \n",
    "    # Build the weights, used in a seperate function to infer weights from previous layer\n",
    "    def build(self, input_shape):\n",
    "        \n",
    "        input_dim = input_shape[-1]\n",
    "        self.W = self.add_weight(shape=(input_dim, self.units), initializer = \"random_normal\")\n",
    "        self.b = self.add_weight(shape = (self.units, ), initializer = \"zeros\")\n",
    "    \n",
    "    # Run the forward action in this case forward pass\n",
    "    def call(self, inputs):\n",
    "        \n",
    "        out = tf.matmul(inputs, self.W) + self.b\n",
    "        \n",
    "        if self.activation is not None: \n",
    "            \n",
    "            out = self.activation(out)\n",
    "        \n",
    "        return out\n",
    "        "
   ]
  },
  {
   "cell_type": "code",
   "execution_count": 24,
   "id": "1f7cd669",
   "metadata": {},
   "outputs": [],
   "source": [
    "mydense = SimpleDense(32, activation=tf.nn.relu)\n",
    "input_tensor = tf.ones(shape=(2,784))\n",
    "output_tensor = mydense(input_tensor)"
   ]
  },
  {
   "cell_type": "code",
   "execution_count": 26,
   "id": "fc9c9878",
   "metadata": {},
   "outputs": [
    {
     "data": {
      "text/plain": [
       "TensorShape([2, 32])"
      ]
     },
     "execution_count": 26,
     "metadata": {},
     "output_type": "execute_result"
    }
   ],
   "source": [
    "output_tensor.shape"
   ]
  }
 ],
 "metadata": {
  "kernelspec": {
   "display_name": "Python [conda env:DLWP] *",
   "language": "python",
   "name": "conda-env-DLWP-py"
  },
  "language_info": {
   "codemirror_mode": {
    "name": "ipython",
    "version": 3
   },
   "file_extension": ".py",
   "mimetype": "text/x-python",
   "name": "python",
   "nbconvert_exporter": "python",
   "pygments_lexer": "ipython3",
   "version": "3.8.13"
  }
 },
 "nbformat": 4,
 "nbformat_minor": 5
}
