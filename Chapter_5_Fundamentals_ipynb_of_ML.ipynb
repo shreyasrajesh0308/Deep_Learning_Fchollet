{
  "nbformat": 4,
  "nbformat_minor": 0,
  "metadata": {
    "colab": {
      "name": "Chapter_5_Fundamentals.ipynb_of_ML",
      "provenance": [],
      "toc_visible": true,
      "authorship_tag": "ABX9TyN2pJy4JnQnYTFSTE23mFQR",
      "include_colab_link": true
    },
    "kernelspec": {
      "name": "python3",
      "display_name": "Python 3"
    },
    "language_info": {
      "name": "python"
    },
    "accelerator": "GPU"
  },
  "cells": [
    {
      "cell_type": "markdown",
      "metadata": {
        "id": "view-in-github",
        "colab_type": "text"
      },
      "source": [
        "<a href=\"https://colab.research.google.com/github/shreyasrajesh0308/Deep_Learning/blob/master/Chapter_5_Fundamentals_ipynb_of_ML.ipynb\" target=\"_parent\"><img src=\"https://colab.research.google.com/assets/colab-badge.svg\" alt=\"Open In Colab\"/></a>"
      ]
    },
    {
      "cell_type": "markdown",
      "metadata": {
        "id": "GviOAE_9pu9P"
      },
      "source": [
        "# Fundamentals of Machine Learning"
      ]
    },
    {
      "cell_type": "markdown",
      "metadata": {
        "id": "CsmuD3LTp8Xk"
      },
      "source": [
        "## Generalizing: The goal of Machine Learning"
      ]
    },
    {
      "cell_type": "markdown",
      "metadata": {
        "id": "gw0yAJ9et7ZZ"
      },
      "source": [
        "Generalizing and optimization are in some ense rivals in machine learning. While Generalizing is trying to optimize for any dataset Optimization is focussed on reducing the loss for the train set. Hence in the training process we generally have 3 cycles.\n",
        "\n",
        "**Underfitting** : The model can still learn i.e here optimization and generalization are directly correlated since as the training loss decreases the validation loss also decreases.\n",
        "\n",
        "**Robust fit**: Optimzal point for both generalization and optimization, the validation loss is now stalling with the training loss.\n",
        "\n",
        "**Overfit**: At this point the validation loss is starting to increase as the training loss decreseas. Here the system is optimizing for the data but is not generalizing. \n"
      ]
    },
    {
      "cell_type": "markdown",
      "metadata": {
        "id": "38Y7Wab4nh4u"
      },
      "source": [
        "Rare Features and Spurious correlations are two main factors that lead to overfitting. \n",
        "\n",
        "**Rare Features**: machine learning models trained on datasets that include rare feature values are highly susceptible to overfitting. In a sentiment classification task, if the word “cherimoya” (a fruit native to the Andes) only appears in one text in the train- ing data, and this text happens to be negative in sentiment, a poorly regularized model might put a very high weight on this word and always classify new texts that mention cherimoyas as negative, whereas, objectively, there’s nothing negative about the cherimoya.\n",
        "\n",
        "**Spurious Correlation**: If you’ve only ever seen two orange tabby cats in your life, and they both happened to be terribly antisocial, you might infer that orange tabby cats are generally likely to be antisocial. That’s overfitting: if you had been exposed to a wider variety of cats, includ- ing more orange ones, you’d have learned that cat color is not well correlated with character."
      ]
    },
    {
      "cell_type": "markdown",
      "metadata": {
        "id": "W9ya0KIvoDUv"
      },
      "source": [
        "Importantly, a feature value doesn’t need to occur only a couple of times to lead to spurious correlations. Consider a word that occurs in 100 samples in your training data and that’s associated with a positive sentiment 54% of the time and with a nega- tive sentiment 46% of the time. That difference may well be a complete statistical fluke, yet your model is likely to learn to leverage that feature for its classification task. This is one of the most common sources of overfitting.\n",
        "\n",
        "\n",
        "Here’s a striking example. Take MNIST. Create a new training set by concatenating 784 white noise dimensions to the existing 784 dimensions of the data, so half of the data is now noise. For comparison, also create an equivalent dataset by concatenating 784 all-zeros dimensions. Our concatenation of meaningless features does not at all affect the information content of the data: we’re only adding something. Human clas- sification accuracy wouldn’t be affected by these transformations at all.\n",
        "\n"
      ]
    },
    {
      "cell_type": "code",
      "metadata": {
        "colab": {
          "base_uri": "https://localhost:8080/"
        },
        "id": "hxujkmWdoHzB",
        "outputId": "a1860d35-bde0-41ce-9c48-01f08424af88"
      },
      "source": [
        "from tensorflow.keras.datasets import mnist\n",
        "import numpy as np \n",
        "\n",
        "(train_images, train_labels), _ = mnist.load_data()\n",
        "\n",
        "train_images = train_images.reshape((60000, 28*28))\n",
        "train_images = train_images.astype(\"float32\") / 255\n",
        "\n",
        "train_images_with_noise_channels = np.concatenate([train_images, np.random.random((len(train_images), 784))], axis=1)\n",
        "train_images_with_zeros_channels = np.concatenate([train_images, np.zeros((len(train_images), 784))], axis=1)\n"
      ],
      "execution_count": 1,
      "outputs": [
        {
          "output_type": "stream",
          "name": "stdout",
          "text": [
            "Downloading data from https://storage.googleapis.com/tensorflow/tf-keras-datasets/mnist.npz\n",
            "11493376/11490434 [==============================] - 0s 0us/step\n",
            "11501568/11490434 [==============================] - 0s 0us/step\n"
          ]
        }
      ]
    },
    {
      "cell_type": "code",
      "metadata": {
        "id": "OXsaW4ovqH2l"
      },
      "source": [
        "from tensorflow import keras\n",
        "from tensorflow.keras import layers\n",
        "\n",
        "def get_model():\n",
        "\n",
        "  model = keras.Sequential([\n",
        "                            layers.Dense(512, activation = \"relu\"),\n",
        "                            layers.Dense(10, activation = \"softmax\")\n",
        "                          ])\n",
        "  \n",
        "  \n",
        "  model.compile(optimizer = \"rmsprop\", loss = \"sparse_categorical_crossentropy\", metrics = [\"accuracy\"])\n",
        "\n",
        "\n",
        "  return model"
      ],
      "execution_count": 2,
      "outputs": []
    },
    {
      "cell_type": "code",
      "metadata": {
        "colab": {
          "base_uri": "https://localhost:8080/"
        },
        "id": "IEu09P_gqx2c",
        "outputId": "aed4a49c-268c-436b-a848-0bca0c9e6b7f"
      },
      "source": [
        "model = get_model() \n",
        "\n",
        "history_noise = model.fit(train_images_with_noise_channels, train_labels, epochs = 10, batch_size = 128, validation_split = 0.2)"
      ],
      "execution_count": 4,
      "outputs": [
        {
          "output_type": "stream",
          "name": "stdout",
          "text": [
            "Epoch 1/10\n",
            "375/375 [==============================] - 4s 6ms/step - loss: 0.5985 - accuracy: 0.8156 - val_loss: 0.2898 - val_accuracy: 0.9110\n",
            "Epoch 2/10\n",
            "375/375 [==============================] - 2s 5ms/step - loss: 0.2452 - accuracy: 0.9245 - val_loss: 0.1978 - val_accuracy: 0.9413\n",
            "Epoch 3/10\n",
            "375/375 [==============================] - 2s 5ms/step - loss: 0.1610 - accuracy: 0.9501 - val_loss: 0.1636 - val_accuracy: 0.9523\n",
            "Epoch 4/10\n",
            "375/375 [==============================] - 2s 5ms/step - loss: 0.1144 - accuracy: 0.9641 - val_loss: 0.1444 - val_accuracy: 0.9554\n",
            "Epoch 5/10\n",
            "375/375 [==============================] - 2s 5ms/step - loss: 0.0828 - accuracy: 0.9741 - val_loss: 0.1386 - val_accuracy: 0.9581\n",
            "Epoch 6/10\n",
            "375/375 [==============================] - 2s 5ms/step - loss: 0.0618 - accuracy: 0.9798 - val_loss: 0.1099 - val_accuracy: 0.9688\n",
            "Epoch 7/10\n",
            "375/375 [==============================] - 2s 5ms/step - loss: 0.0477 - accuracy: 0.9843 - val_loss: 0.1243 - val_accuracy: 0.9663\n",
            "Epoch 8/10\n",
            "375/375 [==============================] - 2s 5ms/step - loss: 0.0346 - accuracy: 0.9888 - val_loss: 0.1490 - val_accuracy: 0.9619\n",
            "Epoch 9/10\n",
            "375/375 [==============================] - 2s 6ms/step - loss: 0.0256 - accuracy: 0.9918 - val_loss: 0.1396 - val_accuracy: 0.9653\n",
            "Epoch 10/10\n",
            "375/375 [==============================] - 2s 5ms/step - loss: 0.0204 - accuracy: 0.9934 - val_loss: 0.1404 - val_accuracy: 0.9648\n"
          ]
        }
      ]
    },
    {
      "cell_type": "code",
      "metadata": {
        "colab": {
          "base_uri": "https://localhost:8080/"
        },
        "id": "yfhj4wycrElL",
        "outputId": "a49e2c1f-b7d1-4c8c-ec7c-cae64a2db55a"
      },
      "source": [
        "model = get_model() \n",
        "\n",
        "history_zeros = model.fit(train_images_with_zeros_channels, train_labels, epochs = 10, batch_size = 128, validation_split = 0.2)"
      ],
      "execution_count": 5,
      "outputs": [
        {
          "output_type": "stream",
          "name": "stdout",
          "text": [
            "Epoch 1/10\n",
            "375/375 [==============================] - 3s 6ms/step - loss: 0.2886 - accuracy: 0.9164 - val_loss: 0.1527 - val_accuracy: 0.9548\n",
            "Epoch 2/10\n",
            "375/375 [==============================] - 2s 5ms/step - loss: 0.1203 - accuracy: 0.9645 - val_loss: 0.1158 - val_accuracy: 0.9650\n",
            "Epoch 3/10\n",
            "375/375 [==============================] - 2s 5ms/step - loss: 0.0790 - accuracy: 0.9764 - val_loss: 0.0966 - val_accuracy: 0.9697\n",
            "Epoch 4/10\n",
            "375/375 [==============================] - 2s 5ms/step - loss: 0.0572 - accuracy: 0.9827 - val_loss: 0.0898 - val_accuracy: 0.9737\n",
            "Epoch 5/10\n",
            "375/375 [==============================] - 2s 5ms/step - loss: 0.0428 - accuracy: 0.9874 - val_loss: 0.0800 - val_accuracy: 0.9774\n",
            "Epoch 6/10\n",
            "375/375 [==============================] - 2s 5ms/step - loss: 0.0324 - accuracy: 0.9905 - val_loss: 0.0862 - val_accuracy: 0.9770\n",
            "Epoch 7/10\n",
            "375/375 [==============================] - 2s 5ms/step - loss: 0.0246 - accuracy: 0.9928 - val_loss: 0.0828 - val_accuracy: 0.9770\n",
            "Epoch 8/10\n",
            "375/375 [==============================] - 2s 5ms/step - loss: 0.0189 - accuracy: 0.9945 - val_loss: 0.0793 - val_accuracy: 0.9780\n",
            "Epoch 9/10\n",
            "375/375 [==============================] - 2s 5ms/step - loss: 0.0141 - accuracy: 0.9964 - val_loss: 0.0809 - val_accuracy: 0.9793\n",
            "Epoch 10/10\n",
            "375/375 [==============================] - 2s 5ms/step - loss: 0.0106 - accuracy: 0.9969 - val_loss: 0.0898 - val_accuracy: 0.9792\n"
          ]
        }
      ]
    },
    {
      "cell_type": "markdown",
      "metadata": {
        "id": "En1D4RX_rVTM"
      },
      "source": [
        "Comparing Validation accuracy of both we have"
      ]
    },
    {
      "cell_type": "code",
      "metadata": {
        "colab": {
          "base_uri": "https://localhost:8080/",
          "height": 312
        },
        "id": "JEmQ-tgOrgo6",
        "outputId": "e432bc70-39df-4956-ecac-0c699bc7a586"
      },
      "source": [
        "import matplotlib.pyplot as plt\n",
        "\n",
        "val_acc_noise = history_noise.history[\"val_accuracy\"]\n",
        "val_acc_zeros = history_zeros.history[\"val_accuracy\"]\n",
        "epochs = range(1, 11)\n",
        "plt.plot(epochs, val_acc_noise, \"b-\",label=\"Validation accuracy with noise channels\")\n",
        "plt.plot(epochs, val_acc_zeros, \"b--\",label=\"Validation accuracy with zeros channels\")\n",
        "plt.title(\"Effect of noise channels on validation accuracy\")\n",
        "plt.xlabel(\"Epochs\")\n",
        "plt.ylabel(\"Accuracy\")\n",
        "plt.legend()"
      ],
      "execution_count": 8,
      "outputs": [
        {
          "output_type": "execute_result",
          "data": {
            "text/plain": [
              "<matplotlib.legend.Legend at 0x7fc5a0054890>"
            ]
          },
          "metadata": {},
          "execution_count": 8
        },
        {
          "output_type": "display_data",
          "data": {
            "image/png": "[encoded data removed]",
            "text/plain": [
              "<Figure size 432x288 with 1 Axes>"
            ]
          },
          "metadata": {
            "needs_background": "light"
          }
        }
      ]
    },
    {
      "cell_type": "markdown",
      "metadata": {
        "id": "mBfVkmkhriUn"
      },
      "source": [
        "Here, it is visible that there is about a 1% drop in the accuracy for the validation in the case of the random noise sample. The more noise channels you add, the further accuracy will degrade."
      ]
    },
    {
      "cell_type": "markdown",
      "metadata": {
        "id": "Irt9_VYoshrv"
      },
      "source": [
        "Noisy features inevitably lead to overfitting. As such, in cases where you aren’t sure whether the features you have are informative or distracting, it’s common to do feature selection before training. Restricting the IMDB data to the top 10,000 most common words was a crude form of feature selection, for instance. The typical way to do feature selection is to compute some usefulness score for each feature available—a measure of how informative the feature is with respect to the task, such as the mutual information between the feature and the labels—and only keep features that are above some threshold. Doing this would filter out the white noise channels in the preceding example."
      ]
    },
    {
      "cell_type": "markdown",
      "metadata": {
        "id": "H2ktd37wsw7k"
      },
      "source": [
        "#### The Nature of Generalization in Deep Learning"
      ]
    },
    {
      "cell_type": "markdown",
      "metadata": {
        "id": "kIccmXV7tyWe"
      },
      "source": [
        "A remarkable fact about deep learning models is that they can be trained to fit anything, as long as they have enough representational power."
      ]
    },
    {
      "cell_type": "markdown",
      "metadata": {
        "id": "x5t5Yve4uNs1"
      },
      "source": [
        "In the next example, we just shuffle the labels for the training data and we see that the training loss still goes on decreasing. "
      ]
    },
    {
      "cell_type": "code",
      "metadata": {
        "colab": {
          "base_uri": "https://localhost:8080/"
        },
        "id": "fOu4X9hKt3is",
        "outputId": "bce005b3-5b46-464e-bc5b-56d197f399c2"
      },
      "source": [
        "(train_images, train_labels) , _ = mnist.load_data()\n",
        "\n",
        "train_images = train_images.reshape((60000, 28*28))\n",
        "train_images = train_images.astype(\"float32\") / 255\n",
        "\n",
        "random_train_labels = train_labels[:]\n",
        "np.random.shuffle(random_train_labels)\n",
        "\n",
        "model = get_model()\n",
        "\n",
        "model.fit(train_images, random_train_labels,\n",
        "          epochs=100,\n",
        "          batch_size=128,\n",
        "          validation_split=0.2)"
      ],
      "execution_count": 14,
      "outputs": [
        {
          "output_type": "stream",
          "name": "stdout",
          "text": [
            "Epoch 1/100\n",
            "375/375 [==============================] - 2s 5ms/step - loss: 2.3170 - accuracy: 0.1009 - val_loss: 2.3073 - val_accuracy: 0.0975\n",
            "Epoch 2/100\n",
            "375/375 [==============================] - 2s 5ms/step - loss: 2.3002 - accuracy: 0.1156 - val_loss: 2.3119 - val_accuracy: 0.0992\n",
            "Epoch 3/100\n",
            "375/375 [==============================] - 2s 4ms/step - loss: 2.2914 - accuracy: 0.1281 - val_loss: 2.3196 - val_accuracy: 0.1019\n",
            "Epoch 4/100\n",
            "375/375 [==============================] - 2s 4ms/step - loss: 2.2790 - accuracy: 0.1380 - val_loss: 2.3227 - val_accuracy: 0.1082\n",
            "Epoch 5/100\n",
            "375/375 [==============================] - 2s 4ms/step - loss: 2.2611 - accuracy: 0.1519 - val_loss: 2.3398 - val_accuracy: 0.1007\n",
            "Epoch 6/100\n",
            "375/375 [==============================] - 2s 4ms/step - loss: 2.2413 - accuracy: 0.1686 - val_loss: 2.3450 - val_accuracy: 0.1051\n",
            "Epoch 7/100\n",
            "375/375 [==============================] - 2s 4ms/step - loss: 2.2184 - accuracy: 0.1789 - val_loss: 2.3630 - val_accuracy: 0.1015\n",
            "Epoch 8/100\n",
            "375/375 [==============================] - 2s 5ms/step - loss: 2.1912 - accuracy: 0.1959 - val_loss: 2.3719 - val_accuracy: 0.1019\n",
            "Epoch 9/100\n",
            "375/375 [==============================] - 2s 5ms/step - loss: 2.1627 - accuracy: 0.2110 - val_loss: 2.3967 - val_accuracy: 0.1079\n",
            "Epoch 10/100\n",
            "375/375 [==============================] - 2s 4ms/step - loss: 2.1315 - accuracy: 0.2304 - val_loss: 2.4209 - val_accuracy: 0.1042\n",
            "Epoch 11/100\n",
            "375/375 [==============================] - 2s 4ms/step - loss: 2.0989 - accuracy: 0.2450 - val_loss: 2.4398 - val_accuracy: 0.1045\n",
            "Epoch 12/100\n",
            "375/375 [==============================] - 2s 5ms/step - loss: 2.0655 - accuracy: 0.2622 - val_loss: 2.4580 - val_accuracy: 0.0989\n",
            "Epoch 13/100\n",
            "375/375 [==============================] - 2s 4ms/step - loss: 2.0311 - accuracy: 0.2773 - val_loss: 2.5044 - val_accuracy: 0.1047\n",
            "Epoch 14/100\n",
            "375/375 [==============================] - 2s 5ms/step - loss: 1.9966 - accuracy: 0.2906 - val_loss: 2.5215 - val_accuracy: 0.1018\n",
            "Epoch 15/100\n",
            "375/375 [==============================] - 2s 5ms/step - loss: 1.9625 - accuracy: 0.3061 - val_loss: 2.5466 - val_accuracy: 0.1020\n",
            "Epoch 16/100\n",
            "375/375 [==============================] - 2s 4ms/step - loss: 1.9290 - accuracy: 0.3210 - val_loss: 2.5765 - val_accuracy: 0.1046\n",
            "Epoch 17/100\n",
            "375/375 [==============================] - 2s 4ms/step - loss: 1.8938 - accuracy: 0.3340 - val_loss: 2.6090 - val_accuracy: 0.0999\n",
            "Epoch 18/100\n",
            "375/375 [==============================] - 2s 4ms/step - loss: 1.8618 - accuracy: 0.3479 - val_loss: 2.6388 - val_accuracy: 0.1013\n",
            "Epoch 19/100\n",
            "375/375 [==============================] - 2s 4ms/step - loss: 1.8287 - accuracy: 0.3612 - val_loss: 2.6993 - val_accuracy: 0.0992\n",
            "Epoch 20/100\n",
            "375/375 [==============================] - 2s 4ms/step - loss: 1.7949 - accuracy: 0.3751 - val_loss: 2.7142 - val_accuracy: 0.1012\n",
            "Epoch 21/100\n",
            "375/375 [==============================] - 2s 5ms/step - loss: 1.7642 - accuracy: 0.3868 - val_loss: 2.7455 - val_accuracy: 0.1047\n",
            "Epoch 22/100\n",
            "375/375 [==============================] - 2s 4ms/step - loss: 1.7333 - accuracy: 0.3979 - val_loss: 2.7979 - val_accuracy: 0.1027\n",
            "Epoch 23/100\n",
            "375/375 [==============================] - 2s 5ms/step - loss: 1.7016 - accuracy: 0.4101 - val_loss: 2.8194 - val_accuracy: 0.1000\n",
            "Epoch 24/100\n",
            "375/375 [==============================] - 2s 4ms/step - loss: 1.6727 - accuracy: 0.4208 - val_loss: 2.8613 - val_accuracy: 0.1032\n",
            "Epoch 25/100\n",
            "375/375 [==============================] - 2s 5ms/step - loss: 1.6445 - accuracy: 0.4304 - val_loss: 2.9268 - val_accuracy: 0.0986\n",
            "Epoch 26/100\n",
            "375/375 [==============================] - 2s 4ms/step - loss: 1.6152 - accuracy: 0.4439 - val_loss: 2.9476 - val_accuracy: 0.1013\n",
            "Epoch 27/100\n",
            "375/375 [==============================] - 2s 5ms/step - loss: 1.5862 - accuracy: 0.4534 - val_loss: 3.0030 - val_accuracy: 0.0993\n",
            "Epoch 28/100\n",
            "375/375 [==============================] - 2s 5ms/step - loss: 1.5598 - accuracy: 0.4630 - val_loss: 3.0365 - val_accuracy: 0.1015\n",
            "Epoch 29/100\n",
            "375/375 [==============================] - 2s 5ms/step - loss: 1.5316 - accuracy: 0.4734 - val_loss: 3.0732 - val_accuracy: 0.1045\n",
            "Epoch 30/100\n",
            "375/375 [==============================] - 2s 5ms/step - loss: 1.5074 - accuracy: 0.4830 - val_loss: 3.1235 - val_accuracy: 0.1029\n",
            "Epoch 31/100\n",
            "375/375 [==============================] - 2s 5ms/step - loss: 1.4829 - accuracy: 0.4911 - val_loss: 3.1536 - val_accuracy: 0.1066\n",
            "Epoch 32/100\n",
            "375/375 [==============================] - 2s 5ms/step - loss: 1.4567 - accuracy: 0.5011 - val_loss: 3.1927 - val_accuracy: 0.1040\n",
            "Epoch 33/100\n",
            "375/375 [==============================] - 2s 5ms/step - loss: 1.4320 - accuracy: 0.5107 - val_loss: 3.2450 - val_accuracy: 0.1035\n",
            "Epoch 34/100\n",
            "375/375 [==============================] - 2s 5ms/step - loss: 1.4106 - accuracy: 0.5196 - val_loss: 3.2824 - val_accuracy: 0.1046\n",
            "Epoch 35/100\n",
            "375/375 [==============================] - 2s 4ms/step - loss: 1.3868 - accuracy: 0.5282 - val_loss: 3.3564 - val_accuracy: 0.1032\n",
            "Epoch 36/100\n",
            "375/375 [==============================] - 2s 5ms/step - loss: 1.3618 - accuracy: 0.5376 - val_loss: 3.4212 - val_accuracy: 0.1023\n",
            "Epoch 37/100\n",
            "375/375 [==============================] - 2s 5ms/step - loss: 1.3396 - accuracy: 0.5433 - val_loss: 3.4401 - val_accuracy: 0.1030\n",
            "Epoch 38/100\n",
            "375/375 [==============================] - 2s 5ms/step - loss: 1.3194 - accuracy: 0.5513 - val_loss: 3.4768 - val_accuracy: 0.1004\n",
            "Epoch 39/100\n",
            "375/375 [==============================] - 2s 5ms/step - loss: 1.2967 - accuracy: 0.5611 - val_loss: 3.5550 - val_accuracy: 0.0979\n",
            "Epoch 40/100\n",
            "375/375 [==============================] - 2s 5ms/step - loss: 1.2804 - accuracy: 0.5649 - val_loss: 3.5768 - val_accuracy: 0.1073\n",
            "Epoch 41/100\n",
            "375/375 [==============================] - 2s 5ms/step - loss: 1.2585 - accuracy: 0.5729 - val_loss: 3.6231 - val_accuracy: 0.1038\n",
            "Epoch 42/100\n",
            "375/375 [==============================] - 2s 5ms/step - loss: 1.2383 - accuracy: 0.5809 - val_loss: 3.6935 - val_accuracy: 0.1020\n",
            "Epoch 43/100\n",
            "375/375 [==============================] - 2s 5ms/step - loss: 1.2175 - accuracy: 0.5896 - val_loss: 3.7291 - val_accuracy: 0.1005\n",
            "Epoch 44/100\n",
            "375/375 [==============================] - 2s 4ms/step - loss: 1.1968 - accuracy: 0.5947 - val_loss: 3.7860 - val_accuracy: 0.1035\n",
            "Epoch 45/100\n",
            "375/375 [==============================] - 2s 5ms/step - loss: 1.1774 - accuracy: 0.6025 - val_loss: 3.9042 - val_accuracy: 0.1012\n",
            "Epoch 46/100\n",
            "375/375 [==============================] - 2s 5ms/step - loss: 1.1618 - accuracy: 0.6084 - val_loss: 3.8865 - val_accuracy: 0.0996\n",
            "Epoch 47/100\n",
            "375/375 [==============================] - 2s 4ms/step - loss: 1.1441 - accuracy: 0.6135 - val_loss: 3.9155 - val_accuracy: 0.1037\n",
            "Epoch 48/100\n",
            "375/375 [==============================] - 2s 4ms/step - loss: 1.1228 - accuracy: 0.6234 - val_loss: 4.0058 - val_accuracy: 0.1024\n",
            "Epoch 49/100\n",
            "375/375 [==============================] - 2s 4ms/step - loss: 1.1110 - accuracy: 0.6247 - val_loss: 4.0501 - val_accuracy: 0.1010\n",
            "Epoch 50/100\n",
            "375/375 [==============================] - 2s 5ms/step - loss: 1.0920 - accuracy: 0.6312 - val_loss: 4.0964 - val_accuracy: 0.1015\n",
            "Epoch 51/100\n",
            "375/375 [==============================] - 2s 5ms/step - loss: 1.0728 - accuracy: 0.6416 - val_loss: 4.1432 - val_accuracy: 0.0978\n",
            "Epoch 52/100\n",
            "375/375 [==============================] - 2s 5ms/step - loss: 1.0590 - accuracy: 0.6459 - val_loss: 4.2143 - val_accuracy: 0.0991\n",
            "Epoch 53/100\n",
            "375/375 [==============================] - 2s 5ms/step - loss: 1.0440 - accuracy: 0.6488 - val_loss: 4.2877 - val_accuracy: 0.1009\n",
            "Epoch 54/100\n",
            "375/375 [==============================] - 2s 5ms/step - loss: 1.0275 - accuracy: 0.6557 - val_loss: 4.3080 - val_accuracy: 0.1002\n",
            "Epoch 55/100\n",
            "375/375 [==============================] - 2s 5ms/step - loss: 1.0115 - accuracy: 0.6622 - val_loss: 4.4198 - val_accuracy: 0.1041\n",
            "Epoch 56/100\n",
            "375/375 [==============================] - 2s 5ms/step - loss: 0.9977 - accuracy: 0.6665 - val_loss: 4.4398 - val_accuracy: 0.1039\n",
            "Epoch 57/100\n",
            "375/375 [==============================] - 2s 5ms/step - loss: 0.9810 - accuracy: 0.6717 - val_loss: 4.4859 - val_accuracy: 0.1014\n",
            "Epoch 58/100\n",
            "375/375 [==============================] - 2s 5ms/step - loss: 0.9667 - accuracy: 0.6761 - val_loss: 4.5471 - val_accuracy: 0.0997\n",
            "Epoch 59/100\n",
            "375/375 [==============================] - 2s 5ms/step - loss: 0.9519 - accuracy: 0.6832 - val_loss: 4.5738 - val_accuracy: 0.0998\n",
            "Epoch 60/100\n",
            "375/375 [==============================] - 2s 4ms/step - loss: 0.9388 - accuracy: 0.6865 - val_loss: 4.6577 - val_accuracy: 0.0999\n",
            "Epoch 61/100\n",
            "375/375 [==============================] - 2s 5ms/step - loss: 0.9243 - accuracy: 0.6938 - val_loss: 4.7426 - val_accuracy: 0.1004\n",
            "Epoch 62/100\n",
            "375/375 [==============================] - 2s 5ms/step - loss: 0.9111 - accuracy: 0.6974 - val_loss: 4.7503 - val_accuracy: 0.0982\n",
            "Epoch 63/100\n",
            "375/375 [==============================] - 2s 5ms/step - loss: 0.8982 - accuracy: 0.7018 - val_loss: 4.8168 - val_accuracy: 0.1018\n",
            "Epoch 64/100\n",
            "375/375 [==============================] - 2s 5ms/step - loss: 0.8848 - accuracy: 0.7076 - val_loss: 4.9223 - val_accuracy: 0.0998\n",
            "Epoch 65/100\n",
            "375/375 [==============================] - 2s 5ms/step - loss: 0.8719 - accuracy: 0.7107 - val_loss: 4.9746 - val_accuracy: 0.0991\n",
            "Epoch 66/100\n",
            "375/375 [==============================] - 2s 4ms/step - loss: 0.8606 - accuracy: 0.7146 - val_loss: 4.9885 - val_accuracy: 0.1000\n",
            "Epoch 67/100\n",
            "375/375 [==============================] - 2s 5ms/step - loss: 0.8479 - accuracy: 0.7169 - val_loss: 5.0883 - val_accuracy: 0.0997\n",
            "Epoch 68/100\n",
            "375/375 [==============================] - 2s 5ms/step - loss: 0.8368 - accuracy: 0.7248 - val_loss: 5.0994 - val_accuracy: 0.0977\n",
            "Epoch 69/100\n",
            "375/375 [==============================] - 2s 5ms/step - loss: 0.8237 - accuracy: 0.7274 - val_loss: 5.1538 - val_accuracy: 0.1007\n",
            "Epoch 70/100\n",
            "375/375 [==============================] - 2s 5ms/step - loss: 0.8107 - accuracy: 0.7335 - val_loss: 5.2533 - val_accuracy: 0.0996\n",
            "Epoch 71/100\n",
            "375/375 [==============================] - 2s 5ms/step - loss: 0.8011 - accuracy: 0.7368 - val_loss: 5.3380 - val_accuracy: 0.0984\n",
            "Epoch 72/100\n",
            "375/375 [==============================] - 2s 5ms/step - loss: 0.7896 - accuracy: 0.7400 - val_loss: 5.4199 - val_accuracy: 0.0986\n",
            "Epoch 73/100\n",
            "375/375 [==============================] - 2s 5ms/step - loss: 0.7783 - accuracy: 0.7420 - val_loss: 5.4513 - val_accuracy: 0.0988\n",
            "Epoch 74/100\n",
            "375/375 [==============================] - 2s 4ms/step - loss: 0.7663 - accuracy: 0.7487 - val_loss: 5.4605 - val_accuracy: 0.1022\n",
            "Epoch 75/100\n",
            "375/375 [==============================] - 2s 5ms/step - loss: 0.7550 - accuracy: 0.7521 - val_loss: 5.5572 - val_accuracy: 0.1007\n",
            "Epoch 76/100\n",
            "375/375 [==============================] - 2s 5ms/step - loss: 0.7445 - accuracy: 0.7539 - val_loss: 5.6372 - val_accuracy: 0.1006\n",
            "Epoch 77/100\n",
            "375/375 [==============================] - 2s 5ms/step - loss: 0.7339 - accuracy: 0.7601 - val_loss: 5.7008 - val_accuracy: 0.1002\n",
            "Epoch 78/100\n",
            "375/375 [==============================] - 2s 5ms/step - loss: 0.7238 - accuracy: 0.7623 - val_loss: 5.7563 - val_accuracy: 0.0995\n",
            "Epoch 79/100\n",
            "375/375 [==============================] - 2s 5ms/step - loss: 0.7152 - accuracy: 0.7658 - val_loss: 5.8043 - val_accuracy: 0.0988\n",
            "Epoch 80/100\n",
            "375/375 [==============================] - 2s 5ms/step - loss: 0.7047 - accuracy: 0.7691 - val_loss: 5.8796 - val_accuracy: 0.1011\n",
            "Epoch 81/100\n",
            "375/375 [==============================] - 2s 5ms/step - loss: 0.6947 - accuracy: 0.7709 - val_loss: 5.9256 - val_accuracy: 0.0988\n",
            "Epoch 82/100\n",
            "375/375 [==============================] - 2s 5ms/step - loss: 0.6845 - accuracy: 0.7763 - val_loss: 6.0051 - val_accuracy: 0.0997\n",
            "Epoch 83/100\n",
            "375/375 [==============================] - 2s 5ms/step - loss: 0.6749 - accuracy: 0.7802 - val_loss: 6.0640 - val_accuracy: 0.0989\n",
            "Epoch 84/100\n",
            "375/375 [==============================] - 2s 5ms/step - loss: 0.6682 - accuracy: 0.7823 - val_loss: 6.1296 - val_accuracy: 0.0996\n",
            "Epoch 85/100\n",
            "375/375 [==============================] - 2s 5ms/step - loss: 0.6573 - accuracy: 0.7854 - val_loss: 6.1861 - val_accuracy: 0.0981\n",
            "Epoch 86/100\n",
            "375/375 [==============================] - 2s 5ms/step - loss: 0.6484 - accuracy: 0.7911 - val_loss: 6.2569 - val_accuracy: 0.1014\n",
            "Epoch 87/100\n",
            "375/375 [==============================] - 2s 5ms/step - loss: 0.6378 - accuracy: 0.7930 - val_loss: 6.3312 - val_accuracy: 0.0966\n",
            "Epoch 88/100\n",
            "375/375 [==============================] - 2s 5ms/step - loss: 0.6308 - accuracy: 0.7947 - val_loss: 6.3407 - val_accuracy: 0.1010\n",
            "Epoch 89/100\n",
            "375/375 [==============================] - 2s 5ms/step - loss: 0.6207 - accuracy: 0.7990 - val_loss: 6.4011 - val_accuracy: 0.1016\n",
            "Epoch 90/100\n",
            "375/375 [==============================] - 2s 5ms/step - loss: 0.6137 - accuracy: 0.7994 - val_loss: 6.4892 - val_accuracy: 0.0996\n",
            "Epoch 91/100\n",
            "375/375 [==============================] - 2s 4ms/step - loss: 0.6062 - accuracy: 0.8027 - val_loss: 6.5776 - val_accuracy: 0.1004\n",
            "Epoch 92/100\n",
            "375/375 [==============================] - 2s 5ms/step - loss: 0.5951 - accuracy: 0.8089 - val_loss: 6.6291 - val_accuracy: 0.0986\n",
            "Epoch 93/100\n",
            "375/375 [==============================] - 2s 5ms/step - loss: 0.5895 - accuracy: 0.8095 - val_loss: 6.7140 - val_accuracy: 0.0953\n",
            "Epoch 94/100\n",
            "375/375 [==============================] - 2s 5ms/step - loss: 0.5818 - accuracy: 0.8110 - val_loss: 6.7724 - val_accuracy: 0.0986\n",
            "Epoch 95/100\n",
            "375/375 [==============================] - 2s 5ms/step - loss: 0.5745 - accuracy: 0.8125 - val_loss: 6.8654 - val_accuracy: 0.0983\n",
            "Epoch 96/100\n",
            "375/375 [==============================] - 2s 5ms/step - loss: 0.5655 - accuracy: 0.8165 - val_loss: 6.9071 - val_accuracy: 0.0983\n",
            "Epoch 97/100\n",
            "375/375 [==============================] - 2s 5ms/step - loss: 0.5600 - accuracy: 0.8181 - val_loss: 6.9725 - val_accuracy: 0.0982\n",
            "Epoch 98/100\n",
            "375/375 [==============================] - 2s 5ms/step - loss: 0.5503 - accuracy: 0.8213 - val_loss: 7.0403 - val_accuracy: 0.0970\n",
            "Epoch 99/100\n",
            "375/375 [==============================] - 2s 5ms/step - loss: 0.5445 - accuracy: 0.8228 - val_loss: 7.0843 - val_accuracy: 0.0977\n",
            "Epoch 100/100\n",
            "375/375 [==============================] - 2s 5ms/step - loss: 0.5357 - accuracy: 0.8284 - val_loss: 7.1561 - val_accuracy: 0.0964\n"
          ]
        },
        {
          "output_type": "execute_result",
          "data": {
            "text/plain": [
              "<keras.callbacks.History at 0x7fc530f8ae90>"
            ]
          },
          "metadata": {},
          "execution_count": 14
        }
      ]
    },
    {
      "cell_type": "markdown",
      "metadata": {
        "id": "7O8c1Y0Cu28f"
      },
      "source": [
        "As seen above the trianing accuracy in increasing but the validation obviously cant grow. "
      ]
    },
    {
      "cell_type": "markdown",
      "metadata": {
        "id": "IqQ0cCjBwtoH"
      },
      "source": [
        "In fact, you don’t even need to do this with MNIST data—you could just generate white noise inputs and random labels. You could fit a model on that, too, as long as it has enough parameters. It would just end up memorizing specific inputs, much like a Python dictionary."
      ]
    },
    {
      "cell_type": "markdown",
      "metadata": {
        "id": "LlAM5OvFxDo2"
      },
      "source": [
        "But if thats the case how do deep learning models generalize at all? should it be some form of mapping between training and labels like a dictionary.\n",
        "\n",
        "As it turns out, the nature of generalization in deep learning has rather little to do with deep learning models themselves, and much to do with the structure of information in the real world. Let’s take a look at what’s really going on here."
      ]
    },
    {
      "cell_type": "markdown",
      "metadata": {
        "id": "emBkaEqPxa1_"
      },
      "source": [
        "#### The Manifold Hypothesis"
      ]
    },
    {
      "cell_type": "code",
      "metadata": {
        "id": "_OPzcBkbxeh8"
      },
      "source": [
        ""
      ],
      "execution_count": null,
      "outputs": []
    }
  ]
}