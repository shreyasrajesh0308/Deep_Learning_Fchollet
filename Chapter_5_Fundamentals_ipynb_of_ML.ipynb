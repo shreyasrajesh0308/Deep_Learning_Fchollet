{
  "nbformat": 4,
  "nbformat_minor": 0,
  "metadata": {
    "colab": {
      "name": "Chapter_5_Fundamentals.ipynb_of_ML",
      "provenance": [],
      "authorship_tag": "ABX9TyPuMwzg2vcVxisjQPCmQtjT",
      "include_colab_link": true
    },
    "kernelspec": {
      "name": "python3",
      "display_name": "Python 3"
    },
    "language_info": {
      "name": "python"
    }
  },
  "cells": [
    {
      "cell_type": "markdown",
      "metadata": {
        "id": "view-in-github",
        "colab_type": "text"
      },
      "source": [
        "<a href=\"https://colab.research.google.com/github/shreyasrajesh0308/Deep_Learning/blob/master/Chapter_5_Fundamentals_ipynb_of_ML.ipynb\" target=\"_parent\"><img src=\"https://colab.research.google.com/assets/colab-badge.svg\" alt=\"Open In Colab\"/></a>"
      ]
    },
    {
      "cell_type": "markdown",
      "metadata": {
        "id": "GviOAE_9pu9P"
      },
      "source": [
        "# Fundamentals of Machine Learning"
      ]
    },
    {
      "cell_type": "markdown",
      "metadata": {
        "id": "CsmuD3LTp8Xk"
      },
      "source": [
        "## Generalizing: The goal of Machine Learning"
      ]
    },
    {
      "cell_type": "code",
      "metadata": {
        "id": "um8sKTq8qPPJ"
      },
      "source": [
        ""
      ],
      "execution_count": null,
      "outputs": []
    }
  ]
}