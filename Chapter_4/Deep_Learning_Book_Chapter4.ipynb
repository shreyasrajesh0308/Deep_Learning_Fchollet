{
  "nbformat": 4,
  "nbformat_minor": 0,
  "metadata": {
    "colab": {
      "name": "Deep_Learning_Book_Chapter4.ipynb",
      "provenance": [],
      "toc_visible": true,
      "include_colab_link": true
    },
    "kernelspec": {
      "name": "python3",
      "display_name": "Python 3"
    },
    "language_info": {
      "name": "python"
    },
    "accelerator": "GPU"
  },
  "cells": [
    {
      "cell_type": "markdown",
      "metadata": {
        "id": "view-in-github",
        "colab_type": "text"
      },
      "source": [
        "<a href=\"https://colab.research.google.com/github/shreyasrajesh0308/Deep_Learning/blob/master/Deep_Learning_Book_Chapter4.ipynb\" target=\"_parent\"><img src=\"https://colab.research.google.com/assets/colab-badge.svg\" alt=\"Open In Colab\"/></a>"
      ]
    },
    {
      "cell_type": "markdown",
      "metadata": {
        "id": "I8TkbpUaygvO"
      },
      "source": [
        " # Getting Started with Neural Nets, Classification and Regression"
      ]
    },
    {
      "cell_type": "markdown",
      "metadata": {
        "id": "yXaoFlZJytmJ"
      },
      "source": [
        "## Binary Classification "
      ]
    },
    {
      "cell_type": "markdown",
      "metadata": {
        "id": "j9ZNR8UJzRt0"
      },
      "source": [
        "### IMDB Data Classification"
      ]
    },
    {
      "cell_type": "markdown",
      "metadata": {
        "id": "kAC1zVWS068t"
      },
      "source": [
        "Restricting number of words in review to 10000"
      ]
    },
    {
      "cell_type": "code",
      "metadata": {
        "id": "5uj62Z0Yzg9B",
        "colab": {
          "base_uri": "https://localhost:8080/"
        },
        "outputId": "a9acfa00-03ce-41d6-b7b1-da492ae44957"
      },
      "source": [
        "from tensorflow.keras.datasets import imdb\n",
        "(train_data, train_labels), (test_data, test_labels) = imdb.load_data(\n",
        "            num_words=10000)"
      ],
      "execution_count": 1,
      "outputs": [
        {
          "output_type": "stream",
          "name": "stdout",
          "text": [
            "Downloading data from https://storage.googleapis.com/tensorflow/tf-keras-datasets/imdb.npz\n",
            "17465344/17464789 [==============================] - 0s 0us/step\n",
            "17473536/17464789 [==============================] - 0s 0us/step\n"
          ]
        }
      ]
    },
    {
      "cell_type": "markdown",
      "metadata": {
        "id": "6Hve3TCpFzF0"
      },
      "source": [
        ""
      ]
    },
    {
      "cell_type": "markdown",
      "metadata": {
        "id": "H8tm-nC-1JAq"
      },
      "source": [
        "Encoding input data with multi hot encoding to feed into the neural network"
      ]
    },
    {
      "cell_type": "code",
      "metadata": {
        "id": "iTVUYzm7DG2L",
        "colab": {
          "base_uri": "https://localhost:8080/",
          "height": 226
        },
        "outputId": "62d4e6d1-4135-4d15-fab4-d396d0395129"
      },
      "source": [
        "import numpy as np \n",
        "\n",
        "def vectorize_sequences(sequences, dimensions=10000):\n",
        "\n",
        "  results = np.zeros((len(sequences), dimensions))\n",
        "\n",
        "  for i, sequence in enumerate(sequences):\n",
        "\n",
        "    for j in sequence:\n",
        "\n",
        "      results[i, j] = 1\n",
        "    \n",
        "  return results\n",
        "\n",
        "x_train = vectorize_sequences(train_data)\n",
        "x_test = vectorize_sequences(test_data)"
      ],
      "execution_count": null,
      "outputs": [
        {
          "output_type": "error",
          "ename": "NameError",
          "evalue": "ignored",
          "traceback": [
            "\u001b[0;31m---------------------------------------------------------------------------\u001b[0m",
            "\u001b[0;31mNameError\u001b[0m                                 Traceback (most recent call last)",
            "\u001b[0;32m<ipython-input-1-b0e9b1863402>\u001b[0m in \u001b[0;36m<module>\u001b[0;34m()\u001b[0m\n\u001b[1;32m     13\u001b[0m   \u001b[0;32mreturn\u001b[0m \u001b[0mresults\u001b[0m\u001b[0;34m\u001b[0m\u001b[0;34m\u001b[0m\u001b[0m\n\u001b[1;32m     14\u001b[0m \u001b[0;34m\u001b[0m\u001b[0m\n\u001b[0;32m---> 15\u001b[0;31m \u001b[0mx_train\u001b[0m \u001b[0;34m=\u001b[0m \u001b[0mvectorize_sequences\u001b[0m\u001b[0;34m(\u001b[0m\u001b[0mtrain_data\u001b[0m\u001b[0;34m)\u001b[0m\u001b[0;34m\u001b[0m\u001b[0;34m\u001b[0m\u001b[0m\n\u001b[0m\u001b[1;32m     16\u001b[0m \u001b[0mx_test\u001b[0m \u001b[0;34m=\u001b[0m \u001b[0mvectorize_sequences\u001b[0m\u001b[0;34m(\u001b[0m\u001b[0mtest_data\u001b[0m\u001b[0;34m)\u001b[0m\u001b[0;34m\u001b[0m\u001b[0;34m\u001b[0m\u001b[0m\n",
            "\u001b[0;31mNameError\u001b[0m: name 'train_data' is not defined"
          ]
        }
      ]
    },
    {
      "cell_type": "code",
      "metadata": {
        "id": "tlFGFW_KE0q7"
      },
      "source": [
        "y_train = np.asarray(train_labels).astype(\"float32\")\n",
        "y_test = np.asarray(test_labels).astype(\"float32\")"
      ],
      "execution_count": null,
      "outputs": []
    },
    {
      "cell_type": "markdown",
      "metadata": {
        "id": "3VAA6eRbF6Oy"
      },
      "source": [
        "### Building the Model \n",
        "\n",
        "For the case of vector input to scalar output clasification a stack of Dense layers does the job "
      ]
    },
    {
      "cell_type": "code",
      "metadata": {
        "id": "ichkjCnfG6HT"
      },
      "source": [
        "from tensorflow import keras\n",
        "from tensorflow.keras import layers\n",
        "\n",
        "model = keras.Sequential([\n",
        "  layers.Dense(16, activation = \"relu\"),\n",
        "  layers.Dense(16, activation = \"relu\"),\n",
        "  layers.Dense(1, activation = \"sigmoid\")\n",
        "  ])"
      ],
      "execution_count": null,
      "outputs": []
    },
    {
      "cell_type": "code",
      "metadata": {
        "id": "LdgSbYkUJiFX"
      },
      "source": [
        "model.compile(optimizer=\"rmsprop\",\n",
        "              loss=\"binary_crossentropy\",\n",
        "              metrics=[\"accuracy\"])"
      ],
      "execution_count": null,
      "outputs": []
    },
    {
      "cell_type": "markdown",
      "metadata": {
        "id": "Uqh76hNdJ00y"
      },
      "source": [
        "Create a Validation set"
      ]
    },
    {
      "cell_type": "code",
      "metadata": {
        "id": "Zsd93oJwJ8W9"
      },
      "source": [
        "x_val = x_train[:10000]\n",
        "partial_x_train = x_train[10000:]\n",
        "y_val = y_train[:10000]\n",
        "partial_y_train = y_train[10000:]"
      ],
      "execution_count": null,
      "outputs": []
    },
    {
      "cell_type": "code",
      "metadata": {
        "colab": {
          "base_uri": "https://localhost:8080/"
        },
        "id": "S0s6sfxhK3WM",
        "outputId": "e15649cc-d4cd-4bfc-97e5-e59ab1745ace"
      },
      "source": [
        "y_val.shape"
      ],
      "execution_count": null,
      "outputs": [
        {
          "output_type": "execute_result",
          "data": {
            "text/plain": [
              "(10000,)"
            ]
          },
          "metadata": {},
          "execution_count": 42
        }
      ]
    },
    {
      "cell_type": "code",
      "metadata": {
        "colab": {
          "base_uri": "https://localhost:8080/"
        },
        "id": "IyDxDgq2J-ho",
        "outputId": "cfb6d81c-73dd-45a6-b4cb-aa865702ceb1"
      },
      "source": [
        "history = model.fit(partial_x_train, partial_y_train, epochs=20, batch_size=512, validation_data=(x_val, y_val))"
      ],
      "execution_count": null,
      "outputs": [
        {
          "output_type": "stream",
          "name": "stdout",
          "text": [
            "Epoch 1/20\n",
            "30/30 [==============================] - 2s 48ms/step - loss: 0.5192 - accuracy: 0.7920 - val_loss: 0.3956 - val_accuracy: 0.8631\n",
            "Epoch 2/20\n",
            "30/30 [==============================] - 1s 36ms/step - loss: 0.3121 - accuracy: 0.9015 - val_loss: 0.3051 - val_accuracy: 0.8888\n",
            "Epoch 3/20\n",
            "30/30 [==============================] - 1s 35ms/step - loss: 0.2278 - accuracy: 0.9258 - val_loss: 0.2786 - val_accuracy: 0.8909\n",
            "Epoch 4/20\n",
            "30/30 [==============================] - 1s 35ms/step - loss: 0.1778 - accuracy: 0.9424 - val_loss: 0.2770 - val_accuracy: 0.8888\n",
            "Epoch 5/20\n",
            "30/30 [==============================] - 1s 36ms/step - loss: 0.1469 - accuracy: 0.9517 - val_loss: 0.3028 - val_accuracy: 0.8821\n",
            "Epoch 6/20\n",
            "30/30 [==============================] - 1s 36ms/step - loss: 0.1189 - accuracy: 0.9625 - val_loss: 0.2931 - val_accuracy: 0.8861\n",
            "Epoch 7/20\n",
            "30/30 [==============================] - 1s 35ms/step - loss: 0.0980 - accuracy: 0.9706 - val_loss: 0.3094 - val_accuracy: 0.8859\n",
            "Epoch 8/20\n",
            "30/30 [==============================] - 1s 35ms/step - loss: 0.0809 - accuracy: 0.9775 - val_loss: 0.3283 - val_accuracy: 0.8830\n",
            "Epoch 9/20\n",
            "30/30 [==============================] - 1s 35ms/step - loss: 0.0703 - accuracy: 0.9802 - val_loss: 0.3506 - val_accuracy: 0.8827\n",
            "Epoch 10/20\n",
            "30/30 [==============================] - 1s 35ms/step - loss: 0.0543 - accuracy: 0.9864 - val_loss: 0.3831 - val_accuracy: 0.8805\n",
            "Epoch 11/20\n",
            "30/30 [==============================] - 1s 35ms/step - loss: 0.0439 - accuracy: 0.9907 - val_loss: 0.4203 - val_accuracy: 0.8759\n",
            "Epoch 12/20\n",
            "30/30 [==============================] - 1s 35ms/step - loss: 0.0374 - accuracy: 0.9917 - val_loss: 0.4302 - val_accuracy: 0.8789\n",
            "Epoch 13/20\n",
            "30/30 [==============================] - 1s 35ms/step - loss: 0.0280 - accuracy: 0.9945 - val_loss: 0.4874 - val_accuracy: 0.8653\n",
            "Epoch 14/20\n",
            "30/30 [==============================] - 1s 35ms/step - loss: 0.0204 - accuracy: 0.9975 - val_loss: 0.5386 - val_accuracy: 0.8684\n",
            "Epoch 15/20\n",
            "30/30 [==============================] - 1s 36ms/step - loss: 0.0169 - accuracy: 0.9977 - val_loss: 0.5272 - val_accuracy: 0.8731\n",
            "Epoch 16/20\n",
            "30/30 [==============================] - 1s 35ms/step - loss: 0.0126 - accuracy: 0.9990 - val_loss: 0.5662 - val_accuracy: 0.8656\n",
            "Epoch 17/20\n",
            "30/30 [==============================] - 1s 35ms/step - loss: 0.0121 - accuracy: 0.9984 - val_loss: 0.5877 - val_accuracy: 0.8698\n",
            "Epoch 18/20\n",
            "30/30 [==============================] - 1s 35ms/step - loss: 0.0122 - accuracy: 0.9974 - val_loss: 0.6294 - val_accuracy: 0.8697\n",
            "Epoch 19/20\n",
            "30/30 [==============================] - 1s 34ms/step - loss: 0.0045 - accuracy: 0.9999 - val_loss: 0.6458 - val_accuracy: 0.8664\n",
            "Epoch 20/20\n",
            "30/30 [==============================] - 1s 35ms/step - loss: 0.0059 - accuracy: 0.9993 - val_loss: 0.6796 - val_accuracy: 0.8654\n"
          ]
        }
      ]
    },
    {
      "cell_type": "code",
      "metadata": {
        "colab": {
          "base_uri": "https://localhost:8080/"
        },
        "id": "yB2wbDgEKPeI",
        "outputId": "56b822c9-4df4-4708-900b-5468eb477a71"
      },
      "source": [
        "history_dict = history.history\n",
        "history_dict.keys()"
      ],
      "execution_count": null,
      "outputs": [
        {
          "output_type": "execute_result",
          "data": {
            "text/plain": [
              "dict_keys(['loss', 'accuracy', 'val_loss', 'val_accuracy'])"
            ]
          },
          "metadata": {},
          "execution_count": 44
        }
      ]
    },
    {
      "cell_type": "code",
      "metadata": {
        "colab": {
          "base_uri": "https://localhost:8080/",
          "height": 295
        },
        "id": "jiI99uTkLllr",
        "outputId": "a71aac7f-33f6-4d9a-a353-392182b831a5"
      },
      "source": [
        "import matplotlib.pyplot as plt\n",
        "history_dict = history.history\n",
        "loss_values = history_dict[\"loss\"]\n",
        "val_loss_values = history_dict[\"val_loss\"]\n",
        "epochs = range(1, len(loss_values) + 1)\n",
        "plt.plot(epochs, loss_values, \"bo\", label=\"Training loss\") \n",
        "plt.plot(epochs, val_loss_values, \"b\", label=\"Validation loss\") \n",
        "plt.title(\"Training and validation loss\")\n",
        "plt.xlabel(\"Epochs\")\n",
        "plt.ylabel(\"Loss\")\n",
        "plt.legend()\n",
        "plt.show()"
      ],
      "execution_count": null,
      "outputs": [
        {
          "output_type": "display_data",
          "data": {
            "image/png": "[encoded data removed]",
            "text/plain": [
              "<Figure size 432x288 with 1 Axes>"
            ]
          },
          "metadata": {
            "needs_background": "light"
          }
        }
      ]
    },
    {
      "cell_type": "code",
      "metadata": {
        "colab": {
          "base_uri": "https://localhost:8080/",
          "height": 295
        },
        "id": "13UPmBEsL20h",
        "outputId": "dedbc4af-63d9-409e-bb50-e23a34179cf7"
      },
      "source": [
        "plt.clf()\n",
        "acc = history_dict[\"accuracy\"]\n",
        "val_acc = history_dict[\"val_accuracy\"]\n",
        "plt.plot(epochs, acc, \"bo\", label=\"Training acc\")\n",
        "plt.plot(epochs, val_acc, \"b\", label=\"Validation acc\")\n",
        "plt.title(\"Training and validation accuracy\")\n",
        "plt.xlabel(\"Epochs\")\n",
        "plt.ylabel(\"Accuracy\")\n",
        "plt.legend()\n",
        "plt.show()"
      ],
      "execution_count": null,
      "outputs": [
        {
          "output_type": "display_data",
          "data": {
            "image/png": "[encoded data removed]",
            "text/plain": [
              "<Figure size 432x288 with 1 Axes>"
            ]
          },
          "metadata": {
            "needs_background": "light"
          }
        }
      ]
    },
    {
      "cell_type": "markdown",
      "metadata": {
        "id": "N0Va-orpMGbb"
      },
      "source": [
        "We see a clear case of the validation error increasing while the training error goes on decreasing, this is a classic sign of **overfitting**"
      ]
    },
    {
      "cell_type": "markdown",
      "metadata": {
        "id": "RyzpcKPSPrAL"
      },
      "source": [
        "We see that the model learnt well until the 4th epoch, hence training until the 4th epoch we have"
      ]
    },
    {
      "cell_type": "code",
      "metadata": {
        "colab": {
          "base_uri": "https://localhost:8080/"
        },
        "id": "Lba5HYxrP5_U",
        "outputId": "9be30bdc-cb81-4cae-f375-1ccd2111b4ed"
      },
      "source": [
        "model = keras.Sequential([\n",
        "        layers.Dense(16, activation=\"relu\"),\n",
        "        layers.Dense(16, activation=\"relu\"),\n",
        "        layers.Dense(1, activation=\"sigmoid\")\n",
        "        ])\n",
        "\n",
        "model.compile(optimizer=\"rmsprop\", loss=\"binary_crossentropy\", metrics=[\"accuracy\"])\n",
        "model.fit(x_train, y_train, epochs=4, batch_size=512)\n"
      ],
      "execution_count": null,
      "outputs": [
        {
          "output_type": "stream",
          "name": "stdout",
          "text": [
            "Epoch 1/4\n",
            "49/49 [==============================] - 2s 29ms/step - loss: 0.4697 - accuracy: 0.8198\n",
            "Epoch 2/4\n",
            "49/49 [==============================] - 1s 28ms/step - loss: 0.2677 - accuracy: 0.9079\n",
            "Epoch 3/4\n",
            "49/49 [==============================] - 1s 28ms/step - loss: 0.2055 - accuracy: 0.9286\n",
            "Epoch 4/4\n",
            "49/49 [==============================] - 1s 29ms/step - loss: 0.1727 - accuracy: 0.9391\n"
          ]
        },
        {
          "output_type": "execute_result",
          "data": {
            "text/plain": [
              "<keras.callbacks.History at 0x7fa65a325910>"
            ]
          },
          "metadata": {},
          "execution_count": 48
        }
      ]
    },
    {
      "cell_type": "code",
      "metadata": {
        "colab": {
          "base_uri": "https://localhost:8080/"
        },
        "id": "44Himt0VQhN1",
        "outputId": "09ab80f2-0b41-4cec-e7ab-ece1b500958d"
      },
      "source": [
        "results = model.evaluate(x_test, y_test)"
      ],
      "execution_count": null,
      "outputs": [
        {
          "output_type": "stream",
          "name": "stdout",
          "text": [
            "782/782 [==============================] - 2s 2ms/step - loss: 0.2886 - accuracy: 0.8855\n"
          ]
        }
      ]
    },
    {
      "cell_type": "markdown",
      "metadata": {
        "id": "xPMH47wRQseO"
      },
      "source": [
        "### Further Experiments"
      ]
    },
    {
      "cell_type": "markdown",
      "metadata": {
        "id": "plNWA0GkQwRb"
      },
      "source": [
        "### Model Architecture with one hidden layer"
      ]
    },
    {
      "cell_type": "code",
      "metadata": {
        "colab": {
          "base_uri": "https://localhost:8080/"
        },
        "id": "sNEnGgXkRBqd",
        "outputId": "a88ebe1c-9625-4eb0-abe7-6b626104f4f8"
      },
      "source": [
        "model = keras.Sequential([\n",
        "                          layers.Dense(16, activation=\"relu\"),\n",
        "                          layers.Dense(1, activation=\"sigmoid\")\n",
        "                          ])\n",
        "model.compile(optimizer=\"rmsprop\", loss=\"binary_crossentropy\", metrics=[\"accuracy\"])\n",
        "history = model.fit(partial_x_train, partial_y_train, epochs=20, batch_size=512, validation_data=(x_val, y_val))"
      ],
      "execution_count": null,
      "outputs": [
        {
          "output_type": "stream",
          "name": "stdout",
          "text": [
            "Epoch 1/20\n",
            "30/30 [==============================] - 2s 48ms/step - loss: 0.5104 - accuracy: 0.8005 - val_loss: 0.4162 - val_accuracy: 0.8450\n",
            "Epoch 2/20\n",
            "30/30 [==============================] - 1s 36ms/step - loss: 0.3319 - accuracy: 0.8980 - val_loss: 0.3333 - val_accuracy: 0.8795\n",
            "Epoch 3/20\n",
            "30/30 [==============================] - 1s 37ms/step - loss: 0.2575 - accuracy: 0.9239 - val_loss: 0.2942 - val_accuracy: 0.8903\n",
            "Epoch 4/20\n",
            "30/30 [==============================] - 1s 36ms/step - loss: 0.2117 - accuracy: 0.9363 - val_loss: 0.2809 - val_accuracy: 0.8908\n",
            "Epoch 5/20\n",
            "30/30 [==============================] - 1s 36ms/step - loss: 0.1797 - accuracy: 0.9452 - val_loss: 0.2754 - val_accuracy: 0.8889\n",
            "Epoch 6/20\n",
            "30/30 [==============================] - 1s 36ms/step - loss: 0.1548 - accuracy: 0.9536 - val_loss: 0.2795 - val_accuracy: 0.8875\n",
            "Epoch 7/20\n",
            "30/30 [==============================] - 1s 36ms/step - loss: 0.1366 - accuracy: 0.9617 - val_loss: 0.2770 - val_accuracy: 0.8893\n",
            "Epoch 8/20\n",
            "30/30 [==============================] - 1s 36ms/step - loss: 0.1193 - accuracy: 0.9673 - val_loss: 0.2839 - val_accuracy: 0.8871\n",
            "Epoch 9/20\n",
            "30/30 [==============================] - 1s 37ms/step - loss: 0.1055 - accuracy: 0.9711 - val_loss: 0.2916 - val_accuracy: 0.8866\n",
            "Epoch 10/20\n",
            "30/30 [==============================] - 1s 36ms/step - loss: 0.0936 - accuracy: 0.9764 - val_loss: 0.3064 - val_accuracy: 0.8820\n",
            "Epoch 11/20\n",
            "30/30 [==============================] - 1s 36ms/step - loss: 0.0834 - accuracy: 0.9780 - val_loss: 0.3165 - val_accuracy: 0.8807\n",
            "Epoch 12/20\n",
            "30/30 [==============================] - 1s 36ms/step - loss: 0.0733 - accuracy: 0.9826 - val_loss: 0.3281 - val_accuracy: 0.8825\n",
            "Epoch 13/20\n",
            "30/30 [==============================] - 1s 37ms/step - loss: 0.0656 - accuracy: 0.9857 - val_loss: 0.3403 - val_accuracy: 0.8828\n",
            "Epoch 14/20\n",
            "30/30 [==============================] - 1s 37ms/step - loss: 0.0581 - accuracy: 0.9874 - val_loss: 0.3533 - val_accuracy: 0.8806\n",
            "Epoch 15/20\n",
            "30/30 [==============================] - 1s 36ms/step - loss: 0.0526 - accuracy: 0.9884 - val_loss: 0.3680 - val_accuracy: 0.8791\n",
            "Epoch 16/20\n",
            "30/30 [==============================] - 1s 36ms/step - loss: 0.0463 - accuracy: 0.9906 - val_loss: 0.3890 - val_accuracy: 0.8734\n",
            "Epoch 17/20\n",
            "30/30 [==============================] - 1s 36ms/step - loss: 0.0407 - accuracy: 0.9927 - val_loss: 0.4060 - val_accuracy: 0.8769\n",
            "Epoch 18/20\n",
            "30/30 [==============================] - 1s 38ms/step - loss: 0.0353 - accuracy: 0.9942 - val_loss: 0.4193 - val_accuracy: 0.8749\n",
            "Epoch 19/20\n",
            "30/30 [==============================] - 1s 36ms/step - loss: 0.0315 - accuracy: 0.9951 - val_loss: 0.4372 - val_accuracy: 0.8736\n",
            "Epoch 20/20\n",
            "30/30 [==============================] - 1s 36ms/step - loss: 0.0276 - accuracy: 0.9964 - val_loss: 0.4572 - val_accuracy: 0.8732\n"
          ]
        }
      ]
    },
    {
      "cell_type": "markdown",
      "metadata": {
        "id": "hMkVkWjJRcrJ"
      },
      "source": [
        "Validation error starts shooting up at the 5th epoch"
      ]
    },
    {
      "cell_type": "code",
      "metadata": {
        "id": "AN00XbpiSYWu"
      },
      "source": [
        "from tensorflow import keras\n",
        "from tensorflow.keras import layers"
      ],
      "execution_count": null,
      "outputs": []
    },
    {
      "cell_type": "code",
      "metadata": {
        "colab": {
          "base_uri": "https://localhost:8080/"
        },
        "id": "cM0pdfGQRyYj",
        "outputId": "8a5eb193-c394-402a-cfaf-05087b0a5d97"
      },
      "source": [
        "model = keras.Sequential([\n",
        "                          layers.Dense(16, activation=\"relu\"),\n",
        "                          layers.Dense(1, activation=\"sigmoid\")\n",
        "                          ])\n",
        "model.compile(optimizer=\"rmsprop\", loss=\"binary_crossentropy\", metrics=[\"accuracy\"])\n",
        "history = model.fit(x_train, y_train, epochs=5, batch_size=512)"
      ],
      "execution_count": null,
      "outputs": [
        {
          "output_type": "stream",
          "name": "stdout",
          "text": [
            "Epoch 1/5\n",
            "49/49 [==============================] - 2s 30ms/step - loss: 0.4379 - accuracy: 0.8354\n",
            "Epoch 2/5\n",
            "49/49 [==============================] - 2s 31ms/step - loss: 0.2755 - accuracy: 0.9068\n",
            "Epoch 3/5\n",
            "49/49 [==============================] - 1s 29ms/step - loss: 0.2189 - accuracy: 0.9258\n",
            "Epoch 4/5\n",
            "49/49 [==============================] - 1s 29ms/step - loss: 0.1864 - accuracy: 0.9350\n",
            "Epoch 5/5\n",
            "49/49 [==============================] - 1s 29ms/step - loss: 0.1641 - accuracy: 0.9438\n"
          ]
        }
      ]
    },
    {
      "cell_type": "code",
      "metadata": {
        "colab": {
          "base_uri": "https://localhost:8080/"
        },
        "id": "e0KTwhVeR5wS",
        "outputId": "fc48437d-0623-40e9-a0c2-ab2ce7e22824"
      },
      "source": [
        "results = model.evaluate(x_test, y_test)"
      ],
      "execution_count": null,
      "outputs": [
        {
          "output_type": "stream",
          "name": "stdout",
          "text": [
            "782/782 [==============================] - 2s 2ms/step - loss: 0.2868 - accuracy: 0.8852\n"
          ]
        }
      ]
    },
    {
      "cell_type": "markdown",
      "metadata": {
        "id": "oA60xYfHSmMe"
      },
      "source": [
        "#### Model Architecture with 3 Hidden Layers"
      ]
    },
    {
      "cell_type": "code",
      "metadata": {
        "colab": {
          "base_uri": "https://localhost:8080/"
        },
        "id": "_6wRba-RSwWC",
        "outputId": "96068b07-014b-4c69-a5d3-07aeba18e88e"
      },
      "source": [
        "model = keras.Sequential([\n",
        "                          layers.Dense(16, activation=\"relu\"),\n",
        "                          layers.Dense(16, activation=\"relu\"),\n",
        "                          layers.Dense(16, activation=\"relu\"),\n",
        "                          layers.Dense(1, activation=\"sigmoid\")\n",
        "                          ])\n",
        "\n",
        "model.compile(optimizer=\"rmsprop\", loss=\"binary_crossentropy\", metrics=[\"accuracy\"])\n",
        "history = model.fit(partial_x_train, partial_y_train, epochs=20, batch_size=512, validation_data=(x_val, y_val))"
      ],
      "execution_count": null,
      "outputs": [
        {
          "output_type": "stream",
          "name": "stdout",
          "text": [
            "Epoch 1/20\n",
            "30/30 [==============================] - 2s 47ms/step - loss: 0.5358 - accuracy: 0.7789 - val_loss: 0.4378 - val_accuracy: 0.8219\n",
            "Epoch 2/20\n",
            "30/30 [==============================] - 1s 36ms/step - loss: 0.3106 - accuracy: 0.8993 - val_loss: 0.3076 - val_accuracy: 0.8829\n",
            "Epoch 3/20\n",
            "30/30 [==============================] - 1s 36ms/step - loss: 0.2212 - accuracy: 0.9258 - val_loss: 0.2786 - val_accuracy: 0.8919\n",
            "Epoch 4/20\n",
            "30/30 [==============================] - 1s 36ms/step - loss: 0.1676 - accuracy: 0.9437 - val_loss: 0.2976 - val_accuracy: 0.8826\n",
            "Epoch 5/20\n",
            "30/30 [==============================] - 1s 37ms/step - loss: 0.1376 - accuracy: 0.9543 - val_loss: 0.2878 - val_accuracy: 0.8877\n",
            "Epoch 6/20\n",
            "30/30 [==============================] - 1s 36ms/step - loss: 0.1095 - accuracy: 0.9645 - val_loss: 0.3030 - val_accuracy: 0.8869\n",
            "Epoch 7/20\n",
            "30/30 [==============================] - 1s 37ms/step - loss: 0.0853 - accuracy: 0.9745 - val_loss: 0.3367 - val_accuracy: 0.8837\n",
            "Epoch 8/20\n",
            "30/30 [==============================] - 1s 36ms/step - loss: 0.0736 - accuracy: 0.9766 - val_loss: 0.3545 - val_accuracy: 0.8808\n",
            "Epoch 9/20\n",
            "30/30 [==============================] - 1s 40ms/step - loss: 0.0576 - accuracy: 0.9835 - val_loss: 0.3848 - val_accuracy: 0.8784\n",
            "Epoch 10/20\n",
            "30/30 [==============================] - 1s 40ms/step - loss: 0.0443 - accuracy: 0.9885 - val_loss: 0.4165 - val_accuracy: 0.8768\n",
            "Epoch 11/20\n",
            "30/30 [==============================] - 1s 38ms/step - loss: 0.0363 - accuracy: 0.9904 - val_loss: 0.4494 - val_accuracy: 0.8764\n",
            "Epoch 12/20\n",
            "30/30 [==============================] - 1s 37ms/step - loss: 0.0282 - accuracy: 0.9928 - val_loss: 0.4993 - val_accuracy: 0.8731\n",
            "Epoch 13/20\n",
            "30/30 [==============================] - 1s 37ms/step - loss: 0.0255 - accuracy: 0.9929 - val_loss: 0.5411 - val_accuracy: 0.8745\n",
            "Epoch 14/20\n",
            "30/30 [==============================] - 1s 37ms/step - loss: 0.0103 - accuracy: 0.9989 - val_loss: 0.6058 - val_accuracy: 0.8703\n",
            "Epoch 15/20\n",
            "30/30 [==============================] - 1s 38ms/step - loss: 0.0188 - accuracy: 0.9939 - val_loss: 0.6209 - val_accuracy: 0.8697\n",
            "Epoch 16/20\n",
            "30/30 [==============================] - 1s 37ms/step - loss: 0.0046 - accuracy: 0.9997 - val_loss: 0.6556 - val_accuracy: 0.8702\n",
            "Epoch 17/20\n",
            "30/30 [==============================] - 1s 37ms/step - loss: 0.0146 - accuracy: 0.9958 - val_loss: 0.6897 - val_accuracy: 0.8678\n",
            "Epoch 18/20\n",
            "30/30 [==============================] - 1s 37ms/step - loss: 0.0025 - accuracy: 0.9999 - val_loss: 0.7304 - val_accuracy: 0.8654\n",
            "Epoch 19/20\n",
            "30/30 [==============================] - 1s 37ms/step - loss: 0.0104 - accuracy: 0.9965 - val_loss: 0.7678 - val_accuracy: 0.8668\n",
            "Epoch 20/20\n",
            "30/30 [==============================] - 1s 37ms/step - loss: 0.0014 - accuracy: 0.9999 - val_loss: 0.7940 - val_accuracy: 0.8661\n"
          ]
        }
      ]
    },
    {
      "cell_type": "markdown",
      "metadata": {
        "id": "L1IJVfXqS7tS"
      },
      "source": [
        "Validation error starts shooting up at the 5th epoch"
      ]
    },
    {
      "cell_type": "code",
      "metadata": {
        "colab": {
          "base_uri": "https://localhost:8080/"
        },
        "id": "q5OdfCKBTHzf",
        "outputId": "0927d2c4-d2e1-4b59-c345-d9bb143f4e87"
      },
      "source": [
        "model = keras.Sequential([\n",
        "                          layers.Dense(16, activation=\"relu\"),\n",
        "                          layers.Dense(16, activation=\"relu\"),\n",
        "                          layers.Dense(16, activation=\"relu\"),\n",
        "                          layers.Dense(1, activation=\"sigmoid\")\n",
        "                          ])\n",
        "\n",
        "model.compile(optimizer=\"rmsprop\", loss=\"binary_crossentropy\", metrics=[\"accuracy\"])\n",
        "history = model.fit(x_train, y_train, epochs=5, batch_size=512)"
      ],
      "execution_count": null,
      "outputs": [
        {
          "output_type": "stream",
          "name": "stdout",
          "text": [
            "Epoch 1/5\n",
            "49/49 [==============================] - 2s 30ms/step - loss: 0.4660 - accuracy: 0.8150\n",
            "Epoch 2/5\n",
            "49/49 [==============================] - 2s 32ms/step - loss: 0.2577 - accuracy: 0.9100\n",
            "Epoch 3/5\n",
            "49/49 [==============================] - 1s 29ms/step - loss: 0.1948 - accuracy: 0.9296\n",
            "Epoch 4/5\n",
            "49/49 [==============================] - 1s 30ms/step - loss: 0.1637 - accuracy: 0.9415\n",
            "Epoch 5/5\n",
            "49/49 [==============================] - 1s 29ms/step - loss: 0.1420 - accuracy: 0.9492\n"
          ]
        }
      ]
    },
    {
      "cell_type": "code",
      "metadata": {
        "colab": {
          "base_uri": "https://localhost:8080/"
        },
        "id": "C_RF5PvLTNhB",
        "outputId": "ad7914fb-e325-4584-a73e-43f21b8b04cf"
      },
      "source": [
        "results = model.evaluate(x_test, y_test)"
      ],
      "execution_count": null,
      "outputs": [
        {
          "output_type": "stream",
          "name": "stdout",
          "text": [
            "782/782 [==============================] - 2s 2ms/step - loss: 0.3247 - accuracy: 0.8785\n"
          ]
        }
      ]
    },
    {
      "cell_type": "markdown",
      "metadata": {
        "id": "-gnoSxJRTQTi"
      },
      "source": [
        "## MultiClass Classification"
      ]
    },
    {
      "cell_type": "markdown",
      "metadata": {
        "id": "i4RbK0YATemu"
      },
      "source": [
        "Case of multiple output classes but only one correct class for each input i.e **single-label multiclass classification**."
      ]
    },
    {
      "cell_type": "code",
      "metadata": {
        "colab": {
          "base_uri": "https://localhost:8080/"
        },
        "id": "RrM2xruCT0Qz",
        "outputId": "45f1ea39-cd3f-4168-91cc-51cdb7387a26"
      },
      "source": [
        "from tensorflow.keras.datasets import reuters\n",
        "(train_data, train_labels), (test_data, test_labels) = reuters.load_data(\n",
        "            num_words=10000)"
      ],
      "execution_count": null,
      "outputs": [
        {
          "output_type": "stream",
          "name": "stdout",
          "text": [
            "Downloading data from https://storage.googleapis.com/tensorflow/tf-keras-datasets/reuters.npz\n",
            "2113536/2110848 [==============================] - 0s 0us/step\n",
            "2121728/2110848 [==============================] - 0s 0us/step\n"
          ]
        }
      ]
    },
    {
      "cell_type": "code",
      "metadata": {
        "colab": {
          "base_uri": "https://localhost:8080/"
        },
        "id": "h5eojAWgUEk-",
        "outputId": "77836da1-f8c9-49b2-8c57-87da12c0c392"
      },
      "source": [
        "len(train_data), len(test_data)"
      ],
      "execution_count": null,
      "outputs": [
        {
          "output_type": "execute_result",
          "data": {
            "text/plain": [
              "(8982, 2246)"
            ]
          },
          "metadata": {},
          "execution_count": 4
        }
      ]
    },
    {
      "cell_type": "markdown",
      "metadata": {
        "id": "iWNrTHs2UNzd"
      },
      "source": [
        "Again the data is of the same format as the Imdb dataset, hence we use the same vectorize funciton used earlier"
      ]
    },
    {
      "cell_type": "code",
      "metadata": {
        "id": "TC5ZzSKWBCgk"
      },
      "source": [
        "import numpy as np \n",
        "\n",
        "def vectorize_sequences(sequences, dimensions=10000):\n",
        "\n",
        "  results = np.zeros((len(sequences), dimensions))\n",
        "\n",
        "  for i, sequence in enumerate(sequences):\n",
        "\n",
        "    for j in sequence:\n",
        "\n",
        "      results[i, j] = 1\n",
        "    \n",
        "  return results"
      ],
      "execution_count": null,
      "outputs": []
    },
    {
      "cell_type": "code",
      "metadata": {
        "id": "fGT60JiJBp4V"
      },
      "source": [
        "x_train = vectorize_sequences(train_data)\n",
        "x_test = vectorize_sequences(test_data)"
      ],
      "execution_count": null,
      "outputs": []
    },
    {
      "cell_type": "markdown",
      "metadata": {
        "id": "GjegMpaxB1dS"
      },
      "source": [
        "Since the labels are integers, we need a way to encode this data appropriately. One way to do this is one hot encoding which uses n values for each label with a one on the only value that is true. Therefore 3 for example would be \n",
        "\n",
        "0 0 1 0 0 0 0 0 ..."
      ]
    },
    {
      "cell_type": "code",
      "metadata": {
        "id": "M46_yDlMB-SM"
      },
      "source": [
        "def to_one_hot(labels, dimension=46):\n",
        "\n",
        "  results = np.zeros((len(labels), dimension))\n",
        "\n",
        "  for i, label in enumerate(labels): \n",
        "    results[i, label] = 1.\n",
        "  return results\n",
        "\n"
      ],
      "execution_count": null,
      "outputs": []
    },
    {
      "cell_type": "code",
      "metadata": {
        "id": "rq1OSyZaGQN3"
      },
      "source": [
        "y_train = to_one_hot(train_labels) \n",
        "y_test = to_one_hot(test_labels)"
      ],
      "execution_count": null,
      "outputs": []
    },
    {
      "cell_type": "markdown",
      "metadata": {
        "id": "1O2Xq6GGGR_q"
      },
      "source": [
        "Built in way to do this in Keras"
      ]
    },
    {
      "cell_type": "code",
      "metadata": {
        "id": "DvZSjqYaGZCU"
      },
      "source": [
        "from tensorflow.keras.utils import to_categorical\n",
        "\n",
        "y_train = to_categorical(train_labels)\n",
        "y_test = to_categorical(test_labels)"
      ],
      "execution_count": null,
      "outputs": []
    },
    {
      "cell_type": "code",
      "metadata": {
        "id": "BzhrWh9DI14X"
      },
      "source": [
        "from tensorflow import keras\n",
        "from keras import layers"
      ],
      "execution_count": null,
      "outputs": []
    },
    {
      "cell_type": "code",
      "metadata": {
        "id": "IM6EM9f8Glyi"
      },
      "source": [
        "model = keras.Sequential([\n",
        "                          layers.Dense(64, activation = \"relu\"),\n",
        "                          layers.Dense(64, activation = \"relu\"),\n",
        "                          layers.Dense(46, activation = \"softmax\")\n",
        "                          ])"
      ],
      "execution_count": null,
      "outputs": []
    },
    {
      "cell_type": "code",
      "metadata": {
        "id": "xyRini1FI0-c"
      },
      "source": [
        "model.compile(optimizer=\"rmsprop\", loss = \"categorical_crossentropy\", metrics = [\"accuracy\"])"
      ],
      "execution_count": null,
      "outputs": []
    },
    {
      "cell_type": "markdown",
      "metadata": {
        "id": "rRHy7FwdJa0M"
      },
      "source": [
        "Creating a Validation Set for the sample"
      ]
    },
    {
      "cell_type": "code",
      "metadata": {
        "id": "LYBgLNA_JfHs"
      },
      "source": [
        "x_val = x_train[:1000]\n",
        "partial_x_train = x_train[1000:]\n",
        "y_val = y_train[:1000]\n",
        "partial_y_train = y_train[1000:]"
      ],
      "execution_count": null,
      "outputs": []
    },
    {
      "cell_type": "code",
      "metadata": {
        "colab": {
          "base_uri": "https://localhost:8080/"
        },
        "id": "9yarwloBJj7J",
        "outputId": "920742d7-3805-4d09-80e9-c8a2f37e87cb"
      },
      "source": [
        "history = model.fit(partial_x_train, partial_y_train, epochs = 20, batch_size=512, validation_data = (x_val, y_val))"
      ],
      "execution_count": null,
      "outputs": [
        {
          "output_type": "stream",
          "name": "stdout",
          "text": [
            "Epoch 1/20\n",
            "16/16 [==============================] - 2s 59ms/step - loss: 2.7220 - accuracy: 0.4970 - val_loss: 1.8120 - val_accuracy: 0.6540\n",
            "Epoch 2/20\n",
            "16/16 [==============================] - 1s 44ms/step - loss: 1.4506 - accuracy: 0.7082 - val_loss: 1.3127 - val_accuracy: 0.7090\n",
            "Epoch 3/20\n",
            "16/16 [==============================] - 1s 45ms/step - loss: 1.0567 - accuracy: 0.7720 - val_loss: 1.1381 - val_accuracy: 0.7620\n",
            "Epoch 4/20\n",
            "16/16 [==============================] - 1s 44ms/step - loss: 0.8269 - accuracy: 0.8218 - val_loss: 1.0388 - val_accuracy: 0.7780\n",
            "Epoch 5/20\n",
            "16/16 [==============================] - 1s 44ms/step - loss: 0.6651 - accuracy: 0.8599 - val_loss: 0.9755 - val_accuracy: 0.7950\n",
            "Epoch 6/20\n",
            "16/16 [==============================] - 1s 44ms/step - loss: 0.5323 - accuracy: 0.8889 - val_loss: 0.9330 - val_accuracy: 0.8130\n",
            "Epoch 7/20\n",
            "16/16 [==============================] - 1s 44ms/step - loss: 0.4282 - accuracy: 0.9117 - val_loss: 0.9098 - val_accuracy: 0.8100\n",
            "Epoch 8/20\n",
            "16/16 [==============================] - 1s 44ms/step - loss: 0.3471 - accuracy: 0.9263 - val_loss: 0.8980 - val_accuracy: 0.8160\n",
            "Epoch 9/20\n",
            "16/16 [==============================] - 1s 45ms/step - loss: 0.2948 - accuracy: 0.9326 - val_loss: 0.8933 - val_accuracy: 0.8140\n",
            "Epoch 10/20\n",
            "16/16 [==============================] - 1s 45ms/step - loss: 0.2428 - accuracy: 0.9432 - val_loss: 0.8955 - val_accuracy: 0.8150\n",
            "Epoch 11/20\n",
            "16/16 [==============================] - 1s 44ms/step - loss: 0.2131 - accuracy: 0.9489 - val_loss: 0.9388 - val_accuracy: 0.8160\n",
            "Epoch 12/20\n",
            "16/16 [==============================] - 1s 43ms/step - loss: 0.1856 - accuracy: 0.9519 - val_loss: 0.9436 - val_accuracy: 0.8120\n",
            "Epoch 13/20\n",
            "16/16 [==============================] - 1s 46ms/step - loss: 0.1672 - accuracy: 0.9520 - val_loss: 0.9319 - val_accuracy: 0.8180\n",
            "Epoch 14/20\n",
            "16/16 [==============================] - 1s 44ms/step - loss: 0.1484 - accuracy: 0.9539 - val_loss: 0.9612 - val_accuracy: 0.8190\n",
            "Epoch 15/20\n",
            "16/16 [==============================] - 1s 44ms/step - loss: 0.1420 - accuracy: 0.9565 - val_loss: 0.9570 - val_accuracy: 0.8160\n",
            "Epoch 16/20\n",
            "16/16 [==============================] - 1s 45ms/step - loss: 0.1337 - accuracy: 0.9572 - val_loss: 0.9947 - val_accuracy: 0.8120\n",
            "Epoch 17/20\n",
            "16/16 [==============================] - 1s 45ms/step - loss: 0.1258 - accuracy: 0.9578 - val_loss: 0.9922 - val_accuracy: 0.8170\n",
            "Epoch 18/20\n",
            "16/16 [==============================] - 1s 45ms/step - loss: 0.1189 - accuracy: 0.9570 - val_loss: 1.0620 - val_accuracy: 0.8110\n",
            "Epoch 19/20\n",
            "16/16 [==============================] - 1s 44ms/step - loss: 0.1157 - accuracy: 0.9579 - val_loss: 1.0430 - val_accuracy: 0.8140\n",
            "Epoch 20/20\n",
            "16/16 [==============================] - 1s 44ms/step - loss: 0.1111 - accuracy: 0.9569 - val_loss: 1.0841 - val_accuracy: 0.8020\n"
          ]
        }
      ]
    },
    {
      "cell_type": "markdown",
      "metadata": {
        "id": "aqiPqo6bKVgQ"
      },
      "source": [
        "Plotting the loss and accuracy curves"
      ]
    },
    {
      "cell_type": "code",
      "metadata": {
        "id": "rTQLOkbFKnKw"
      },
      "source": [
        "import matplotlib.pyplot as plt\n"
      ],
      "execution_count": null,
      "outputs": []
    },
    {
      "cell_type": "code",
      "metadata": {
        "colab": {
          "base_uri": "https://localhost:8080/",
          "height": 295
        },
        "id": "OEUVpZEgKif5",
        "outputId": "4f194fc0-3c4d-4b37-f73f-5ff3bc3c1785"
      },
      "source": [
        "loss = history.history[\"loss\"]\n",
        "val_loss = history.history[\"val_loss\"]\n",
        "epochs = range(1, len(loss) + 1)\n",
        "plt.plot(epochs, loss, \"bo\", label=\"Training loss\")\n",
        "plt.plot(epochs, val_loss, \"b\", label=\"Validation loss\")\n",
        "plt.title(\"Training and validation loss\")\n",
        "plt.xlabel(\"Epochs\")\n",
        "plt.ylabel(\"Loss\")\n",
        "plt.legend()\n",
        "plt.show()"
      ],
      "execution_count": null,
      "outputs": [
        {
          "output_type": "display_data",
          "data": {
            "image/png": "[encoded data removed]",
            "text/plain": [
              "<Figure size 432x288 with 1 Axes>"
            ]
          },
          "metadata": {
            "needs_background": "light"
          }
        }
      ]
    },
    {
      "cell_type": "code",
      "metadata": {
        "colab": {
          "base_uri": "https://localhost:8080/",
          "height": 295
        },
        "id": "uf4ugPO1Kmmp",
        "outputId": "7cecfeaf-2fae-4c2e-917c-2ec2faf92037"
      },
      "source": [
        "plt.clf()\n",
        "acc = history.history[\"accuracy\"]\n",
        "val_acc = history.history[\"val_accuracy\"]\n",
        "plt.plot(epochs, acc, \"bo\", label=\"Training accuracy\")\n",
        "plt.plot(epochs, val_acc, \"b\", label=\"Validation accuracy\")\n",
        "plt.title(\"Training and validation accuracy\")\n",
        "plt.xlabel(\"Epochs\")\n",
        "plt.ylabel(\"Accuracy\")\n",
        "plt.legend()\n",
        "plt.show()\n"
      ],
      "execution_count": null,
      "outputs": [
        {
          "output_type": "display_data",
          "data": {
            "image/png": "[encoded data removed]",
            "text/plain": [
              "<Figure size 432x288 with 1 Axes>"
            ]
          },
          "metadata": {
            "needs_background": "light"
          }
        }
      ]
    },
    {
      "cell_type": "markdown",
      "metadata": {
        "id": "Fa9u7evSKv5b"
      },
      "source": [
        "Model starts to overfit after about 9 epochs, training them model on the entire set and validating we have"
      ]
    },
    {
      "cell_type": "code",
      "metadata": {
        "id": "EGwtakreK59V"
      },
      "source": [
        "model = keras.Sequential([\n",
        "                          layers.Dense(64, activation = \"relu\"),\n",
        "                          layers.Dense(64, activation = \"relu\"),\n",
        "                          layers.Dense(46, activation = \"softmax\")\n",
        "                          ])\n",
        "\n",
        "model.compile(optimizer=\"rmsprop\", loss = \"categorical_crossentropy\", metrics = [\"accuracy\"])"
      ],
      "execution_count": null,
      "outputs": []
    },
    {
      "cell_type": "code",
      "metadata": {
        "colab": {
          "base_uri": "https://localhost:8080/"
        },
        "id": "esXOdxUgLCGe",
        "outputId": "cba1efee-6c94-4fa4-d0cf-0d1b9392cf8e"
      },
      "source": [
        "model.fit(x_train, y_train, epochs = 9, batch_size=512)"
      ],
      "execution_count": null,
      "outputs": [
        {
          "output_type": "stream",
          "name": "stdout",
          "text": [
            "Epoch 1/9\n",
            "18/18 [==============================] - 1s 42ms/step - loss: 2.6222 - accuracy: 0.5180\n",
            "Epoch 2/9\n",
            "18/18 [==============================] - 1s 41ms/step - loss: 1.3898 - accuracy: 0.7088\n",
            "Epoch 3/9\n",
            "18/18 [==============================] - 1s 40ms/step - loss: 1.0282 - accuracy: 0.7794\n",
            "Epoch 4/9\n",
            "18/18 [==============================] - 1s 41ms/step - loss: 0.8124 - accuracy: 0.8253\n",
            "Epoch 5/9\n",
            "18/18 [==============================] - 1s 40ms/step - loss: 0.6486 - accuracy: 0.8626\n",
            "Epoch 6/9\n",
            "18/18 [==============================] - 1s 40ms/step - loss: 0.5178 - accuracy: 0.8913\n",
            "Epoch 7/9\n",
            "18/18 [==============================] - 1s 39ms/step - loss: 0.4216 - accuracy: 0.9143\n",
            "Epoch 8/9\n",
            "18/18 [==============================] - 1s 41ms/step - loss: 0.3441 - accuracy: 0.9260\n",
            "Epoch 9/9\n",
            "18/18 [==============================] - 1s 40ms/step - loss: 0.2877 - accuracy: 0.9378\n"
          ]
        },
        {
          "output_type": "execute_result",
          "data": {
            "text/plain": [
              "<keras.callbacks.History at 0x7eff7c481950>"
            ]
          },
          "metadata": {},
          "execution_count": 36
        }
      ]
    },
    {
      "cell_type": "code",
      "metadata": {
        "colab": {
          "base_uri": "https://localhost:8080/"
        },
        "id": "b-Km6SVGLFSz",
        "outputId": "bb889c0c-c424-48db-9d9c-217187973555"
      },
      "source": [
        "model.evaluate(x_test, y_test)"
      ],
      "execution_count": null,
      "outputs": [
        {
          "output_type": "stream",
          "name": "stdout",
          "text": [
            "71/71 [==============================] - 0s 3ms/step - loss: 0.9357 - accuracy: 0.7992\n"
          ]
        },
        {
          "output_type": "execute_result",
          "data": {
            "text/plain": [
              "[0.9356927275657654, 0.799198567867279]"
            ]
          },
          "metadata": {},
          "execution_count": 37
        }
      ]
    },
    {
      "cell_type": "markdown",
      "metadata": {
        "id": "muASZMxaPSof"
      },
      "source": [
        "Instead of using one hot encoding for the labels we could just use the integers as outputs but we would need to change the loss function. Hence we would have "
      ]
    },
    {
      "cell_type": "code",
      "metadata": {
        "id": "RjnCixTxQG2R"
      },
      "source": [
        "y_train = np.asarray(train_labels)\n",
        "y_test = np.asarray(test_labels)"
      ],
      "execution_count": null,
      "outputs": []
    },
    {
      "cell_type": "code",
      "metadata": {
        "id": "AqvcQbEdQTUe"
      },
      "source": [
        "model = keras.Sequential([\n",
        "                          layers.Dense(64, activation = \"relu\"),\n",
        "                          layers.Dense(64, activation = \"relu\"),\n",
        "                          layers.Dense(46, activation = \"softmax\")\n",
        "                          ])\n",
        "\n",
        "model.compile(optimizer=\"rmsprop\", loss = \"sparse_categorical_crossentropy\", metrics = [\"accuracy\"])"
      ],
      "execution_count": null,
      "outputs": []
    },
    {
      "cell_type": "code",
      "metadata": {
        "colab": {
          "base_uri": "https://localhost:8080/"
        },
        "id": "mflKDn5LQZl4",
        "outputId": "f1bd0921-08b1-4ad8-d928-0ded7aaed550"
      },
      "source": [
        "model.fit(x_train, y_train, epochs = 9, batch_size=512)"
      ],
      "execution_count": null,
      "outputs": [
        {
          "output_type": "stream",
          "name": "stdout",
          "text": [
            "Epoch 1/9\n",
            "18/18 [==============================] - 1s 45ms/step - loss: 2.6254 - accuracy: 0.5490\n",
            "Epoch 2/9\n",
            "18/18 [==============================] - 1s 42ms/step - loss: 1.3808 - accuracy: 0.7153\n",
            "Epoch 3/9\n",
            "18/18 [==============================] - 1s 43ms/step - loss: 1.0022 - accuracy: 0.7892\n",
            "Epoch 4/9\n",
            "18/18 [==============================] - 1s 42ms/step - loss: 0.7811 - accuracy: 0.8370\n",
            "Epoch 5/9\n",
            "18/18 [==============================] - 1s 41ms/step - loss: 0.6208 - accuracy: 0.8719\n",
            "Epoch 6/9\n",
            "18/18 [==============================] - 1s 42ms/step - loss: 0.4948 - accuracy: 0.8961\n",
            "Epoch 7/9\n",
            "18/18 [==============================] - 1s 41ms/step - loss: 0.4045 - accuracy: 0.9159\n",
            "Epoch 8/9\n",
            "18/18 [==============================] - 1s 43ms/step - loss: 0.3280 - accuracy: 0.9305\n",
            "Epoch 9/9\n",
            "18/18 [==============================] - 1s 42ms/step - loss: 0.2721 - accuracy: 0.9397\n"
          ]
        },
        {
          "output_type": "execute_result",
          "data": {
            "text/plain": [
              "<keras.callbacks.History at 0x7eff7bfd3410>"
            ]
          },
          "metadata": {},
          "execution_count": 40
        }
      ]
    },
    {
      "cell_type": "code",
      "metadata": {
        "colab": {
          "base_uri": "https://localhost:8080/"
        },
        "id": "08WhHPIGQdeU",
        "outputId": "fd451da8-2b6d-4ada-e45f-7d3c961dd4d5"
      },
      "source": [
        "model.evaluate(x_test, y_test)"
      ],
      "execution_count": null,
      "outputs": [
        {
          "output_type": "stream",
          "name": "stdout",
          "text": [
            "71/71 [==============================] - 0s 3ms/step - loss: 0.9580 - accuracy: 0.7939\n"
          ]
        },
        {
          "output_type": "execute_result",
          "data": {
            "text/plain": [
              "[0.9579580426216125, 0.7938557267189026]"
            ]
          },
          "metadata": {},
          "execution_count": 41
        }
      ]
    },
    {
      "cell_type": "markdown",
      "metadata": {
        "id": "kwXy0_IvQm7Z"
      },
      "source": [
        "Now, if the model sizes are not chosen appropriately enough, then there could be an information bottleneck. Here we have an output that is 46 dimensional, hence picking an intermediate dimension with far fewer dimensions would be detremental since there would be significant loss of information "
      ]
    },
    {
      "cell_type": "code",
      "metadata": {
        "colab": {
          "base_uri": "https://localhost:8080/"
        },
        "id": "VmJWwFnWRMUX",
        "outputId": "a262c229-df09-4f0c-e80e-79de3e77e158"
      },
      "source": [
        "model = keras.Sequential([\n",
        "    layers.Dense(64, activation=\"relu\"),\n",
        "    layers.Dense(4, activation=\"relu\"),\n",
        "    layers.Dense(46, activation=\"softmax\")\n",
        "])\n",
        "model.compile(optimizer=\"rmsprop\",\n",
        "              loss=\"categorical_crossentropy\",\n",
        "              metrics=[\"accuracy\"])\n",
        "model.fit(partial_x_train,\n",
        "          partial_y_train,\n",
        "          epochs=20,\n",
        "          batch_size=128,\n",
        "          validation_data=(x_val, y_val))"
      ],
      "execution_count": null,
      "outputs": [
        {
          "output_type": "stream",
          "name": "stdout",
          "text": [
            "Epoch 1/20\n",
            "63/63 [==============================] - 2s 21ms/step - loss: 2.8963 - accuracy: 0.3829 - val_loss: 2.2482 - val_accuracy: 0.4190\n",
            "Epoch 2/20\n",
            "63/63 [==============================] - 1s 17ms/step - loss: 1.8057 - accuracy: 0.5610 - val_loss: 1.6031 - val_accuracy: 0.6440\n",
            "Epoch 3/20\n",
            "63/63 [==============================] - 1s 16ms/step - loss: 1.3398 - accuracy: 0.6720 - val_loss: 1.4221 - val_accuracy: 0.6460\n",
            "Epoch 4/20\n",
            "63/63 [==============================] - 1s 17ms/step - loss: 1.1532 - accuracy: 0.6926 - val_loss: 1.3284 - val_accuracy: 0.6700\n",
            "Epoch 5/20\n",
            "63/63 [==============================] - 1s 17ms/step - loss: 1.0390 - accuracy: 0.7249 - val_loss: 1.3173 - val_accuracy: 0.6920\n",
            "Epoch 6/20\n",
            "63/63 [==============================] - 1s 17ms/step - loss: 0.9505 - accuracy: 0.7503 - val_loss: 1.2884 - val_accuracy: 0.7020\n",
            "Epoch 7/20\n",
            "63/63 [==============================] - 1s 17ms/step - loss: 0.8761 - accuracy: 0.7695 - val_loss: 1.3116 - val_accuracy: 0.7000\n",
            "Epoch 8/20\n",
            "63/63 [==============================] - 1s 17ms/step - loss: 0.8131 - accuracy: 0.7846 - val_loss: 1.3322 - val_accuracy: 0.7010\n",
            "Epoch 9/20\n",
            "63/63 [==============================] - 1s 16ms/step - loss: 0.7572 - accuracy: 0.7960 - val_loss: 1.3514 - val_accuracy: 0.6960\n",
            "Epoch 10/20\n",
            "63/63 [==============================] - 1s 17ms/step - loss: 0.7104 - accuracy: 0.8009 - val_loss: 1.3963 - val_accuracy: 0.6960\n",
            "Epoch 11/20\n",
            "63/63 [==============================] - 1s 16ms/step - loss: 0.6694 - accuracy: 0.8066 - val_loss: 1.3797 - val_accuracy: 0.7050\n",
            "Epoch 12/20\n",
            "63/63 [==============================] - 1s 16ms/step - loss: 0.6315 - accuracy: 0.8132 - val_loss: 1.4309 - val_accuracy: 0.7040\n",
            "Epoch 13/20\n",
            "63/63 [==============================] - 1s 16ms/step - loss: 0.5935 - accuracy: 0.8245 - val_loss: 1.4632 - val_accuracy: 0.7040\n",
            "Epoch 14/20\n",
            "63/63 [==============================] - 1s 17ms/step - loss: 0.5658 - accuracy: 0.8349 - val_loss: 1.5267 - val_accuracy: 0.7080\n",
            "Epoch 15/20\n",
            "63/63 [==============================] - 1s 17ms/step - loss: 0.5368 - accuracy: 0.8415 - val_loss: 1.5446 - val_accuracy: 0.7100\n",
            "Epoch 16/20\n",
            "63/63 [==============================] - 1s 17ms/step - loss: 0.5094 - accuracy: 0.8515 - val_loss: 1.6194 - val_accuracy: 0.7120\n",
            "Epoch 17/20\n",
            "63/63 [==============================] - 1s 17ms/step - loss: 0.4829 - accuracy: 0.8619 - val_loss: 1.7370 - val_accuracy: 0.7010\n",
            "Epoch 18/20\n",
            "63/63 [==============================] - 1s 16ms/step - loss: 0.4655 - accuracy: 0.8710 - val_loss: 1.7095 - val_accuracy: 0.7250\n",
            "Epoch 19/20\n",
            "63/63 [==============================] - 1s 16ms/step - loss: 0.4468 - accuracy: 0.8737 - val_loss: 1.7972 - val_accuracy: 0.7140\n",
            "Epoch 20/20\n",
            "63/63 [==============================] - 1s 17ms/step - loss: 0.4298 - accuracy: 0.8797 - val_loss: 1.8130 - val_accuracy: 0.7280\n"
          ]
        },
        {
          "output_type": "execute_result",
          "data": {
            "text/plain": [
              "<keras.callbacks.History at 0x7eff72bfb050>"
            ]
          },
          "metadata": {},
          "execution_count": 42
        }
      ]
    },
    {
      "cell_type": "markdown",
      "metadata": {
        "id": "7zLswmFhRUS4"
      },
      "source": [
        "We clearly see the drop in accuraxy in the validation set wrt out old model, this is because the information bottleneck has resulted in not being able to represent everything from the 64 dimensional space in the 4 dimensional space leading to a loss of information when expanding back to a 46 dimensional output space."
      ]
    },
    {
      "cell_type": "markdown",
      "metadata": {
        "id": "jlYCPVQWS6QZ"
      },
      "source": [
        "## Regression"
      ]
    },
    {
      "cell_type": "code",
      "metadata": {
        "id": "0Q3gbYyxS8v8",
        "colab": {
          "base_uri": "https://localhost:8080/"
        },
        "outputId": "c0b2d959-d81b-4a6d-8a06-496169645053"
      },
      "source": [
        "\n",
        "from tensorflow.keras.datasets import boston_housing\n",
        "\n",
        "(train_data, train_targets), (test_data, test_targets) = (boston_housing.load_data())\n"
      ],
      "execution_count": 3,
      "outputs": [
        {
          "output_type": "stream",
          "name": "stdout",
          "text": [
            "Downloading data from https://storage.googleapis.com/tensorflow/tf-keras-datasets/boston_housing.npz\n",
            "57344/57026 [==============================] - 0s 0us/step\n",
            "65536/57026 [==================================] - 0s 0us/step\n"
          ]
        }
      ]
    },
    {
      "cell_type": "markdown",
      "metadata": {
        "id": "mfbHMzKOdt-d"
      },
      "source": [
        "Normalize the data by making the mean zero and making unit standard deviation"
      ]
    },
    {
      "cell_type": "code",
      "metadata": {
        "id": "j07vzXE-die2"
      },
      "source": [
        "mean = train_data.mean(axis=0)\n",
        "train_data -= mean\n",
        "std = train_data.std(axis=0)\n",
        "train_data /= std\n",
        "test_data -= mean\n",
        "test_data /= std\n"
      ],
      "execution_count": 4,
      "outputs": []
    },
    {
      "cell_type": "markdown",
      "metadata": {
        "id": "goYqn4GNd6U1"
      },
      "source": [
        "#### Building the Model\n"
      ]
    },
    {
      "cell_type": "code",
      "metadata": {
        "id": "Of2woP3oeH--"
      },
      "source": [
        "from tensorflow import keras\n",
        "from tensorflow.keras import layers"
      ],
      "execution_count": 5,
      "outputs": []
    },
    {
      "cell_type": "code",
      "metadata": {
        "id": "vB73DqENd_nX"
      },
      "source": [
        "def build_model():\n",
        "\n",
        "  model = keras.Sequential([layers.Dense(64, activation = \"relu\"),\n",
        "                            layers.Dense(64, activation = \"relu\"),\n",
        "                            layers.Dense(1)\n",
        "                            ]) \n",
        "  \n",
        "  model.compile(optimizer = \"rmsprop\", loss = \"mse\", metrics = [\"mae\"])\n",
        "\n",
        "  return model"
      ],
      "execution_count": 16,
      "outputs": []
    },
    {
      "cell_type": "markdown",
      "metadata": {
        "id": "9zW3hEs5fK54"
      },
      "source": [
        "#### Evaluating with K fold validation"
      ]
    },
    {
      "cell_type": "markdown",
      "metadata": {
        "id": "BPCXxl4TfYYM"
      },
      "source": [
        "To evaluate our model while we keep adjusting its parameters (such as the number of epochs used for training), we could split the data into a training set and a validation set, as we did in the previous examples. But because we have so few data points, the validation set would end up being very small (for instance, about 100 examples). As a consequence, the validation scores might change a lot depending on which data points we chose for validation and which we chose for training: the validation scores might have a high variance with regard to the validation split. This would prevent us from reliably evaluating our model.\n",
        "\n",
        "It consists of splitting the available data into K partitions (typically K = 4 or 5), instanti- ating K identical models, and training each one on K – 1 partitions while evaluating on the remaining partition. The validation score for the model used is then the aver- age of the K validation scores obtained."
      ]
    },
    {
      "cell_type": "code",
      "metadata": {
        "id": "HMuZxtSCh5jD"
      },
      "source": [
        "import numpy as np"
      ],
      "execution_count": 17,
      "outputs": []
    },
    {
      "cell_type": "code",
      "metadata": {
        "colab": {
          "base_uri": "https://localhost:8080/"
        },
        "id": "QIYWcI8sfsdj",
        "outputId": "e74f472e-18f9-4848-c5ed-52bd80d9d042"
      },
      "source": [
        "k = 4\n",
        "num_val_samples = len(train_data) // k\n",
        "num_epochs = 100\n",
        "\n",
        "all_scores = []\n",
        "\n",
        "for i in range(k):\n",
        "\n",
        "  print(f\"Proccessing fold #{i}\")\n",
        "  \n",
        "  val_data = train_data[i*num_val_samples : (i+1)*num_val_samples]\n",
        "  val_targets = train_targets[i*num_val_samples : (i+1)*num_val_samples]\n",
        "\n",
        "  partial_train_data = np.concatenate([train_data[:i*num_val_samples], train_data[(i+1)*num_val_samples:]])\n",
        "  partial_train_targets = np.concatenate([train_targets[:i*num_val_samples], train_targets[(i+1)*num_val_samples:]])\n",
        "\n",
        "  model = build_model()\n",
        "  \n",
        "\n",
        "  model.fit(partial_train_data, partial_train_targets, epochs = num_epochs, batch_size = 16, verbose  = 0)\n",
        "\n",
        "  val_mse, val_mae = model.evaluate(val_data, val_targets, verbose=0)\n",
        "  all_scores.append(val_mae)\n"
      ],
      "execution_count": 23,
      "outputs": [
        {
          "output_type": "stream",
          "name": "stdout",
          "text": [
            "Proccessing fold #0\n",
            "Proccessing fold #1\n",
            "Proccessing fold #2\n",
            "Proccessing fold #3\n"
          ]
        }
      ]
    },
    {
      "cell_type": "code",
      "metadata": {
        "colab": {
          "base_uri": "https://localhost:8080/"
        },
        "id": "eqpJR7bPhoAQ",
        "outputId": "d031136f-67e4-4530-c427-5475fee29236"
      },
      "source": [
        "all_scores"
      ],
      "execution_count": 24,
      "outputs": [
        {
          "output_type": "execute_result",
          "data": {
            "text/plain": [
              "[1.9437793493270874, 2.3510406017303467, 2.5022239685058594, 2.356837272644043]"
            ]
          },
          "metadata": {},
          "execution_count": 24
        }
      ]
    },
    {
      "cell_type": "code",
      "metadata": {
        "id": "ErgXXyzpj5xG",
        "outputId": "d8af3de8-e3ed-42d5-a63a-2014e7e5ed4c",
        "colab": {
          "base_uri": "https://localhost:8080/"
        }
      },
      "source": [
        "np.mean(all_scores)"
      ],
      "execution_count": 25,
      "outputs": [
        {
          "output_type": "execute_result",
          "data": {
            "text/plain": [
              "2.288470298051834"
            ]
          },
          "metadata": {},
          "execution_count": 25
        }
      ]
    },
    {
      "cell_type": "markdown",
      "metadata": {
        "id": "fuArJIrQj8n2"
      },
      "source": [
        "Continuing the training for longer"
      ]
    },
    {
      "cell_type": "code",
      "metadata": {
        "id": "fPx9sMJOk1PM",
        "outputId": "fdfe161f-1afb-49d9-dcc6-85c7f5ca1783",
        "colab": {
          "base_uri": "https://localhost:8080/"
        }
      },
      "source": [
        "k = 4\n",
        "num_val_samples = len(train_data) // k\n",
        "num_epochs = 500\n",
        "\n",
        "all_mae_histories = []\n",
        "\n",
        "for i in range(k):\n",
        "\n",
        "  print(f\"Proccessing fold #{i}\")\n",
        "  \n",
        "  val_data = train_data[i*num_val_samples : (i+1)*num_val_samples]\n",
        "  val_targets = train_targets[i*num_val_samples : (i+1)*num_val_samples]\n",
        "\n",
        "  partial_train_data = np.concatenate([train_data[:i*num_val_samples], train_data[(i+1)*num_val_samples:]])\n",
        "  partial_train_targets = np.concatenate([train_targets[:i*num_val_samples], train_targets[(i+1)*num_val_samples:]])\n",
        "\n",
        "  model = build_model()\n",
        "  \n",
        "\n",
        "  history = model.fit(partial_train_data, partial_train_targets, epochs = num_epochs, batch_size = 16, verbose  = 0, validation_data=(val_data, val_targets))\n",
        "\n",
        "  mae_history = history.history[\"val_mae\"]\n",
        "  all_mae_histories.append(mae_history)\n"
      ],
      "execution_count": 27,
      "outputs": [
        {
          "output_type": "stream",
          "name": "stdout",
          "text": [
            "Proccessing fold #0\n",
            "Proccessing fold #1\n",
            "Proccessing fold #2\n",
            "Proccessing fold #3\n"
          ]
        }
      ]
    },
    {
      "cell_type": "code",
      "metadata": {
        "id": "4k_sht8qlLfX",
        "outputId": "50efa801-4c09-431e-f266-82a58de228d8",
        "colab": {
          "base_uri": "https://localhost:8080/"
        }
      },
      "source": [
        "len(mae_history)"
      ],
      "execution_count": 29,
      "outputs": [
        {
          "output_type": "execute_result",
          "data": {
            "text/plain": [
              "500"
            ]
          },
          "metadata": {},
          "execution_count": 29
        }
      ]
    },
    {
      "cell_type": "markdown",
      "metadata": {
        "id": "pe9E6635oDJ5"
      },
      "source": [
        "Average the per epoch mae across folds "
      ]
    },
    {
      "cell_type": "code",
      "metadata": {
        "id": "C0y5BRNNm0Uu"
      },
      "source": [
        "average_mae_history = [np.mean([x[i] for x in all_mae_histories]) for i in range(num_epochs)]\n"
      ],
      "execution_count": 30,
      "outputs": []
    },
    {
      "cell_type": "markdown",
      "metadata": {
        "id": "AQcftU3XoJhx"
      },
      "source": [
        "#### Plotting"
      ]
    },
    {
      "cell_type": "code",
      "metadata": {
        "id": "B3btMHhDoMhT"
      },
      "source": [
        "import matplotlib.pyplot as plt\n"
      ],
      "execution_count": 32,
      "outputs": []
    },
    {
      "cell_type": "code",
      "metadata": {
        "id": "nK8FVwABoLfy",
        "outputId": "7cd2369c-bfa4-4fe9-8202-654d80adc8f2",
        "colab": {
          "base_uri": "https://localhost:8080/",
          "height": 279
        }
      },
      "source": [
        "plt.plot(range(1, len(average_mae_history) + 1), average_mae_history)\n",
        "plt.xlabel(\"Epochs\")\n",
        "plt.ylabel(\"Validation MAE\")\n",
        "plt.show()"
      ],
      "execution_count": 33,
      "outputs": [
        {
          "output_type": "display_data",
          "data": {
            "image/png": "[encoded data removed]",
            "text/plain": [
              "<Figure size 432x288 with 1 Axes>"
            ]
          },
          "metadata": {
            "needs_background": "light"
          }
        }
      ]
    },
    {
      "cell_type": "code",
      "metadata": {
        "id": "To7MRYU1oL7O",
        "outputId": "0fb7a159-bad6-4b21-c5ac-86ca27f59831",
        "colab": {
          "base_uri": "https://localhost:8080/",
          "height": 279
        }
      },
      "source": [
        "truncated_mae_history = average_mae_history[10:]\n",
        "plt.plot(range(1, len(truncated_mae_history) + 1), truncated_mae_history)\n",
        "plt.xlabel(\"Epochs\")\n",
        "plt.ylabel(\"Validation MAE\")\n",
        "plt.show()"
      ],
      "execution_count": 35,
      "outputs": [
        {
          "output_type": "display_data",
          "data": {
            "image/png": "[encoded data removed]",
            "text/plain": [
              "<Figure size 432x288 with 1 Axes>"
            ]
          },
          "metadata": {
            "needs_background": "light"
          }
        }
      ]
    },
    {
      "cell_type": "markdown",
      "metadata": {
        "id": "YC9u-txEoTHQ"
      },
      "source": [
        "Looks like model overfits after around 150 epochs. Therefore training a final model on all the data"
      ]
    },
    {
      "cell_type": "code",
      "metadata": {
        "id": "_-O_v_1kokH2",
        "outputId": "be513ba4-51c1-4b99-98ba-0584b4b4635e",
        "colab": {
          "base_uri": "https://localhost:8080/"
        }
      },
      "source": [
        "model = build_model()\n",
        "\n",
        "model.fit(train_data, train_targets, epochs = 150, batch_size = 16, verbose = 0)\n",
        "\n",
        "test_mse_score, test_mae_score = model.evaluate(test_data, test_targets)"
      ],
      "execution_count": 36,
      "outputs": [
        {
          "output_type": "stream",
          "name": "stdout",
          "text": [
            "4/4 [==============================] - 0s 5ms/step - loss: 19.2286 - mae: 2.8628\n"
          ]
        }
      ]
    },
    {
      "cell_type": "code",
      "metadata": {
        "id": "hHvLZ1TIo8H_",
        "outputId": "077fb316-5397-41f5-9e16-c3213ab115b8",
        "colab": {
          "base_uri": "https://localhost:8080/"
        }
      },
      "source": [
        "test_mae_score"
      ],
      "execution_count": 37,
      "outputs": [
        {
          "output_type": "execute_result",
          "data": {
            "text/plain": [
              "2.8628313541412354"
            ]
          },
          "metadata": {},
          "execution_count": 37
        }
      ]
    },
    {
      "cell_type": "code",
      "metadata": {
        "id": "XtXMIHlkpGFa"
      },
      "source": [
        ""
      ],
      "execution_count": null,
      "outputs": []
    }
  ]
}