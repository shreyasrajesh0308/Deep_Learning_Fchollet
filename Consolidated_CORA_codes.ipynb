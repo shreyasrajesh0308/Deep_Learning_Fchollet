{
  "nbformat": 4,
  "nbformat_minor": 0,
  "metadata": {
    "colab": {
      "name": "Consolidated_CORA_codes.ipynb",
      "provenance": [],
      "collapsed_sections": [],
      "authorship_tag": "ABX9TyOFayeNQ6K1Kr5pfXzwfqdR",
      "include_colab_link": true
    },
    "kernelspec": {
      "name": "python3",
      "display_name": "Python 3"
    },
    "language_info": {
      "name": "python"
    }
  },
  "cells": [
    {
      "cell_type": "markdown",
      "metadata": {
        "id": "view-in-github",
        "colab_type": "text"
      },
      "source": [
        "<a href=\"https://colab.research.google.com/github/shreyasrajesh0308/Deep_Learning_Fchollet/blob/master/Consolidated_CORA_codes.ipynb\" target=\"_parent\"><img src=\"https://colab.research.google.com/assets/colab-badge.svg\" alt=\"Open In Colab\"/></a>"
      ]
    },
    {
      "cell_type": "markdown",
      "source": [
        "# Project-2 Part3\n",
        "\n",
        "Contains all the consolidated codes for the CORA dataset, we run it all in one notebook to make data split consistent and comparison between techniques easier. \n"
      ],
      "metadata": {
        "id": "Vgomu4eQ5i8O"
      }
    },
    {
      "cell_type": "markdown",
      "source": [
        "## Function imports"
      ],
      "metadata": {
        "id": "xtBjgulYdjiB"
      }
    },
    {
      "cell_type": "code",
      "source": [
        "import sys\n",
        "if 'google.colab' in sys.modules:\n",
        "  %pip install -q stellargraph[demos]==1.0.0rc1"
      ],
      "metadata": {
        "colab": {
          "base_uri": "https://localhost:8080/"
        },
        "id": "MjZzrNeFdr2N",
        "outputId": "9d660a4f-dd45-40db-8c42-5ccbe7b45f8e"
      },
      "execution_count": null,
      "outputs": [
        {
          "output_type": "stream",
          "name": "stdout",
          "text": [
            "\u001b[K     |████████████████████████████████| 374 kB 4.2 MB/s \n",
            "\u001b[K     |████████████████████████████████| 482 kB 46.8 MB/s \n",
            "\u001b[K     |████████████████████████████████| 462 kB 48.7 MB/s \n",
            "\u001b[K     |████████████████████████████████| 41 kB 343 kB/s \n",
            "\u001b[?25h  Building wheel for mplleaflet (setup.py) ... \u001b[?25l\u001b[?25hdone\n"
          ]
        }
      ]
    },
    {
      "cell_type": "code",
      "source": [
        "# verify that we're using the correct version of StellarGraph for this notebook\n",
        "import stellargraph as sg\n",
        "\n",
        "try:\n",
        "    sg.utils.validate_notebook_version(\"1.0.0rc1\")\n",
        "except AttributeError:\n",
        "    raise ValueError(\n",
        "        f\"This notebook requires StellarGraph version 1.0.0rc1, but a different version {sg.__version__} is installed.  Please see <https://github.com/stellargraph/stellargraph/issues/1172>.\"\n",
        "    ) from None\n"
      ],
      "metadata": {
        "id": "PoNybEOmeD6J"
      },
      "execution_count": null,
      "outputs": []
    },
    {
      "cell_type": "code",
      "source": [
        "#Data Prep libraries\n",
        "import pandas as pd\n",
        "import os\n",
        "\n",
        "#Building GCN layers\n",
        "import stellargraph as sg\n",
        "from stellargraph.mapper import FullBatchNodeGenerator\n",
        "from stellargraph.layer import GCN\n",
        "\n",
        "#Train network and run inference\n",
        "from tensorflow.keras import layers, optimizers, losses, metrics, Model\n",
        "from sklearn import preprocessing, model_selection\n",
        "from IPython.display import display, HTML\n",
        "import matplotlib.pyplot as plt\n",
        "%matplotlib inline"
      ],
      "metadata": {
        "id": "0KtEiCDsdvdx"
      },
      "execution_count": null,
      "outputs": []
    },
    {
      "cell_type": "markdown",
      "source": [
        "## Load the CORA dataset"
      ],
      "metadata": {
        "id": "UKdb18Zfd5YA"
      }
    },
    {
      "cell_type": "code",
      "source": [
        "dataset = sg.datasets.Cora()\n",
        "display(HTML(dataset.description))\n",
        "G, node_subjects = dataset.load()\n"
      ],
      "metadata": {
        "colab": {
          "base_uri": "https://localhost:8080/",
          "height": 51
        },
        "id": "DbBiTZRQeQZZ",
        "outputId": "e30821a9-91a7-4ddf-d0d0-598f5437e88f"
      },
      "execution_count": null,
      "outputs": [
        {
          "output_type": "display_data",
          "data": {
            "text/plain": [
              "<IPython.core.display.HTML object>"
            ],
            "text/html": [
              "The Cora dataset consists of 2708 scientific publications classified into one of seven classes. The citation network consists of 5429 links. Each publication in the dataset is described by a 0/1-valued word vector indicating the absence/presence of the corresponding word from the dictionary. The dictionary consists of 1433 unique words."
            ]
          },
          "metadata": {}
        }
      ]
    },
    {
      "cell_type": "code",
      "source": [
        "print(G.info())"
      ],
      "metadata": {
        "colab": {
          "base_uri": "https://localhost:8080/"
        },
        "id": "mNm3xLZFeQo-",
        "outputId": "aa562245-e801-42f2-ae05-733a550343f7"
      },
      "execution_count": null,
      "outputs": [
        {
          "output_type": "stream",
          "name": "stdout",
          "text": [
            "StellarGraph: Undirected multigraph\n",
            " Nodes: 2708, Edges: 5429\n",
            "\n",
            " Node types:\n",
            "  paper: [2708]\n",
            "    Features: float32 vector, length 1433\n",
            "    Edge types: paper-cites->paper\n",
            "\n",
            " Edge types:\n",
            "    paper-cites->paper: [5429]\n",
            "        Weights: all 1 (default)\n"
          ]
        }
      ]
    },
    {
      "cell_type": "code",
      "source": [
        "node_subjects.value_counts().to_frame()"
      ],
      "metadata": {
        "colab": {
          "base_uri": "https://localhost:8080/",
          "height": 266
        },
        "id": "qlgRJv7ieYhF",
        "outputId": "f04d3641-0c2b-4d4c-c212-0b6f57e68c14"
      },
      "execution_count": null,
      "outputs": [
        {
          "output_type": "execute_result",
          "data": {
            "text/plain": [
              "                        subject\n",
              "Neural_Networks             818\n",
              "Probabilistic_Methods       426\n",
              "Genetic_Algorithms          418\n",
              "Theory                      351\n",
              "Case_Based                  298\n",
              "Reinforcement_Learning      217\n",
              "Rule_Learning               180"
            ],
            "text/html": [
              "\n",
              "  <div id=\"df-eade7a00-1c87-44fd-a82c-337d3b14c707\">\n",
              "    <div class=\"colab-df-container\">\n",
              "      <div>\n",
              "<style scoped>\n",
              "    .dataframe tbody tr th:only-of-type {\n",
              "        vertical-align: middle;\n",
              "    }\n",
              "\n",
              "    .dataframe tbody tr th {\n",
              "        vertical-align: top;\n",
              "    }\n",
              "\n",
              "    .dataframe thead th {\n",
              "        text-align: right;\n",
              "    }\n",
              "</style>\n",
              "<table border=\"1\" class=\"dataframe\">\n",
              "  <thead>\n",
              "    <tr style=\"text-align: right;\">\n",
              "      <th></th>\n",
              "      <th>subject</th>\n",
              "    </tr>\n",
              "  </thead>\n",
              "  <tbody>\n",
              "    <tr>\n",
              "      <th>Neural_Networks</th>\n",
              "      <td>818</td>\n",
              "    </tr>\n",
              "    <tr>\n",
              "      <th>Probabilistic_Methods</th>\n",
              "      <td>426</td>\n",
              "    </tr>\n",
              "    <tr>\n",
              "      <th>Genetic_Algorithms</th>\n",
              "      <td>418</td>\n",
              "    </tr>\n",
              "    <tr>\n",
              "      <th>Theory</th>\n",
              "      <td>351</td>\n",
              "    </tr>\n",
              "    <tr>\n",
              "      <th>Case_Based</th>\n",
              "      <td>298</td>\n",
              "    </tr>\n",
              "    <tr>\n",
              "      <th>Reinforcement_Learning</th>\n",
              "      <td>217</td>\n",
              "    </tr>\n",
              "    <tr>\n",
              "      <th>Rule_Learning</th>\n",
              "      <td>180</td>\n",
              "    </tr>\n",
              "  </tbody>\n",
              "</table>\n",
              "</div>\n",
              "      <button class=\"colab-df-convert\" onclick=\"convertToInteractive('df-eade7a00-1c87-44fd-a82c-337d3b14c707')\"\n",
              "              title=\"Convert this dataframe to an interactive table.\"\n",
              "              style=\"display:none;\">\n",
              "        \n",
              "  <svg xmlns=\"http://www.w3.org/2000/svg\" height=\"24px\"viewBox=\"0 0 24 24\"\n",
              "       width=\"24px\">\n",
              "    <path d=\"M0 0h24v24H0V0z\" fill=\"none\"/>\n",
              "    <path d=\"M18.56 5.44l.94 2.06.94-2.06 2.06-.94-2.06-.94-.94-2.06-.94 2.06-2.06.94zm-11 1L8.5 8.5l.94-2.06 2.06-.94-2.06-.94L8.5 2.5l-.94 2.06-2.06.94zm10 10l.94 2.06.94-2.06 2.06-.94-2.06-.94-.94-2.06-.94 2.06-2.06.94z\"/><path d=\"M17.41 7.96l-1.37-1.37c-.4-.4-.92-.59-1.43-.59-.52 0-1.04.2-1.43.59L10.3 9.45l-7.72 7.72c-.78.78-.78 2.05 0 2.83L4 21.41c.39.39.9.59 1.41.59.51 0 1.02-.2 1.41-.59l7.78-7.78 2.81-2.81c.8-.78.8-2.07 0-2.86zM5.41 20L4 18.59l7.72-7.72 1.47 1.35L5.41 20z\"/>\n",
              "  </svg>\n",
              "      </button>\n",
              "      \n",
              "  <style>\n",
              "    .colab-df-container {\n",
              "      display:flex;\n",
              "      flex-wrap:wrap;\n",
              "      gap: 12px;\n",
              "    }\n",
              "\n",
              "    .colab-df-convert {\n",
              "      background-color: #E8F0FE;\n",
              "      border: none;\n",
              "      border-radius: 50%;\n",
              "      cursor: pointer;\n",
              "      display: none;\n",
              "      fill: #1967D2;\n",
              "      height: 32px;\n",
              "      padding: 0 0 0 0;\n",
              "      width: 32px;\n",
              "    }\n",
              "\n",
              "    .colab-df-convert:hover {\n",
              "      background-color: #E2EBFA;\n",
              "      box-shadow: 0px 1px 2px rgba(60, 64, 67, 0.3), 0px 1px 3px 1px rgba(60, 64, 67, 0.15);\n",
              "      fill: #174EA6;\n",
              "    }\n",
              "\n",
              "    [theme=dark] .colab-df-convert {\n",
              "      background-color: #3B4455;\n",
              "      fill: #D2E3FC;\n",
              "    }\n",
              "\n",
              "    [theme=dark] .colab-df-convert:hover {\n",
              "      background-color: #434B5C;\n",
              "      box-shadow: 0px 1px 3px 1px rgba(0, 0, 0, 0.15);\n",
              "      filter: drop-shadow(0px 1px 2px rgba(0, 0, 0, 0.3));\n",
              "      fill: #FFFFFF;\n",
              "    }\n",
              "  </style>\n",
              "\n",
              "      <script>\n",
              "        const buttonEl =\n",
              "          document.querySelector('#df-eade7a00-1c87-44fd-a82c-337d3b14c707 button.colab-df-convert');\n",
              "        buttonEl.style.display =\n",
              "          google.colab.kernel.accessAllowed ? 'block' : 'none';\n",
              "\n",
              "        async function convertToInteractive(key) {\n",
              "          const element = document.querySelector('#df-eade7a00-1c87-44fd-a82c-337d3b14c707');\n",
              "          const dataTable =\n",
              "            await google.colab.kernel.invokeFunction('convertToInteractive',\n",
              "                                                     [key], {});\n",
              "          if (!dataTable) return;\n",
              "\n",
              "          const docLinkHtml = 'Like what you see? Visit the ' +\n",
              "            '<a target=\"_blank\" href=https://colab.research.google.com/notebooks/data_table.ipynb>data table notebook</a>'\n",
              "            + ' to learn more about interactive tables.';\n",
              "          element.innerHTML = '';\n",
              "          dataTable['output_type'] = 'display_data';\n",
              "          await google.colab.output.renderOutput(dataTable, element);\n",
              "          const docLink = document.createElement('div');\n",
              "          docLink.innerHTML = docLinkHtml;\n",
              "          element.appendChild(docLink);\n",
              "        }\n",
              "      </script>\n",
              "    </div>\n",
              "  </div>\n",
              "  "
            ]
          },
          "metadata": {},
          "execution_count": 6
        }
      ]
    },
    {
      "cell_type": "code",
      "source": [
        "cats = [\"Neural_Networks\", \"Probabilistic_Methods\", \"Genetic_Algorithms\", \"Theory\", \"Case_Based\", \"Reinforcement_Learning\", \"Rule_Learning\"]\n",
        "\n",
        "train_subjects = pd.Series()\n",
        "test_subjects = pd.Series()\n",
        "\n",
        "for cat in cats:\n",
        "  train_subjects = train_subjects.append(node_subjects.loc[node_subjects == cat][:20])\n",
        "  test_subjects = test_subjects.append(node_subjects.loc[node_subjects == cat][20:])"
      ],
      "metadata": {
        "colab": {
          "base_uri": "https://localhost:8080/"
        },
        "id": "Q4QAt5G5e-ax",
        "outputId": "f5c22f85-2c75-4b4b-d911-e7def4454eb0"
      },
      "execution_count": null,
      "outputs": [
        {
          "output_type": "stream",
          "name": "stderr",
          "text": [
            "/usr/local/lib/python3.7/dist-packages/ipykernel_launcher.py:3: DeprecationWarning: The default dtype for empty Series will be 'object' instead of 'float64' in a future version. Specify a dtype explicitly to silence this warning.\n",
            "  This is separate from the ipykernel package so we can avoid doing imports until\n",
            "/usr/local/lib/python3.7/dist-packages/ipykernel_launcher.py:4: DeprecationWarning: The default dtype for empty Series will be 'object' instead of 'float64' in a future version. Specify a dtype explicitly to silence this warning.\n",
            "  after removing the cwd from sys.path.\n"
          ]
        }
      ]
    },
    {
      "cell_type": "code",
      "source": [
        "from sklearn.utils import shuffle\n",
        "train_subjects = shuffle(train_subjects)\n",
        "test_subjects = shuffle(test_subjects)"
      ],
      "metadata": {
        "id": "RWl0PoVtgiNY"
      },
      "execution_count": null,
      "outputs": []
    },
    {
      "cell_type": "code",
      "source": [
        "train_subjects.value_counts().to_frame()"
      ],
      "metadata": {
        "colab": {
          "base_uri": "https://localhost:8080/",
          "height": 266
        },
        "id": "hRcU07KP83eU",
        "outputId": "30b81d3c-5500-4ee9-9b35-9cf974d7af1c"
      },
      "execution_count": null,
      "outputs": [
        {
          "output_type": "execute_result",
          "data": {
            "text/plain": [
              "                         0\n",
              "Reinforcement_Learning  20\n",
              "Neural_Networks         20\n",
              "Case_Based              20\n",
              "Theory                  20\n",
              "Genetic_Algorithms      20\n",
              "Probabilistic_Methods   20\n",
              "Rule_Learning           20"
            ],
            "text/html": [
              "\n",
              "  <div id=\"df-6df4e1e0-87e8-45cc-8466-5bf5f66151d0\">\n",
              "    <div class=\"colab-df-container\">\n",
              "      <div>\n",
              "<style scoped>\n",
              "    .dataframe tbody tr th:only-of-type {\n",
              "        vertical-align: middle;\n",
              "    }\n",
              "\n",
              "    .dataframe tbody tr th {\n",
              "        vertical-align: top;\n",
              "    }\n",
              "\n",
              "    .dataframe thead th {\n",
              "        text-align: right;\n",
              "    }\n",
              "</style>\n",
              "<table border=\"1\" class=\"dataframe\">\n",
              "  <thead>\n",
              "    <tr style=\"text-align: right;\">\n",
              "      <th></th>\n",
              "      <th>0</th>\n",
              "    </tr>\n",
              "  </thead>\n",
              "  <tbody>\n",
              "    <tr>\n",
              "      <th>Reinforcement_Learning</th>\n",
              "      <td>20</td>\n",
              "    </tr>\n",
              "    <tr>\n",
              "      <th>Neural_Networks</th>\n",
              "      <td>20</td>\n",
              "    </tr>\n",
              "    <tr>\n",
              "      <th>Case_Based</th>\n",
              "      <td>20</td>\n",
              "    </tr>\n",
              "    <tr>\n",
              "      <th>Theory</th>\n",
              "      <td>20</td>\n",
              "    </tr>\n",
              "    <tr>\n",
              "      <th>Genetic_Algorithms</th>\n",
              "      <td>20</td>\n",
              "    </tr>\n",
              "    <tr>\n",
              "      <th>Probabilistic_Methods</th>\n",
              "      <td>20</td>\n",
              "    </tr>\n",
              "    <tr>\n",
              "      <th>Rule_Learning</th>\n",
              "      <td>20</td>\n",
              "    </tr>\n",
              "  </tbody>\n",
              "</table>\n",
              "</div>\n",
              "      <button class=\"colab-df-convert\" onclick=\"convertToInteractive('df-6df4e1e0-87e8-45cc-8466-5bf5f66151d0')\"\n",
              "              title=\"Convert this dataframe to an interactive table.\"\n",
              "              style=\"display:none;\">\n",
              "        \n",
              "  <svg xmlns=\"http://www.w3.org/2000/svg\" height=\"24px\"viewBox=\"0 0 24 24\"\n",
              "       width=\"24px\">\n",
              "    <path d=\"M0 0h24v24H0V0z\" fill=\"none\"/>\n",
              "    <path d=\"M18.56 5.44l.94 2.06.94-2.06 2.06-.94-2.06-.94-.94-2.06-.94 2.06-2.06.94zm-11 1L8.5 8.5l.94-2.06 2.06-.94-2.06-.94L8.5 2.5l-.94 2.06-2.06.94zm10 10l.94 2.06.94-2.06 2.06-.94-2.06-.94-.94-2.06-.94 2.06-2.06.94z\"/><path d=\"M17.41 7.96l-1.37-1.37c-.4-.4-.92-.59-1.43-.59-.52 0-1.04.2-1.43.59L10.3 9.45l-7.72 7.72c-.78.78-.78 2.05 0 2.83L4 21.41c.39.39.9.59 1.41.59.51 0 1.02-.2 1.41-.59l7.78-7.78 2.81-2.81c.8-.78.8-2.07 0-2.86zM5.41 20L4 18.59l7.72-7.72 1.47 1.35L5.41 20z\"/>\n",
              "  </svg>\n",
              "      </button>\n",
              "      \n",
              "  <style>\n",
              "    .colab-df-container {\n",
              "      display:flex;\n",
              "      flex-wrap:wrap;\n",
              "      gap: 12px;\n",
              "    }\n",
              "\n",
              "    .colab-df-convert {\n",
              "      background-color: #E8F0FE;\n",
              "      border: none;\n",
              "      border-radius: 50%;\n",
              "      cursor: pointer;\n",
              "      display: none;\n",
              "      fill: #1967D2;\n",
              "      height: 32px;\n",
              "      padding: 0 0 0 0;\n",
              "      width: 32px;\n",
              "    }\n",
              "\n",
              "    .colab-df-convert:hover {\n",
              "      background-color: #E2EBFA;\n",
              "      box-shadow: 0px 1px 2px rgba(60, 64, 67, 0.3), 0px 1px 3px 1px rgba(60, 64, 67, 0.15);\n",
              "      fill: #174EA6;\n",
              "    }\n",
              "\n",
              "    [theme=dark] .colab-df-convert {\n",
              "      background-color: #3B4455;\n",
              "      fill: #D2E3FC;\n",
              "    }\n",
              "\n",
              "    [theme=dark] .colab-df-convert:hover {\n",
              "      background-color: #434B5C;\n",
              "      box-shadow: 0px 1px 3px 1px rgba(0, 0, 0, 0.15);\n",
              "      filter: drop-shadow(0px 1px 2px rgba(0, 0, 0, 0.3));\n",
              "      fill: #FFFFFF;\n",
              "    }\n",
              "  </style>\n",
              "\n",
              "      <script>\n",
              "        const buttonEl =\n",
              "          document.querySelector('#df-6df4e1e0-87e8-45cc-8466-5bf5f66151d0 button.colab-df-convert');\n",
              "        buttonEl.style.display =\n",
              "          google.colab.kernel.accessAllowed ? 'block' : 'none';\n",
              "\n",
              "        async function convertToInteractive(key) {\n",
              "          const element = document.querySelector('#df-6df4e1e0-87e8-45cc-8466-5bf5f66151d0');\n",
              "          const dataTable =\n",
              "            await google.colab.kernel.invokeFunction('convertToInteractive',\n",
              "                                                     [key], {});\n",
              "          if (!dataTable) return;\n",
              "\n",
              "          const docLinkHtml = 'Like what you see? Visit the ' +\n",
              "            '<a target=\"_blank\" href=https://colab.research.google.com/notebooks/data_table.ipynb>data table notebook</a>'\n",
              "            + ' to learn more about interactive tables.';\n",
              "          element.innerHTML = '';\n",
              "          dataTable['output_type'] = 'display_data';\n",
              "          await google.colab.output.renderOutput(dataTable, element);\n",
              "          const docLink = document.createElement('div');\n",
              "          docLink.innerHTML = docLinkHtml;\n",
              "          element.appendChild(docLink);\n",
              "        }\n",
              "      </script>\n",
              "    </div>\n",
              "  </div>\n",
              "  "
            ]
          },
          "metadata": {},
          "execution_count": 53
        }
      ]
    },
    {
      "cell_type": "code",
      "source": [
        "val_subjects, test_subjects = model_selection.train_test_split(\n",
        "    test_subjects, train_size=500, test_size=None, stratify=test_subjects\n",
        ")"
      ],
      "metadata": {
        "id": "1XN4qk_0heN-"
      },
      "execution_count": null,
      "outputs": []
    },
    {
      "cell_type": "markdown",
      "source": [
        "## Convert Targets to one hot encoding"
      ],
      "metadata": {
        "id": "wvcGSZV0ey8u"
      }
    },
    {
      "cell_type": "code",
      "source": [
        "# Creating a label binarizer which converts labels to one hot encoding.\n",
        "target_encoding = preprocessing.LabelBinarizer()\n",
        "\n",
        "# Train, val and test targets\n",
        "train_targets = target_encoding.fit_transform(train_subjects)\n",
        "val_targets = target_encoding.transform(val_subjects)\n",
        "test_targets = target_encoding.transform(test_subjects)"
      ],
      "metadata": {
        "id": "9TpfdvRMlzlF"
      },
      "execution_count": null,
      "outputs": []
    },
    {
      "cell_type": "markdown",
      "source": [
        "## GCN Implementation.\n",
        "\n",
        "Implementation of the GCN algorithm, we use the stellargraph implementation of GCN.\n",
        "\n",
        "GCN paper - https://arxiv.org/abs/1609.02907\n",
        "\n",
        "Stellargraph documentation - https://stellargraph.readthedocs.io/en/v1.0.0rc1/index.html"
      ],
      "metadata": {
        "id": "RU9gkfVx68j_"
      }
    },
    {
      "cell_type": "markdown",
      "source": [
        "### Creating the GCN layer"
      ],
      "metadata": {
        "id": "a5rJHkwpmAP3"
      }
    },
    {
      "cell_type": "code",
      "source": [
        "# Create a data generator\n",
        "generator = FullBatchNodeGenerator(G, method=\"gcn\")"
      ],
      "metadata": {
        "colab": {
          "base_uri": "https://localhost:8080/"
        },
        "id": "XI_Uhay-sM_J",
        "outputId": "c819aabd-a7b1-4955-825b-c9d6c4d30217"
      },
      "execution_count": null,
      "outputs": [
        {
          "output_type": "stream",
          "name": "stdout",
          "text": [
            "Using GCN (local pooling) filters...\n"
          ]
        }
      ]
    },
    {
      "cell_type": "code",
      "source": [
        "# Create trainable object\n",
        "train_gen = generator.flow(train_subjects.index, train_targets)"
      ],
      "metadata": {
        "id": "CRqpsxTBsaEf"
      },
      "execution_count": null,
      "outputs": []
    },
    {
      "cell_type": "code",
      "source": [
        "# Trainable model \n",
        "gcn = GCN(\n",
        "    layer_sizes=[16, 16], activations=[\"relu\", \"relu\"], generator=generator, dropout=0.5\n",
        ")"
      ],
      "metadata": {
        "id": "aiwotBQOvJVx"
      },
      "execution_count": null,
      "outputs": []
    },
    {
      "cell_type": "code",
      "source": [
        "x_inp, x_out = gcn.in_out_tensors()"
      ],
      "metadata": {
        "id": "PcfPljopwd9Q"
      },
      "execution_count": null,
      "outputs": []
    },
    {
      "cell_type": "code",
      "source": [
        "x_out"
      ],
      "metadata": {
        "colab": {
          "base_uri": "https://localhost:8080/"
        },
        "id": "m6nZk6rhwpEa",
        "outputId": "0a84f4e7-4d03-4623-e7a1-74a7e0acaf7d"
      },
      "execution_count": null,
      "outputs": [
        {
          "output_type": "execute_result",
          "data": {
            "text/plain": [
              "<KerasTensor: shape=(1, None, 16) dtype=float32 (created by layer 'gather_indices')>"
            ]
          },
          "metadata": {},
          "execution_count": 60
        }
      ]
    },
    {
      "cell_type": "code",
      "source": [
        "predictions = layers.Dense(units=train_targets.shape[1], activation=\"softmax\")(x_out)"
      ],
      "metadata": {
        "id": "A9B_tcs3wqDQ"
      },
      "execution_count": null,
      "outputs": []
    },
    {
      "cell_type": "code",
      "source": [
        "predictions"
      ],
      "metadata": {
        "colab": {
          "base_uri": "https://localhost:8080/"
        },
        "id": "20lLHAyxw6G3",
        "outputId": "2f77dc4c-2d0a-47ff-a4ee-df5c70d8d61f"
      },
      "execution_count": null,
      "outputs": [
        {
          "output_type": "execute_result",
          "data": {
            "text/plain": [
              "<KerasTensor: shape=(1, None, 7) dtype=float32 (created by layer 'dense')>"
            ]
          },
          "metadata": {},
          "execution_count": 62
        }
      ]
    },
    {
      "cell_type": "markdown",
      "source": [
        "### Training and evaluating"
      ],
      "metadata": {
        "id": "47QRI31dw7Rq"
      }
    },
    {
      "cell_type": "code",
      "source": [
        "# Build the Keras Model\n",
        "model = Model(inputs=x_inp, outputs=predictions)\n",
        "\n",
        "# Compile model \n",
        "model.compile(\n",
        "    optimizer=optimizers.Adam(lr=0.01),\n",
        "    loss=losses.categorical_crossentropy,\n",
        "    metrics=[\"acc\"],\n",
        ")"
      ],
      "metadata": {
        "colab": {
          "base_uri": "https://localhost:8080/"
        },
        "id": "WDx0yBe1yqUG",
        "outputId": "e5a3b160-67ca-4aa0-cf12-ee2dcd0b2e02"
      },
      "execution_count": null,
      "outputs": [
        {
          "output_type": "stream",
          "name": "stderr",
          "text": [
            "/usr/local/lib/python3.7/dist-packages/keras/optimizer_v2/adam.py:105: UserWarning: The `lr` argument is deprecated, use `learning_rate` instead.\n",
            "  super(Adam, self).__init__(name, **kwargs)\n"
          ]
        }
      ]
    },
    {
      "cell_type": "code",
      "source": [
        "# Create Valid data\n",
        "val_gen = generator.flow(val_subjects.index, val_targets)"
      ],
      "metadata": {
        "id": "wUu0yN7Oy3pK"
      },
      "execution_count": null,
      "outputs": []
    },
    {
      "cell_type": "code",
      "source": [
        "# Early stopping keras\n",
        "from tensorflow.keras.callbacks import EarlyStopping\n",
        "\n",
        "es_callback = EarlyStopping(monitor=\"val_acc\", patience=50, restore_best_weights=True)"
      ],
      "metadata": {
        "id": "7EwUwdB7zNxA"
      },
      "execution_count": null,
      "outputs": []
    },
    {
      "cell_type": "code",
      "source": [
        "# Model training\n",
        "history = model.fit(\n",
        "    train_gen,\n",
        "    epochs=200,\n",
        "    validation_data=val_gen,\n",
        "    verbose=2,\n",
        "    shuffle=False,  # this should be False, since shuffling data means shuffling the whole graph\n",
        "    callbacks=[es_callback],\n",
        ")\n"
      ],
      "metadata": {
        "colab": {
          "base_uri": "https://localhost:8080/"
        },
        "id": "vNDBcOBizT0D",
        "outputId": "13ba9ebf-087e-4481-85da-760e90f4c1b9"
      },
      "execution_count": null,
      "outputs": [
        {
          "output_type": "stream",
          "name": "stdout",
          "text": [
            "Epoch 1/200\n",
            "1/1 - 1s - loss: 1.9509 - acc: 0.1000 - val_loss: 1.9374 - val_acc: 0.2900 - 1s/epoch - 1s/step\n",
            "Epoch 2/200\n",
            "1/1 - 0s - loss: 1.9186 - acc: 0.3286 - val_loss: 1.9039 - val_acc: 0.4800 - 152ms/epoch - 152ms/step\n",
            "Epoch 3/200\n",
            "1/1 - 0s - loss: 1.8668 - acc: 0.5714 - val_loss: 1.8493 - val_acc: 0.5480 - 149ms/epoch - 149ms/step\n",
            "Epoch 4/200\n",
            "1/1 - 0s - loss: 1.8116 - acc: 0.5571 - val_loss: 1.7844 - val_acc: 0.5880 - 152ms/epoch - 152ms/step\n",
            "Epoch 5/200\n",
            "1/1 - 0s - loss: 1.7159 - acc: 0.5857 - val_loss: 1.7155 - val_acc: 0.6160 - 189ms/epoch - 189ms/step\n",
            "Epoch 6/200\n",
            "1/1 - 0s - loss: 1.6562 - acc: 0.6643 - val_loss: 1.6449 - val_acc: 0.6440 - 157ms/epoch - 157ms/step\n",
            "Epoch 7/200\n",
            "1/1 - 0s - loss: 1.5518 - acc: 0.6500 - val_loss: 1.5778 - val_acc: 0.6540 - 153ms/epoch - 153ms/step\n",
            "Epoch 8/200\n",
            "1/1 - 0s - loss: 1.4585 - acc: 0.6786 - val_loss: 1.5108 - val_acc: 0.6720 - 153ms/epoch - 153ms/step\n",
            "Epoch 9/200\n",
            "1/1 - 0s - loss: 1.3376 - acc: 0.6786 - val_loss: 1.4451 - val_acc: 0.6900 - 147ms/epoch - 147ms/step\n",
            "Epoch 10/200\n",
            "1/1 - 0s - loss: 1.2131 - acc: 0.7000 - val_loss: 1.3845 - val_acc: 0.6800 - 156ms/epoch - 156ms/step\n",
            "Epoch 11/200\n",
            "1/1 - 0s - loss: 1.1487 - acc: 0.7214 - val_loss: 1.3160 - val_acc: 0.6960 - 163ms/epoch - 163ms/step\n",
            "Epoch 12/200\n",
            "1/1 - 0s - loss: 1.1078 - acc: 0.7857 - val_loss: 1.2462 - val_acc: 0.7200 - 151ms/epoch - 151ms/step\n",
            "Epoch 13/200\n",
            "1/1 - 0s - loss: 0.9170 - acc: 0.7643 - val_loss: 1.1727 - val_acc: 0.7360 - 153ms/epoch - 153ms/step\n",
            "Epoch 14/200\n",
            "1/1 - 0s - loss: 0.9247 - acc: 0.7071 - val_loss: 1.1036 - val_acc: 0.7480 - 150ms/epoch - 150ms/step\n",
            "Epoch 15/200\n",
            "1/1 - 0s - loss: 0.7821 - acc: 0.8000 - val_loss: 1.0485 - val_acc: 0.7440 - 160ms/epoch - 160ms/step\n",
            "Epoch 16/200\n",
            "1/1 - 0s - loss: 0.7107 - acc: 0.8357 - val_loss: 1.0035 - val_acc: 0.7440 - 165ms/epoch - 165ms/step\n",
            "Epoch 17/200\n",
            "1/1 - 0s - loss: 0.6662 - acc: 0.8429 - val_loss: 0.9739 - val_acc: 0.7360 - 149ms/epoch - 149ms/step\n",
            "Epoch 18/200\n",
            "1/1 - 0s - loss: 0.6168 - acc: 0.8214 - val_loss: 0.9538 - val_acc: 0.7360 - 149ms/epoch - 149ms/step\n",
            "Epoch 19/200\n",
            "1/1 - 0s - loss: 0.5450 - acc: 0.8786 - val_loss: 0.9456 - val_acc: 0.7160 - 153ms/epoch - 153ms/step\n",
            "Epoch 20/200\n",
            "1/1 - 0s - loss: 0.4801 - acc: 0.8714 - val_loss: 0.9438 - val_acc: 0.7080 - 150ms/epoch - 150ms/step\n",
            "Epoch 21/200\n",
            "1/1 - 0s - loss: 0.4231 - acc: 0.8929 - val_loss: 0.9433 - val_acc: 0.7080 - 160ms/epoch - 160ms/step\n",
            "Epoch 22/200\n",
            "1/1 - 0s - loss: 0.3716 - acc: 0.9214 - val_loss: 0.9298 - val_acc: 0.7060 - 148ms/epoch - 148ms/step\n",
            "Epoch 23/200\n",
            "1/1 - 0s - loss: 0.4134 - acc: 0.9000 - val_loss: 0.9093 - val_acc: 0.7160 - 154ms/epoch - 154ms/step\n",
            "Epoch 24/200\n",
            "1/1 - 0s - loss: 0.3466 - acc: 0.9286 - val_loss: 0.8826 - val_acc: 0.7260 - 157ms/epoch - 157ms/step\n",
            "Epoch 25/200\n",
            "1/1 - 0s - loss: 0.3128 - acc: 0.9071 - val_loss: 0.8744 - val_acc: 0.7200 - 155ms/epoch - 155ms/step\n",
            "Epoch 26/200\n",
            "1/1 - 0s - loss: 0.2259 - acc: 0.9714 - val_loss: 0.8602 - val_acc: 0.7200 - 159ms/epoch - 159ms/step\n",
            "Epoch 27/200\n",
            "1/1 - 0s - loss: 0.2851 - acc: 0.9429 - val_loss: 0.8525 - val_acc: 0.7320 - 147ms/epoch - 147ms/step\n",
            "Epoch 28/200\n",
            "1/1 - 0s - loss: 0.2490 - acc: 0.9500 - val_loss: 0.8457 - val_acc: 0.7400 - 151ms/epoch - 151ms/step\n",
            "Epoch 29/200\n",
            "1/1 - 0s - loss: 0.2429 - acc: 0.9286 - val_loss: 0.8366 - val_acc: 0.7440 - 146ms/epoch - 146ms/step\n",
            "Epoch 30/200\n",
            "1/1 - 0s - loss: 0.1750 - acc: 0.9500 - val_loss: 0.8264 - val_acc: 0.7420 - 148ms/epoch - 148ms/step\n",
            "Epoch 31/200\n",
            "1/1 - 0s - loss: 0.2315 - acc: 0.9286 - val_loss: 0.8192 - val_acc: 0.7500 - 154ms/epoch - 154ms/step\n",
            "Epoch 32/200\n",
            "1/1 - 0s - loss: 0.1759 - acc: 0.9571 - val_loss: 0.8198 - val_acc: 0.7540 - 151ms/epoch - 151ms/step\n",
            "Epoch 33/200\n",
            "1/1 - 0s - loss: 0.1876 - acc: 0.9429 - val_loss: 0.8286 - val_acc: 0.7540 - 180ms/epoch - 180ms/step\n",
            "Epoch 34/200\n",
            "1/1 - 0s - loss: 0.1354 - acc: 0.9643 - val_loss: 0.8476 - val_acc: 0.7540 - 159ms/epoch - 159ms/step\n",
            "Epoch 35/200\n",
            "1/1 - 0s - loss: 0.2039 - acc: 0.9214 - val_loss: 0.8638 - val_acc: 0.7460 - 155ms/epoch - 155ms/step\n",
            "Epoch 36/200\n",
            "1/1 - 0s - loss: 0.1389 - acc: 0.9571 - val_loss: 0.8823 - val_acc: 0.7480 - 150ms/epoch - 150ms/step\n",
            "Epoch 37/200\n",
            "1/1 - 0s - loss: 0.1134 - acc: 0.9571 - val_loss: 0.8986 - val_acc: 0.7480 - 159ms/epoch - 159ms/step\n",
            "Epoch 38/200\n",
            "1/1 - 0s - loss: 0.1194 - acc: 0.9786 - val_loss: 0.9183 - val_acc: 0.7500 - 151ms/epoch - 151ms/step\n",
            "Epoch 39/200\n",
            "1/1 - 0s - loss: 0.1457 - acc: 0.9643 - val_loss: 0.9299 - val_acc: 0.7460 - 150ms/epoch - 150ms/step\n",
            "Epoch 40/200\n",
            "1/1 - 0s - loss: 0.1127 - acc: 0.9714 - val_loss: 0.9414 - val_acc: 0.7440 - 154ms/epoch - 154ms/step\n",
            "Epoch 41/200\n",
            "1/1 - 0s - loss: 0.1264 - acc: 0.9714 - val_loss: 0.9559 - val_acc: 0.7340 - 145ms/epoch - 145ms/step\n",
            "Epoch 42/200\n",
            "1/1 - 0s - loss: 0.1216 - acc: 0.9643 - val_loss: 0.9618 - val_acc: 0.7340 - 162ms/epoch - 162ms/step\n",
            "Epoch 43/200\n",
            "1/1 - 0s - loss: 0.1289 - acc: 0.9500 - val_loss: 0.9750 - val_acc: 0.7360 - 150ms/epoch - 150ms/step\n",
            "Epoch 44/200\n",
            "1/1 - 0s - loss: 0.1056 - acc: 0.9643 - val_loss: 0.9902 - val_acc: 0.7360 - 154ms/epoch - 154ms/step\n",
            "Epoch 45/200\n",
            "1/1 - 0s - loss: 0.1257 - acc: 0.9786 - val_loss: 1.0019 - val_acc: 0.7400 - 153ms/epoch - 153ms/step\n",
            "Epoch 46/200\n",
            "1/1 - 0s - loss: 0.0838 - acc: 0.9714 - val_loss: 1.0093 - val_acc: 0.7400 - 152ms/epoch - 152ms/step\n",
            "Epoch 47/200\n",
            "1/1 - 0s - loss: 0.0738 - acc: 0.9786 - val_loss: 1.0154 - val_acc: 0.7400 - 153ms/epoch - 153ms/step\n",
            "Epoch 48/200\n",
            "1/1 - 0s - loss: 0.1055 - acc: 0.9786 - val_loss: 1.0132 - val_acc: 0.7360 - 154ms/epoch - 154ms/step\n",
            "Epoch 49/200\n",
            "1/1 - 0s - loss: 0.1142 - acc: 0.9643 - val_loss: 1.0048 - val_acc: 0.7380 - 153ms/epoch - 153ms/step\n",
            "Epoch 50/200\n",
            "1/1 - 0s - loss: 0.0569 - acc: 0.9929 - val_loss: 1.0043 - val_acc: 0.7420 - 150ms/epoch - 150ms/step\n",
            "Epoch 51/200\n",
            "1/1 - 0s - loss: 0.0437 - acc: 0.9929 - val_loss: 1.0034 - val_acc: 0.7320 - 158ms/epoch - 158ms/step\n",
            "Epoch 52/200\n",
            "1/1 - 0s - loss: 0.0665 - acc: 0.9714 - val_loss: 1.0084 - val_acc: 0.7320 - 154ms/epoch - 154ms/step\n",
            "Epoch 53/200\n",
            "1/1 - 0s - loss: 0.0887 - acc: 0.9786 - val_loss: 1.0256 - val_acc: 0.7340 - 158ms/epoch - 158ms/step\n",
            "Epoch 54/200\n",
            "1/1 - 0s - loss: 0.0859 - acc: 0.9714 - val_loss: 1.0464 - val_acc: 0.7320 - 154ms/epoch - 154ms/step\n",
            "Epoch 55/200\n",
            "1/1 - 0s - loss: 0.1064 - acc: 0.9714 - val_loss: 1.0630 - val_acc: 0.7340 - 154ms/epoch - 154ms/step\n",
            "Epoch 56/200\n",
            "1/1 - 0s - loss: 0.0769 - acc: 0.9714 - val_loss: 1.0674 - val_acc: 0.7340 - 151ms/epoch - 151ms/step\n",
            "Epoch 57/200\n",
            "1/1 - 0s - loss: 0.0964 - acc: 0.9714 - val_loss: 1.0524 - val_acc: 0.7400 - 150ms/epoch - 150ms/step\n",
            "Epoch 58/200\n",
            "1/1 - 0s - loss: 0.0497 - acc: 0.9857 - val_loss: 1.0466 - val_acc: 0.7400 - 159ms/epoch - 159ms/step\n",
            "Epoch 59/200\n",
            "1/1 - 0s - loss: 0.0746 - acc: 0.9714 - val_loss: 1.0435 - val_acc: 0.7380 - 146ms/epoch - 146ms/step\n",
            "Epoch 60/200\n",
            "1/1 - 0s - loss: 0.0419 - acc: 0.9929 - val_loss: 1.0434 - val_acc: 0.7420 - 153ms/epoch - 153ms/step\n",
            "Epoch 61/200\n",
            "1/1 - 0s - loss: 0.0749 - acc: 0.9786 - val_loss: 1.0431 - val_acc: 0.7480 - 154ms/epoch - 154ms/step\n",
            "Epoch 62/200\n",
            "1/1 - 0s - loss: 0.0540 - acc: 0.9857 - val_loss: 1.0584 - val_acc: 0.7420 - 147ms/epoch - 147ms/step\n",
            "Epoch 63/200\n",
            "1/1 - 0s - loss: 0.0567 - acc: 0.9786 - val_loss: 1.0755 - val_acc: 0.7340 - 159ms/epoch - 159ms/step\n",
            "Epoch 64/200\n",
            "1/1 - 0s - loss: 0.0637 - acc: 0.9786 - val_loss: 1.0973 - val_acc: 0.7300 - 148ms/epoch - 148ms/step\n",
            "Epoch 65/200\n",
            "1/1 - 0s - loss: 0.0386 - acc: 0.9929 - val_loss: 1.1139 - val_acc: 0.7320 - 148ms/epoch - 148ms/step\n",
            "Epoch 66/200\n",
            "1/1 - 0s - loss: 0.0752 - acc: 0.9714 - val_loss: 1.1313 - val_acc: 0.7240 - 150ms/epoch - 150ms/step\n",
            "Epoch 67/200\n",
            "1/1 - 0s - loss: 0.0438 - acc: 0.9857 - val_loss: 1.1414 - val_acc: 0.7240 - 145ms/epoch - 145ms/step\n",
            "Epoch 68/200\n",
            "1/1 - 0s - loss: 0.0374 - acc: 1.0000 - val_loss: 1.1466 - val_acc: 0.7240 - 150ms/epoch - 150ms/step\n",
            "Epoch 69/200\n",
            "1/1 - 0s - loss: 0.0570 - acc: 0.9786 - val_loss: 1.1358 - val_acc: 0.7300 - 150ms/epoch - 150ms/step\n",
            "Epoch 70/200\n",
            "1/1 - 0s - loss: 0.0227 - acc: 1.0000 - val_loss: 1.1227 - val_acc: 0.7360 - 152ms/epoch - 152ms/step\n",
            "Epoch 71/200\n",
            "1/1 - 0s - loss: 0.0411 - acc: 0.9857 - val_loss: 1.0996 - val_acc: 0.7440 - 150ms/epoch - 150ms/step\n",
            "Epoch 72/200\n",
            "1/1 - 0s - loss: 0.0275 - acc: 0.9929 - val_loss: 1.0833 - val_acc: 0.7440 - 154ms/epoch - 154ms/step\n",
            "Epoch 73/200\n",
            "1/1 - 0s - loss: 0.0779 - acc: 0.9786 - val_loss: 1.0643 - val_acc: 0.7460 - 148ms/epoch - 148ms/step\n",
            "Epoch 74/200\n",
            "1/1 - 0s - loss: 0.0513 - acc: 0.9857 - val_loss: 1.0568 - val_acc: 0.7480 - 149ms/epoch - 149ms/step\n",
            "Epoch 75/200\n",
            "1/1 - 0s - loss: 0.0620 - acc: 0.9714 - val_loss: 1.0502 - val_acc: 0.7460 - 152ms/epoch - 152ms/step\n",
            "Epoch 76/200\n",
            "1/1 - 0s - loss: 0.0372 - acc: 0.9857 - val_loss: 1.0485 - val_acc: 0.7540 - 153ms/epoch - 153ms/step\n",
            "Epoch 77/200\n",
            "1/1 - 0s - loss: 0.0833 - acc: 0.9857 - val_loss: 1.0451 - val_acc: 0.7540 - 153ms/epoch - 153ms/step\n",
            "Epoch 78/200\n",
            "1/1 - 0s - loss: 0.0584 - acc: 0.9857 - val_loss: 1.0376 - val_acc: 0.7540 - 148ms/epoch - 148ms/step\n",
            "Epoch 79/200\n",
            "1/1 - 0s - loss: 0.0619 - acc: 0.9857 - val_loss: 1.0348 - val_acc: 0.7540 - 153ms/epoch - 153ms/step\n",
            "Epoch 80/200\n",
            "1/1 - 0s - loss: 0.0544 - acc: 0.9857 - val_loss: 1.0229 - val_acc: 0.7580 - 151ms/epoch - 151ms/step\n",
            "Epoch 81/200\n",
            "1/1 - 0s - loss: 0.0400 - acc: 0.9929 - val_loss: 1.0214 - val_acc: 0.7620 - 156ms/epoch - 156ms/step\n",
            "Epoch 82/200\n",
            "1/1 - 0s - loss: 0.0412 - acc: 0.9857 - val_loss: 1.0203 - val_acc: 0.7620 - 149ms/epoch - 149ms/step\n",
            "Epoch 83/200\n",
            "1/1 - 0s - loss: 0.0474 - acc: 0.9929 - val_loss: 1.0299 - val_acc: 0.7620 - 159ms/epoch - 159ms/step\n",
            "Epoch 84/200\n",
            "1/1 - 0s - loss: 0.0432 - acc: 0.9929 - val_loss: 1.0481 - val_acc: 0.7580 - 145ms/epoch - 145ms/step\n",
            "Epoch 85/200\n",
            "1/1 - 0s - loss: 0.0177 - acc: 1.0000 - val_loss: 1.0735 - val_acc: 0.7520 - 154ms/epoch - 154ms/step\n",
            "Epoch 86/200\n",
            "1/1 - 0s - loss: 0.0351 - acc: 0.9929 - val_loss: 1.1038 - val_acc: 0.7440 - 152ms/epoch - 152ms/step\n",
            "Epoch 87/200\n",
            "1/1 - 0s - loss: 0.0342 - acc: 0.9929 - val_loss: 1.1397 - val_acc: 0.7380 - 158ms/epoch - 158ms/step\n",
            "Epoch 88/200\n",
            "1/1 - 0s - loss: 0.0264 - acc: 1.0000 - val_loss: 1.1777 - val_acc: 0.7380 - 155ms/epoch - 155ms/step\n",
            "Epoch 89/200\n",
            "1/1 - 0s - loss: 0.0389 - acc: 0.9857 - val_loss: 1.2158 - val_acc: 0.7240 - 147ms/epoch - 147ms/step\n",
            "Epoch 90/200\n",
            "1/1 - 0s - loss: 0.0599 - acc: 0.9857 - val_loss: 1.2301 - val_acc: 0.7240 - 158ms/epoch - 158ms/step\n",
            "Epoch 91/200\n",
            "1/1 - 0s - loss: 0.0368 - acc: 0.9857 - val_loss: 1.2477 - val_acc: 0.7260 - 152ms/epoch - 152ms/step\n",
            "Epoch 92/200\n",
            "1/1 - 0s - loss: 0.0437 - acc: 0.9786 - val_loss: 1.2569 - val_acc: 0.7260 - 168ms/epoch - 168ms/step\n",
            "Epoch 93/200\n",
            "1/1 - 0s - loss: 0.0607 - acc: 0.9714 - val_loss: 1.2623 - val_acc: 0.7260 - 152ms/epoch - 152ms/step\n",
            "Epoch 94/200\n",
            "1/1 - 0s - loss: 0.0594 - acc: 0.9786 - val_loss: 1.2627 - val_acc: 0.7280 - 149ms/epoch - 149ms/step\n",
            "Epoch 95/200\n",
            "1/1 - 0s - loss: 0.0460 - acc: 0.9786 - val_loss: 1.2646 - val_acc: 0.7300 - 150ms/epoch - 150ms/step\n",
            "Epoch 96/200\n",
            "1/1 - 0s - loss: 0.0116 - acc: 1.0000 - val_loss: 1.2688 - val_acc: 0.7320 - 155ms/epoch - 155ms/step\n",
            "Epoch 97/200\n",
            "1/1 - 0s - loss: 0.0452 - acc: 0.9857 - val_loss: 1.2729 - val_acc: 0.7280 - 154ms/epoch - 154ms/step\n",
            "Epoch 98/200\n",
            "1/1 - 0s - loss: 0.0168 - acc: 0.9929 - val_loss: 1.2753 - val_acc: 0.7320 - 159ms/epoch - 159ms/step\n",
            "Epoch 99/200\n",
            "1/1 - 0s - loss: 0.0171 - acc: 1.0000 - val_loss: 1.2711 - val_acc: 0.7360 - 155ms/epoch - 155ms/step\n",
            "Epoch 100/200\n",
            "1/1 - 0s - loss: 0.0130 - acc: 1.0000 - val_loss: 1.2692 - val_acc: 0.7380 - 160ms/epoch - 160ms/step\n",
            "Epoch 101/200\n",
            "1/1 - 0s - loss: 0.0419 - acc: 0.9929 - val_loss: 1.2524 - val_acc: 0.7380 - 153ms/epoch - 153ms/step\n",
            "Epoch 102/200\n",
            "1/1 - 0s - loss: 0.0186 - acc: 1.0000 - val_loss: 1.2321 - val_acc: 0.7460 - 154ms/epoch - 154ms/step\n",
            "Epoch 103/200\n",
            "1/1 - 0s - loss: 0.0742 - acc: 0.9714 - val_loss: 1.2007 - val_acc: 0.7540 - 181ms/epoch - 181ms/step\n",
            "Epoch 104/200\n",
            "1/1 - 0s - loss: 0.0280 - acc: 1.0000 - val_loss: 1.1829 - val_acc: 0.7500 - 158ms/epoch - 158ms/step\n",
            "Epoch 105/200\n",
            "1/1 - 0s - loss: 0.0375 - acc: 0.9929 - val_loss: 1.1691 - val_acc: 0.7520 - 158ms/epoch - 158ms/step\n",
            "Epoch 106/200\n",
            "1/1 - 0s - loss: 0.0402 - acc: 0.9857 - val_loss: 1.1625 - val_acc: 0.7520 - 152ms/epoch - 152ms/step\n",
            "Epoch 107/200\n",
            "1/1 - 0s - loss: 0.0303 - acc: 1.0000 - val_loss: 1.1593 - val_acc: 0.7540 - 179ms/epoch - 179ms/step\n",
            "Epoch 108/200\n",
            "1/1 - 0s - loss: 0.0207 - acc: 0.9929 - val_loss: 1.1622 - val_acc: 0.7560 - 168ms/epoch - 168ms/step\n",
            "Epoch 109/200\n",
            "1/1 - 0s - loss: 0.0174 - acc: 1.0000 - val_loss: 1.1682 - val_acc: 0.7580 - 153ms/epoch - 153ms/step\n",
            "Epoch 110/200\n",
            "1/1 - 0s - loss: 0.0215 - acc: 0.9857 - val_loss: 1.1763 - val_acc: 0.7560 - 149ms/epoch - 149ms/step\n",
            "Epoch 111/200\n",
            "1/1 - 0s - loss: 0.0301 - acc: 0.9929 - val_loss: 1.1804 - val_acc: 0.7520 - 161ms/epoch - 161ms/step\n",
            "Epoch 112/200\n",
            "1/1 - 0s - loss: 0.0379 - acc: 0.9786 - val_loss: 1.1826 - val_acc: 0.7520 - 146ms/epoch - 146ms/step\n",
            "Epoch 113/200\n",
            "1/1 - 0s - loss: 0.0242 - acc: 0.9929 - val_loss: 1.1818 - val_acc: 0.7500 - 158ms/epoch - 158ms/step\n",
            "Epoch 114/200\n",
            "1/1 - 0s - loss: 0.0343 - acc: 0.9929 - val_loss: 1.1780 - val_acc: 0.7480 - 147ms/epoch - 147ms/step\n",
            "Epoch 115/200\n",
            "1/1 - 0s - loss: 0.0396 - acc: 0.9929 - val_loss: 1.1805 - val_acc: 0.7480 - 161ms/epoch - 161ms/step\n",
            "Epoch 116/200\n",
            "1/1 - 0s - loss: 0.0340 - acc: 0.9929 - val_loss: 1.1899 - val_acc: 0.7460 - 148ms/epoch - 148ms/step\n",
            "Epoch 117/200\n",
            "1/1 - 0s - loss: 0.0400 - acc: 0.9857 - val_loss: 1.1967 - val_acc: 0.7440 - 145ms/epoch - 145ms/step\n",
            "Epoch 118/200\n",
            "1/1 - 0s - loss: 0.0174 - acc: 1.0000 - val_loss: 1.2039 - val_acc: 0.7460 - 161ms/epoch - 161ms/step\n",
            "Epoch 119/200\n",
            "1/1 - 0s - loss: 0.0327 - acc: 0.9929 - val_loss: 1.2126 - val_acc: 0.7460 - 152ms/epoch - 152ms/step\n",
            "Epoch 120/200\n",
            "1/1 - 0s - loss: 0.0439 - acc: 0.9786 - val_loss: 1.2269 - val_acc: 0.7420 - 147ms/epoch - 147ms/step\n",
            "Epoch 121/200\n",
            "1/1 - 0s - loss: 0.0625 - acc: 0.9786 - val_loss: 1.2335 - val_acc: 0.7460 - 148ms/epoch - 148ms/step\n",
            "Epoch 122/200\n",
            "1/1 - 0s - loss: 0.0293 - acc: 1.0000 - val_loss: 1.2441 - val_acc: 0.7460 - 144ms/epoch - 144ms/step\n",
            "Epoch 123/200\n",
            "1/1 - 0s - loss: 0.0282 - acc: 0.9929 - val_loss: 1.2512 - val_acc: 0.7440 - 161ms/epoch - 161ms/step\n",
            "Epoch 124/200\n",
            "1/1 - 0s - loss: 0.0334 - acc: 0.9786 - val_loss: 1.2583 - val_acc: 0.7440 - 154ms/epoch - 154ms/step\n",
            "Epoch 125/200\n",
            "1/1 - 0s - loss: 0.0387 - acc: 0.9929 - val_loss: 1.2664 - val_acc: 0.7440 - 152ms/epoch - 152ms/step\n",
            "Epoch 126/200\n",
            "1/1 - 0s - loss: 0.0313 - acc: 0.9929 - val_loss: 1.2772 - val_acc: 0.7360 - 161ms/epoch - 161ms/step\n",
            "Epoch 127/200\n",
            "1/1 - 0s - loss: 0.0416 - acc: 0.9786 - val_loss: 1.2761 - val_acc: 0.7360 - 150ms/epoch - 150ms/step\n",
            "Epoch 128/200\n",
            "1/1 - 0s - loss: 0.0082 - acc: 1.0000 - val_loss: 1.2754 - val_acc: 0.7340 - 150ms/epoch - 150ms/step\n",
            "Epoch 129/200\n",
            "1/1 - 0s - loss: 0.0379 - acc: 0.9857 - val_loss: 1.2634 - val_acc: 0.7320 - 145ms/epoch - 145ms/step\n",
            "Epoch 130/200\n",
            "1/1 - 0s - loss: 0.0260 - acc: 1.0000 - val_loss: 1.2552 - val_acc: 0.7380 - 152ms/epoch - 152ms/step\n",
            "Epoch 131/200\n",
            "1/1 - 0s - loss: 0.0233 - acc: 0.9929 - val_loss: 1.2460 - val_acc: 0.7400 - 170ms/epoch - 170ms/step\n"
          ]
        }
      ]
    },
    {
      "cell_type": "code",
      "source": [
        "sg.utils.plot_history(history)"
      ],
      "metadata": {
        "colab": {
          "base_uri": "https://localhost:8080/",
          "height": 585
        },
        "id": "Nb1RGSMkzYwK",
        "outputId": "5606a375-6ee8-4f41-a17b-0225338efe0f"
      },
      "execution_count": null,
      "outputs": [
        {
          "output_type": "display_data",
          "data": {
            "text/plain": [
              "<Figure size 504x576 with 2 Axes>"
            ],
            "image/png": "[encoded data removed]"
          },
          "metadata": {
            "needs_background": "light"
          }
        }
      ]
    },
    {
      "cell_type": "code",
      "source": [
        "# Create the test generator \n",
        "test_gen = generator.flow(test_subjects.index, test_targets)"
      ],
      "metadata": {
        "id": "ytK7vcF0zwxn"
      },
      "execution_count": null,
      "outputs": []
    },
    {
      "cell_type": "code",
      "source": [
        "test_metrics = model.evaluate(test_gen)\n",
        "print(\"\\nTest Set Metrics:\")\n",
        "for name, val in zip(model.metrics_names, test_metrics):\n",
        "    print(\"\\t{}: {:0.4f}\".format(name, val))"
      ],
      "metadata": {
        "colab": {
          "base_uri": "https://localhost:8080/"
        },
        "id": "xYP9Jl1K0R7W",
        "outputId": "c4b693ba-7542-4766-b28f-6cc0c4ddb5f7"
      },
      "execution_count": null,
      "outputs": [
        {
          "output_type": "stream",
          "name": "stdout",
          "text": [
            "1/1 [==============================] - 0s 68ms/step - loss: 1.0165 - acc: 0.7611\n",
            "\n",
            "Test Set Metrics:\n",
            "\tloss: 1.0165\n",
            "\tacc: 0.7611\n"
          ]
        }
      ]
    },
    {
      "cell_type": "code",
      "source": [
        "all_nodes = node_subjects.index\n",
        "all_gen = generator.flow(all_nodes)\n",
        "all_predictions = model.predict(all_gen)"
      ],
      "metadata": {
        "id": "Fms-Virz0UE5"
      },
      "execution_count": null,
      "outputs": []
    },
    {
      "cell_type": "code",
      "source": [
        "# Convert to required form\n",
        "node_predictions = target_encoding.inverse_transform(all_predictions.squeeze())"
      ],
      "metadata": {
        "id": "rCAVuCUR0s8n"
      },
      "execution_count": null,
      "outputs": []
    },
    {
      "cell_type": "code",
      "source": [
        "df = pd.DataFrame({\"Predicted\": node_predictions, \"True\": node_subjects})\n",
        "df.head(20)"
      ],
      "metadata": {
        "colab": {
          "base_uri": "https://localhost:8080/",
          "height": 669
        },
        "id": "rN2TEh6J77ap",
        "outputId": "b271c7ad-0afb-445a-cf46-df98a3df24a6"
      },
      "execution_count": null,
      "outputs": [
        {
          "output_type": "execute_result",
          "data": {
            "text/plain": [
              "                      Predicted                    True\n",
              "31336           Neural_Networks         Neural_Networks\n",
              "1061127           Rule_Learning           Rule_Learning\n",
              "1106406  Reinforcement_Learning  Reinforcement_Learning\n",
              "13195    Reinforcement_Learning  Reinforcement_Learning\n",
              "37879     Probabilistic_Methods   Probabilistic_Methods\n",
              "1126012   Probabilistic_Methods   Probabilistic_Methods\n",
              "1107140                  Theory                  Theory\n",
              "1102850         Neural_Networks         Neural_Networks\n",
              "31349           Neural_Networks         Neural_Networks\n",
              "1106418                  Theory                  Theory\n",
              "1123188         Neural_Networks         Neural_Networks\n",
              "1128990      Genetic_Algorithms      Genetic_Algorithms\n",
              "109323    Probabilistic_Methods   Probabilistic_Methods\n",
              "217139               Case_Based              Case_Based\n",
              "31353           Neural_Networks         Neural_Networks\n",
              "32083           Neural_Networks         Neural_Networks\n",
              "1126029  Reinforcement_Learning  Reinforcement_Learning\n",
              "1118017         Neural_Networks         Neural_Networks\n",
              "49482           Neural_Networks         Neural_Networks\n",
              "753265          Neural_Networks         Neural_Networks"
            ],
            "text/html": [
              "\n",
              "  <div id=\"df-b3c38602-3442-4c7b-a978-89972b9a9d69\">\n",
              "    <div class=\"colab-df-container\">\n",
              "      <div>\n",
              "<style scoped>\n",
              "    .dataframe tbody tr th:only-of-type {\n",
              "        vertical-align: middle;\n",
              "    }\n",
              "\n",
              "    .dataframe tbody tr th {\n",
              "        vertical-align: top;\n",
              "    }\n",
              "\n",
              "    .dataframe thead th {\n",
              "        text-align: right;\n",
              "    }\n",
              "</style>\n",
              "<table border=\"1\" class=\"dataframe\">\n",
              "  <thead>\n",
              "    <tr style=\"text-align: right;\">\n",
              "      <th></th>\n",
              "      <th>Predicted</th>\n",
              "      <th>True</th>\n",
              "    </tr>\n",
              "  </thead>\n",
              "  <tbody>\n",
              "    <tr>\n",
              "      <th>31336</th>\n",
              "      <td>Neural_Networks</td>\n",
              "      <td>Neural_Networks</td>\n",
              "    </tr>\n",
              "    <tr>\n",
              "      <th>1061127</th>\n",
              "      <td>Rule_Learning</td>\n",
              "      <td>Rule_Learning</td>\n",
              "    </tr>\n",
              "    <tr>\n",
              "      <th>1106406</th>\n",
              "      <td>Reinforcement_Learning</td>\n",
              "      <td>Reinforcement_Learning</td>\n",
              "    </tr>\n",
              "    <tr>\n",
              "      <th>13195</th>\n",
              "      <td>Reinforcement_Learning</td>\n",
              "      <td>Reinforcement_Learning</td>\n",
              "    </tr>\n",
              "    <tr>\n",
              "      <th>37879</th>\n",
              "      <td>Probabilistic_Methods</td>\n",
              "      <td>Probabilistic_Methods</td>\n",
              "    </tr>\n",
              "    <tr>\n",
              "      <th>1126012</th>\n",
              "      <td>Probabilistic_Methods</td>\n",
              "      <td>Probabilistic_Methods</td>\n",
              "    </tr>\n",
              "    <tr>\n",
              "      <th>1107140</th>\n",
              "      <td>Theory</td>\n",
              "      <td>Theory</td>\n",
              "    </tr>\n",
              "    <tr>\n",
              "      <th>1102850</th>\n",
              "      <td>Neural_Networks</td>\n",
              "      <td>Neural_Networks</td>\n",
              "    </tr>\n",
              "    <tr>\n",
              "      <th>31349</th>\n",
              "      <td>Neural_Networks</td>\n",
              "      <td>Neural_Networks</td>\n",
              "    </tr>\n",
              "    <tr>\n",
              "      <th>1106418</th>\n",
              "      <td>Theory</td>\n",
              "      <td>Theory</td>\n",
              "    </tr>\n",
              "    <tr>\n",
              "      <th>1123188</th>\n",
              "      <td>Neural_Networks</td>\n",
              "      <td>Neural_Networks</td>\n",
              "    </tr>\n",
              "    <tr>\n",
              "      <th>1128990</th>\n",
              "      <td>Genetic_Algorithms</td>\n",
              "      <td>Genetic_Algorithms</td>\n",
              "    </tr>\n",
              "    <tr>\n",
              "      <th>109323</th>\n",
              "      <td>Probabilistic_Methods</td>\n",
              "      <td>Probabilistic_Methods</td>\n",
              "    </tr>\n",
              "    <tr>\n",
              "      <th>217139</th>\n",
              "      <td>Case_Based</td>\n",
              "      <td>Case_Based</td>\n",
              "    </tr>\n",
              "    <tr>\n",
              "      <th>31353</th>\n",
              "      <td>Neural_Networks</td>\n",
              "      <td>Neural_Networks</td>\n",
              "    </tr>\n",
              "    <tr>\n",
              "      <th>32083</th>\n",
              "      <td>Neural_Networks</td>\n",
              "      <td>Neural_Networks</td>\n",
              "    </tr>\n",
              "    <tr>\n",
              "      <th>1126029</th>\n",
              "      <td>Reinforcement_Learning</td>\n",
              "      <td>Reinforcement_Learning</td>\n",
              "    </tr>\n",
              "    <tr>\n",
              "      <th>1118017</th>\n",
              "      <td>Neural_Networks</td>\n",
              "      <td>Neural_Networks</td>\n",
              "    </tr>\n",
              "    <tr>\n",
              "      <th>49482</th>\n",
              "      <td>Neural_Networks</td>\n",
              "      <td>Neural_Networks</td>\n",
              "    </tr>\n",
              "    <tr>\n",
              "      <th>753265</th>\n",
              "      <td>Neural_Networks</td>\n",
              "      <td>Neural_Networks</td>\n",
              "    </tr>\n",
              "  </tbody>\n",
              "</table>\n",
              "</div>\n",
              "      <button class=\"colab-df-convert\" onclick=\"convertToInteractive('df-b3c38602-3442-4c7b-a978-89972b9a9d69')\"\n",
              "              title=\"Convert this dataframe to an interactive table.\"\n",
              "              style=\"display:none;\">\n",
              "        \n",
              "  <svg xmlns=\"http://www.w3.org/2000/svg\" height=\"24px\"viewBox=\"0 0 24 24\"\n",
              "       width=\"24px\">\n",
              "    <path d=\"M0 0h24v24H0V0z\" fill=\"none\"/>\n",
              "    <path d=\"M18.56 5.44l.94 2.06.94-2.06 2.06-.94-2.06-.94-.94-2.06-.94 2.06-2.06.94zm-11 1L8.5 8.5l.94-2.06 2.06-.94-2.06-.94L8.5 2.5l-.94 2.06-2.06.94zm10 10l.94 2.06.94-2.06 2.06-.94-2.06-.94-.94-2.06-.94 2.06-2.06.94z\"/><path d=\"M17.41 7.96l-1.37-1.37c-.4-.4-.92-.59-1.43-.59-.52 0-1.04.2-1.43.59L10.3 9.45l-7.72 7.72c-.78.78-.78 2.05 0 2.83L4 21.41c.39.39.9.59 1.41.59.51 0 1.02-.2 1.41-.59l7.78-7.78 2.81-2.81c.8-.78.8-2.07 0-2.86zM5.41 20L4 18.59l7.72-7.72 1.47 1.35L5.41 20z\"/>\n",
              "  </svg>\n",
              "      </button>\n",
              "      \n",
              "  <style>\n",
              "    .colab-df-container {\n",
              "      display:flex;\n",
              "      flex-wrap:wrap;\n",
              "      gap: 12px;\n",
              "    }\n",
              "\n",
              "    .colab-df-convert {\n",
              "      background-color: #E8F0FE;\n",
              "      border: none;\n",
              "      border-radius: 50%;\n",
              "      cursor: pointer;\n",
              "      display: none;\n",
              "      fill: #1967D2;\n",
              "      height: 32px;\n",
              "      padding: 0 0 0 0;\n",
              "      width: 32px;\n",
              "    }\n",
              "\n",
              "    .colab-df-convert:hover {\n",
              "      background-color: #E2EBFA;\n",
              "      box-shadow: 0px 1px 2px rgba(60, 64, 67, 0.3), 0px 1px 3px 1px rgba(60, 64, 67, 0.15);\n",
              "      fill: #174EA6;\n",
              "    }\n",
              "\n",
              "    [theme=dark] .colab-df-convert {\n",
              "      background-color: #3B4455;\n",
              "      fill: #D2E3FC;\n",
              "    }\n",
              "\n",
              "    [theme=dark] .colab-df-convert:hover {\n",
              "      background-color: #434B5C;\n",
              "      box-shadow: 0px 1px 3px 1px rgba(0, 0, 0, 0.15);\n",
              "      filter: drop-shadow(0px 1px 2px rgba(0, 0, 0, 0.3));\n",
              "      fill: #FFFFFF;\n",
              "    }\n",
              "  </style>\n",
              "\n",
              "      <script>\n",
              "        const buttonEl =\n",
              "          document.querySelector('#df-b3c38602-3442-4c7b-a978-89972b9a9d69 button.colab-df-convert');\n",
              "        buttonEl.style.display =\n",
              "          google.colab.kernel.accessAllowed ? 'block' : 'none';\n",
              "\n",
              "        async function convertToInteractive(key) {\n",
              "          const element = document.querySelector('#df-b3c38602-3442-4c7b-a978-89972b9a9d69');\n",
              "          const dataTable =\n",
              "            await google.colab.kernel.invokeFunction('convertToInteractive',\n",
              "                                                     [key], {});\n",
              "          if (!dataTable) return;\n",
              "\n",
              "          const docLinkHtml = 'Like what you see? Visit the ' +\n",
              "            '<a target=\"_blank\" href=https://colab.research.google.com/notebooks/data_table.ipynb>data table notebook</a>'\n",
              "            + ' to learn more about interactive tables.';\n",
              "          element.innerHTML = '';\n",
              "          dataTable['output_type'] = 'display_data';\n",
              "          await google.colab.output.renderOutput(dataTable, element);\n",
              "          const docLink = document.createElement('div');\n",
              "          docLink.innerHTML = docLinkHtml;\n",
              "          element.appendChild(docLink);\n",
              "        }\n",
              "      </script>\n",
              "    </div>\n",
              "  </div>\n",
              "  "
            ]
          },
          "metadata": {},
          "execution_count": 72
        }
      ]
    },
    {
      "cell_type": "markdown",
      "source": [
        "### Node Embeddings"
      ],
      "metadata": {
        "id": "Eto3_MOY7-HS"
      }
    },
    {
      "cell_type": "code",
      "source": [
        "embedding_model = Model(inputs=x_inp, outputs=x_out)\n"
      ],
      "metadata": {
        "id": "RckVU5NZAoHQ"
      },
      "execution_count": null,
      "outputs": []
    },
    {
      "cell_type": "code",
      "source": [
        "emb = embedding_model.predict(all_gen)\n",
        "emb.shape"
      ],
      "metadata": {
        "colab": {
          "base_uri": "https://localhost:8080/"
        },
        "id": "IlUSjgqEAz7I",
        "outputId": "288afa69-b6d4-4ac1-d3bb-dbe764cdee3e"
      },
      "execution_count": null,
      "outputs": [
        {
          "output_type": "execute_result",
          "data": {
            "text/plain": [
              "(1, 2708, 16)"
            ]
          },
          "metadata": {},
          "execution_count": 74
        }
      ]
    },
    {
      "cell_type": "code",
      "source": [
        "from sklearn.decomposition import PCA\n",
        "from sklearn.manifold import TSNE\n",
        "\n",
        "transform = TSNE  # or PCA"
      ],
      "metadata": {
        "id": "XivId6BJA1yU"
      },
      "execution_count": null,
      "outputs": []
    },
    {
      "cell_type": "code",
      "source": [
        "X = emb.squeeze(0)\n",
        "X.shape"
      ],
      "metadata": {
        "colab": {
          "base_uri": "https://localhost:8080/"
        },
        "id": "U4-QLkkoBCr9",
        "outputId": "abb8f00f-2fb9-47c8-b22e-8427157d7381"
      },
      "execution_count": null,
      "outputs": [
        {
          "output_type": "execute_result",
          "data": {
            "text/plain": [
              "(2708, 16)"
            ]
          },
          "metadata": {},
          "execution_count": 76
        }
      ]
    },
    {
      "cell_type": "code",
      "source": [
        "trans = transform(n_components=2)\n",
        "X_reduced = trans.fit_transform(X)\n",
        "X_reduced.shape"
      ],
      "metadata": {
        "colab": {
          "base_uri": "https://localhost:8080/"
        },
        "id": "P7EesIv9BGjH",
        "outputId": "97de3394-e2a8-46bd-8011-0684634c24a1"
      },
      "execution_count": null,
      "outputs": [
        {
          "output_type": "stream",
          "name": "stderr",
          "text": [
            "/usr/local/lib/python3.7/dist-packages/sklearn/manifold/_t_sne.py:783: FutureWarning: The default initialization in TSNE will change from 'random' to 'pca' in 1.2.\n",
            "  FutureWarning,\n",
            "/usr/local/lib/python3.7/dist-packages/sklearn/manifold/_t_sne.py:793: FutureWarning: The default learning rate in TSNE will change from 200.0 to 'auto' in 1.2.\n",
            "  FutureWarning,\n"
          ]
        },
        {
          "output_type": "execute_result",
          "data": {
            "text/plain": [
              "(2708, 2)"
            ]
          },
          "metadata": {},
          "execution_count": 77
        }
      ]
    },
    {
      "cell_type": "code",
      "source": [
        "fig, ax = plt.subplots(figsize=(7, 7))\n",
        "ax.scatter(\n",
        "    X_reduced[:, 0],\n",
        "    X_reduced[:, 1],\n",
        "    c=node_subjects.astype(\"category\").cat.codes,\n",
        "    cmap=\"jet\",\n",
        "    alpha=0.7,\n",
        ")\n",
        "ax.set(\n",
        "    aspect=\"equal\",\n",
        "    xlabel=\"$X_1$\",\n",
        "    ylabel=\"$X_2$\",\n",
        "    title=f\"{transform.__name__} visualization of GCN embeddings for cora dataset\",\n",
        ")\n"
      ],
      "metadata": {
        "colab": {
          "base_uri": "https://localhost:8080/",
          "height": 526
        },
        "id": "KWn6saN0BIv0",
        "outputId": "0bff8f90-b403-41e3-b9fa-bad64508825a"
      },
      "execution_count": null,
      "outputs": [
        {
          "output_type": "execute_result",
          "data": {
            "text/plain": [
              "[Text(0, 0.5, '$X_2$'),\n",
              " Text(0.5, 0, '$X_1$'),\n",
              " Text(0.5, 1.0, 'TSNE visualization of GCN embeddings for cora dataset'),\n",
              " None]"
            ]
          },
          "metadata": {},
          "execution_count": 78
        },
        {
          "output_type": "display_data",
          "data": {
            "text/plain": [
              "<Figure size 504x504 with 1 Axes>"
            ],
            "image/png": "[encoded data removed]"
          },
          "metadata": {
            "needs_background": "light"
          }
        }
      ]
    },
    {
      "cell_type": "markdown",
      "source": [
        "## Node2Vec"
      ],
      "metadata": {
        "id": "Y6e_YpVMifjt"
      }
    },
    {
      "cell_type": "markdown",
      "source": [
        "### Creating the random walk"
      ],
      "metadata": {
        "id": "P4IOFWXfHSRu"
      }
    },
    {
      "cell_type": "code",
      "source": [
        "from stellargraph.data import BiasedRandomWalk\n"
      ],
      "metadata": {
        "id": "s64Ep8dLi9oQ"
      },
      "execution_count": null,
      "outputs": []
    },
    {
      "cell_type": "code",
      "source": [
        "rw = BiasedRandomWalk(G)\n",
        "\n",
        "walks = rw.run(\n",
        "    nodes=list(G.nodes()),  # root nodes\n",
        "    length=100,  # maximum length of a random walk\n",
        "    n=10,  # number of random walks per root node\n",
        "    p=0.5,  # Defines (unormalised) probability, 1/p, of returning to source node\n",
        "    q=2.0,  # Defines (unormalised) probability, 1/q, for moving away from source node\n",
        ")\n",
        "print(\"Number of random walks: {}\".format(len(walks)))"
      ],
      "metadata": {
        "colab": {
          "base_uri": "https://localhost:8080/"
        },
        "id": "QrkMT-FTH8Fm",
        "outputId": "ddc7fd93-4fd6-43c6-a4b0-8317c65f09b8"
      },
      "execution_count": null,
      "outputs": [
        {
          "output_type": "stream",
          "name": "stdout",
          "text": [
            "Number of random walks: 27080\n"
          ]
        }
      ]
    },
    {
      "cell_type": "markdown",
      "source": [
        "### Representation learning using Word2Vec"
      ],
      "metadata": {
        "id": "RLei_SiiH8XL"
      }
    },
    {
      "cell_type": "code",
      "source": [
        "from gensim.models import Word2Vec\n",
        "\n",
        "str_walks = [[str(n) for n in walk] for walk in walks]\n",
        "model = Word2Vec(str_walks, size=128, window=5, min_count=0, sg=1, workers=2, iter=1)\n"
      ],
      "metadata": {
        "id": "4HY4MbrQIZAI"
      },
      "execution_count": null,
      "outputs": []
    },
    {
      "cell_type": "code",
      "source": [
        "model.wv.vectors.shape"
      ],
      "metadata": {
        "colab": {
          "base_uri": "https://localhost:8080/"
        },
        "id": "EE_Qz6mGkzsY",
        "outputId": "3dcc6ed0-12f6-40fd-cfff-382d5b329e56"
      },
      "execution_count": null,
      "outputs": [
        {
          "output_type": "execute_result",
          "data": {
            "text/plain": [
              "(2708, 128)"
            ]
          },
          "metadata": {},
          "execution_count": 101
        }
      ]
    },
    {
      "cell_type": "code",
      "source": [
        "# The embedding vectors can be retrieved from model.wv using the node ID as key.\n",
        "model.wv[\"19231\"].shape"
      ],
      "metadata": {
        "colab": {
          "base_uri": "https://localhost:8080/"
        },
        "id": "WhXPDHpQIbDF",
        "outputId": "3721fcce-040d-4104-f1fd-c6420e58effb"
      },
      "execution_count": null,
      "outputs": [
        {
          "output_type": "execute_result",
          "data": {
            "text/plain": [
              "(128,)"
            ]
          },
          "metadata": {},
          "execution_count": 83
        }
      ]
    },
    {
      "cell_type": "markdown",
      "source": [
        "### Visualise Node Embeddings\n",
        "\n",
        "Visualize the node embeddings by performing dim reduction using TSNE. "
      ],
      "metadata": {
        "id": "E6OIO4ghIg1Z"
      }
    },
    {
      "cell_type": "code",
      "source": [
        "# Retrieve node embeddings and corresponding subjects\n",
        "node_ids = model.wv.index2word  # list of node IDs\n",
        "node_embeddings = (\n",
        "    model.wv.vectors\n",
        ")  # numpy.ndarray of size number of nodes times embeddings dimensionality\n",
        "node_targets = node_subjects[[int(node_id) for node_id in node_ids]]"
      ],
      "metadata": {
        "id": "A7GSDwVXIpRN"
      },
      "execution_count": null,
      "outputs": []
    },
    {
      "cell_type": "code",
      "source": [
        "node_embeddings.shape"
      ],
      "metadata": {
        "colab": {
          "base_uri": "https://localhost:8080/"
        },
        "id": "N_CTf6pflshd",
        "outputId": "82568ee7-401f-4cd9-ed1b-499d1d03a5c7"
      },
      "execution_count": null,
      "outputs": [
        {
          "output_type": "execute_result",
          "data": {
            "text/plain": [
              "(2708, 128)"
            ]
          },
          "metadata": {},
          "execution_count": 107
        }
      ]
    },
    {
      "cell_type": "code",
      "source": [
        "# Apply t-SNE transformation on node embeddings\n",
        "tsne = TSNE(n_components=2)\n",
        "node_embeddings_2d = tsne.fit_transform(node_embeddings)\n"
      ],
      "metadata": {
        "colab": {
          "base_uri": "https://localhost:8080/"
        },
        "id": "KO38u1L6Irc0",
        "outputId": "64cd6a20-da4f-4edb-dccd-fadf6c287013"
      },
      "execution_count": null,
      "outputs": [
        {
          "output_type": "stream",
          "name": "stderr",
          "text": [
            "/usr/local/lib/python3.7/dist-packages/sklearn/manifold/_t_sne.py:783: FutureWarning: The default initialization in TSNE will change from 'random' to 'pca' in 1.2.\n",
            "  FutureWarning,\n",
            "/usr/local/lib/python3.7/dist-packages/sklearn/manifold/_t_sne.py:793: FutureWarning: The default learning rate in TSNE will change from 200.0 to 'auto' in 1.2.\n",
            "  FutureWarning,\n"
          ]
        }
      ]
    },
    {
      "cell_type": "code",
      "source": [
        "import numpy as np \n",
        "\n",
        "# draw the points\n",
        "alpha = 0.7\n",
        "label_map = {l: i for i, l in enumerate(np.unique(node_targets))}\n",
        "node_colours = [label_map[target] for target in node_targets]\n",
        "\n",
        "plt.figure(figsize=(10, 8))\n",
        "plt.scatter(\n",
        "    node_embeddings_2d[:, 0],\n",
        "    node_embeddings_2d[:, 1],\n",
        "    c=node_colours,\n",
        "    cmap=\"jet\",\n",
        "    alpha=alpha,\n",
        ")"
      ],
      "metadata": {
        "colab": {
          "base_uri": "https://localhost:8080/",
          "height": 500
        },
        "id": "DVRciFfAIuAr",
        "outputId": "7b18f5c6-107d-44e0-8248-8c45710ab8a9"
      },
      "execution_count": null,
      "outputs": [
        {
          "output_type": "execute_result",
          "data": {
            "text/plain": [
              "<matplotlib.collections.PathCollection at 0x7f2cee17a310>"
            ]
          },
          "metadata": {},
          "execution_count": 87
        },
        {
          "output_type": "display_data",
          "data": {
            "text/plain": [
              "<Figure size 720x576 with 1 Axes>"
            ],
            "image/png": "[encoded data removed]"
          },
          "metadata": {
            "needs_background": "light"
          }
        }
      ]
    },
    {
      "cell_type": "markdown",
      "source": [
        "### Downstream task"
      ],
      "metadata": {
        "id": "uFv0Sa4MI2_L"
      }
    },
    {
      "cell_type": "code",
      "source": [
        "y_train = []\n",
        "X_train = []\n",
        "y_test = []\n",
        "X_test = []\n",
        "y_valid = []\n",
        "X_valid = []"
      ],
      "metadata": {
        "id": "5m8wh5_SqIDo"
      },
      "execution_count": null,
      "outputs": []
    },
    {
      "cell_type": "code",
      "source": [
        "test_subjects.shape"
      ],
      "metadata": {
        "colab": {
          "base_uri": "https://localhost:8080/"
        },
        "id": "ijpRvXVZrEx_",
        "outputId": "9b8b4da9-c979-4a5c-a7cd-3bad3709b9e6"
      },
      "execution_count": null,
      "outputs": [
        {
          "output_type": "execute_result",
          "data": {
            "text/plain": [
              "(2068,)"
            ]
          },
          "metadata": {},
          "execution_count": 155
        }
      ]
    },
    {
      "cell_type": "code",
      "source": [
        "# 1433 dimensional vectors\n",
        "X_dimvecs = G.node_features(nodes = G.nodes())\n",
        "\n",
        "X_train_dimvecs = []\n",
        "X_test_dimvecs = []"
      ],
      "metadata": {
        "id": "4chaZK9gudRm"
      },
      "execution_count": null,
      "outputs": []
    },
    {
      "cell_type": "code",
      "source": [
        "for i, l in enumerate(node_targets.index):\n",
        "  \n",
        "  if l in train_subjects.index:\n",
        "    X_train.append(node_embeddings[i])\n",
        "    y_train.append(node_targets[l])\n",
        "    X_train_dimvecs.append(X_dimvecs[i])\n",
        "  elif l in val_subjects.index:\n",
        "    X_valid.append(node_embeddings[i])\n",
        "    y_valid.append(node_targets[l])\n",
        "  else:\n",
        "    X_test.append(node_embeddings[i])\n",
        "    y_test.append(node_targets[l])\n",
        "    X_test_dimvecs.append(X_dimvecs[i])\n"
      ],
      "metadata": {
        "id": "d51oARWgqIDp"
      },
      "execution_count": null,
      "outputs": []
    },
    {
      "cell_type": "code",
      "source": [
        "assert len(X_train) == train_subjects.shape[0]\n",
        "assert len(X_valid) == val_subjects.shape[0]\n",
        "assert len(X_test) == test_subjects.shape[0]\n",
        "assert len(X_train) == len(X_train_dimvecs)\n",
        "assert len(X_test) == len(X_test_dimvecs)"
      ],
      "metadata": {
        "id": "sC8IxNTssPDK"
      },
      "execution_count": null,
      "outputs": []
    },
    {
      "cell_type": "code",
      "source": [
        "X_train = np.array(X_train)\n",
        "X_valid = np.array(X_valid)\n",
        "X_test = np.array(X_test)\n",
        "y_train = np.array(y_train)\n",
        "y_valid = np.array(y_valid)\n",
        "y_test = np.array(y_test)\n",
        "X_train_dimvecs = np.array(X_train_dimvecs)\n",
        "X_test_dimvecs = np.array(X_test_dimvecs)"
      ],
      "metadata": {
        "id": "18HZDNSDsDXE"
      },
      "execution_count": null,
      "outputs": []
    },
    {
      "cell_type": "code",
      "source": [
        "y_test.shape"
      ],
      "metadata": {
        "colab": {
          "base_uri": "https://localhost:8080/"
        },
        "id": "QUPouaAAs2aJ",
        "outputId": "09fe63ab-57a2-4e8d-e6e5-52e880db919d"
      },
      "execution_count": null,
      "outputs": [
        {
          "output_type": "execute_result",
          "data": {
            "text/plain": [
              "(2068,)"
            ]
          },
          "metadata": {},
          "execution_count": 160
        }
      ]
    },
    {
      "cell_type": "markdown",
      "source": [
        "## Classifier Training with Logistic Regression\n",
        "\n",
        "Example here training a logistic regressor, remember to change this to random forest. "
      ],
      "metadata": {
        "id": "JZRtI8E7JPCs"
      }
    },
    {
      "cell_type": "code",
      "source": [
        "from sklearn.linear_model import LogisticRegressionCV\n",
        "from sklearn.metrics import accuracy_score\n"
      ],
      "metadata": {
        "id": "r_CL7HQytcf-"
      },
      "execution_count": null,
      "outputs": []
    },
    {
      "cell_type": "code",
      "source": [
        "clf = LogisticRegressionCV(\n",
        "    Cs=10, cv=10, scoring=\"accuracy\", verbose=False, multi_class=\"ovr\", max_iter=300\n",
        ")\n",
        "clf.fit(X_train, y_train)"
      ],
      "metadata": {
        "colab": {
          "base_uri": "https://localhost:8080/"
        },
        "id": "OOGcr7KJJcJE",
        "outputId": "6ff5c27b-2e2f-458f-8f37-dd0a125ed4c2"
      },
      "execution_count": null,
      "outputs": [
        {
          "output_type": "execute_result",
          "data": {
            "text/plain": [
              "LogisticRegressionCV(cv=10, max_iter=300, multi_class='ovr', scoring='accuracy',\n",
              "                     verbose=False)"
            ]
          },
          "metadata": {},
          "execution_count": 162
        }
      ]
    },
    {
      "cell_type": "code",
      "source": [
        "y_pred = clf.predict(X_test)"
      ],
      "metadata": {
        "id": "ZW1gQoT5JeHg"
      },
      "execution_count": null,
      "outputs": []
    },
    {
      "cell_type": "code",
      "source": [
        "accuracy_score(y_test, y_pred)\n"
      ],
      "metadata": {
        "colab": {
          "base_uri": "https://localhost:8080/"
        },
        "id": "aDoRB47XJmZp",
        "outputId": "91979739-e73e-4dc3-f0c1-85ca62a52f8d"
      },
      "execution_count": null,
      "outputs": [
        {
          "output_type": "execute_result",
          "data": {
            "text/plain": [
              "0.6499032882011605"
            ]
          },
          "metadata": {},
          "execution_count": 164
        }
      ]
    },
    {
      "cell_type": "markdown",
      "source": [
        "## Classifier Training with Random Forests"
      ],
      "metadata": {
        "id": "D1kKhu-ZJsh_"
      }
    },
    {
      "cell_type": "code",
      "source": [
        "#Import Random Forest Model\n",
        "from sklearn.ensemble import RandomForestClassifier\n",
        "\n",
        "#Create a Gaussian Classifier\n",
        "clf=RandomForestClassifier(n_estimators=200)\n",
        "\n",
        "#Train the model \n",
        "clf.fit(X_train,y_train)\n",
        "\n",
        "# Perform Predictions\n",
        "y_pred=clf.predict(X_test)\n"
      ],
      "metadata": {
        "id": "_j5cBEZhJz7O"
      },
      "execution_count": null,
      "outputs": []
    },
    {
      "cell_type": "code",
      "source": [
        "accuracy_score(y_test, y_pred)\n"
      ],
      "metadata": {
        "colab": {
          "base_uri": "https://localhost:8080/"
        },
        "id": "zYEbgMc9xb-v",
        "outputId": "8a2becd0-fb57-4b8e-a7a5-46e0d1a179aa"
      },
      "execution_count": null,
      "outputs": [
        {
          "output_type": "execute_result",
          "data": {
            "text/plain": [
              "0.6648936170212766"
            ]
          },
          "metadata": {},
          "execution_count": 181
        }
      ]
    },
    {
      "cell_type": "markdown",
      "source": [
        "## Classifier Training with Logistic Regression with just dimensions vector\n",
        "\n",
        "Example here training a logistic regressor, remember to change this to random forest. "
      ],
      "metadata": {
        "id": "igeuKHsgvXFy"
      }
    },
    {
      "cell_type": "code",
      "source": [
        "clf = LogisticRegressionCV(\n",
        "    Cs=10, cv=10, scoring=\"accuracy\", verbose=False, multi_class=\"ovr\", max_iter=300\n",
        ")\n",
        "clf.fit(X_train_dimvecs, y_train)"
      ],
      "metadata": {
        "colab": {
          "base_uri": "https://localhost:8080/"
        },
        "outputId": "4ca9f1a0-8547-485e-fdb6-72438efe78df",
        "id": "_s3hAHttvXF4"
      },
      "execution_count": null,
      "outputs": [
        {
          "output_type": "execute_result",
          "data": {
            "text/plain": [
              "LogisticRegressionCV(cv=10, max_iter=300, multi_class='ovr', scoring='accuracy',\n",
              "                     verbose=False)"
            ]
          },
          "metadata": {},
          "execution_count": 169
        }
      ]
    },
    {
      "cell_type": "code",
      "source": [
        "y_pred = clf.predict(X_test_dimvecs)"
      ],
      "metadata": {
        "id": "r9jSs276vXF6"
      },
      "execution_count": null,
      "outputs": []
    },
    {
      "cell_type": "code",
      "source": [
        "accuracy_score(y_test, y_pred)\n"
      ],
      "metadata": {
        "colab": {
          "base_uri": "https://localhost:8080/"
        },
        "outputId": "e837f1a6-aa2d-443b-e4e3-d312b727663c",
        "id": "oUOt3tTJvXF6"
      },
      "execution_count": null,
      "outputs": [
        {
          "output_type": "execute_result",
          "data": {
            "text/plain": [
              "0.1513539651837524"
            ]
          },
          "metadata": {},
          "execution_count": 171
        }
      ]
    },
    {
      "cell_type": "markdown",
      "source": [
        "## Classifier Training with Random Forests with dim vectors"
      ],
      "metadata": {
        "id": "SoayIjhgvuI-"
      }
    },
    {
      "cell_type": "code",
      "source": [
        "#Import Random Forest Model\n",
        "from sklearn.ensemble import RandomForestClassifier\n",
        "\n",
        "#Create a Gaussian Classifier\n",
        "clf=RandomForestClassifier(n_estimators=200)\n",
        "\n",
        "#Train the model \n",
        "clf.fit(X_train_dimvecs,y_train)\n",
        "\n",
        "# Perform Predictions\n",
        "y_pred=clf.predict(X_test_dimvecs)\n"
      ],
      "metadata": {
        "id": "P8wWDiaovuJB"
      },
      "execution_count": null,
      "outputs": []
    },
    {
      "cell_type": "code",
      "source": [
        "accuracy_score(y_test, y_pred)\n"
      ],
      "metadata": {
        "colab": {
          "base_uri": "https://localhost:8080/"
        },
        "id": "e4YAAkFFv1OU",
        "outputId": "5d057a1d-2a3b-4125-af23-9a97fb0ba826"
      },
      "execution_count": null,
      "outputs": [
        {
          "output_type": "execute_result",
          "data": {
            "text/plain": [
              "0.16489361702127658"
            ]
          },
          "metadata": {},
          "execution_count": 173
        }
      ]
    },
    {
      "cell_type": "markdown",
      "source": [
        "## Combine both these features and try "
      ],
      "metadata": {
        "id": "_4LCBaM9TiRC"
      }
    },
    {
      "cell_type": "code",
      "source": [
        "X_train_comb = np.column_stack((X_train, X_train_dimvecs))\n",
        "X_test_comb = np.column_stack((X_test, X_test_dimvecs))"
      ],
      "metadata": {
        "id": "eaLTqRMWUN1q"
      },
      "execution_count": null,
      "outputs": []
    },
    {
      "cell_type": "markdown",
      "source": [
        "## Classifier Training with Logistic Regression with just combined vector\n",
        "\n",
        "Example here training a logistic regressor, remember to change this to random forest. "
      ],
      "metadata": {
        "id": "G5_vizxdw-n3"
      }
    },
    {
      "cell_type": "code",
      "source": [
        "clf = LogisticRegressionCV(\n",
        "    Cs=10, cv=10, scoring=\"accuracy\", verbose=False, multi_class=\"ovr\", max_iter=300\n",
        ")\n",
        "clf.fit(X_train_comb, y_train)"
      ],
      "metadata": {
        "colab": {
          "base_uri": "https://localhost:8080/"
        },
        "outputId": "c8b366d1-aca9-47d4-9a5b-f70e137822fb",
        "id": "Gi5VBAPlw-n4"
      },
      "execution_count": null,
      "outputs": [
        {
          "output_type": "execute_result",
          "data": {
            "text/plain": [
              "LogisticRegressionCV(cv=10, max_iter=300, multi_class='ovr', scoring='accuracy',\n",
              "                     verbose=False)"
            ]
          },
          "metadata": {},
          "execution_count": 175
        }
      ]
    },
    {
      "cell_type": "code",
      "source": [
        "y_pred = clf.predict(X_test_comb)"
      ],
      "metadata": {
        "id": "NsEWAgYyw-n4"
      },
      "execution_count": null,
      "outputs": []
    },
    {
      "cell_type": "code",
      "source": [
        "accuracy_score(y_test, y_pred)\n"
      ],
      "metadata": {
        "colab": {
          "base_uri": "https://localhost:8080/"
        },
        "outputId": "00da0c59-a3d1-4a71-de77-8b6eebf7e5fd",
        "id": "RzPt4JhCw-n5"
      },
      "execution_count": null,
      "outputs": [
        {
          "output_type": "execute_result",
          "data": {
            "text/plain": [
              "0.6025145067698259"
            ]
          },
          "metadata": {},
          "execution_count": 177
        }
      ]
    },
    {
      "cell_type": "markdown",
      "source": [
        "## Classifier Training with Random Forests with combined vectors"
      ],
      "metadata": {
        "id": "wB1-fc85w-n5"
      }
    },
    {
      "cell_type": "code",
      "source": [
        "#Import Random Forest Model\n",
        "from sklearn.ensemble import RandomForestClassifier\n",
        "\n",
        "#Create a Gaussian Classifier\n",
        "clf=RandomForestClassifier(n_estimators=200)\n",
        "\n",
        "#Train the model \n",
        "clf.fit(X_train_comb,y_train)\n",
        "\n",
        "# Perform Predictions\n",
        "y_pred=clf.predict(X_test_comb)\n"
      ],
      "metadata": {
        "id": "PQP7OB2-w-n5"
      },
      "execution_count": null,
      "outputs": []
    },
    {
      "cell_type": "code",
      "source": [
        "accuracy_score(y_test, y_pred)\n"
      ],
      "metadata": {
        "colab": {
          "base_uri": "https://localhost:8080/"
        },
        "outputId": "e86f7af4-68de-4d10-f72a-327892eed411",
        "id": "rKB7xktqw-n5"
      },
      "execution_count": null,
      "outputs": [
        {
          "output_type": "execute_result",
          "data": {
            "text/plain": [
              "0.6750483558994197"
            ]
          },
          "metadata": {},
          "execution_count": 179
        }
      ]
    },
    {
      "cell_type": "markdown",
      "source": [
        "## Results:\n",
        "\n",
        "GCN Accuracy : 76.11%\n",
        "\n",
        "Node2Vec:\n",
        "\n",
        "  1. Only Embeddings:\n",
        "    1. logreg - 64.99% \n",
        "    2. RF - 66.49%\n",
        "\n",
        "  2. Only dim vectors:\n",
        "    1. logreg - 15.13%\n",
        "    2. RF - 16.49%\n",
        "\n",
        "  3. Combined vectors:\n",
        "    1. logreg - 60.25%\n",
        "    2. RF - 67.50%"
      ],
      "metadata": {
        "id": "kGSPdOoZxXwe"
      }
    },
    {
      "cell_type": "code",
      "source": [
        ""
      ],
      "metadata": {
        "id": "GygNiX37zFI1"
      },
      "execution_count": null,
      "outputs": []
    }
  ]
}